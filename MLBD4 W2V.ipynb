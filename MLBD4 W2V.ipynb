{
 "cells": [
  {
   "cell_type": "code",
   "execution_count": 2,
   "id": "8ba96c87",
   "metadata": {},
   "outputs": [],
   "source": [
    "import warnings\n",
    "warnings.simplefilter(action='ignore', category=FutureWarning)\n",
    "\n",
    "import pandas as pd\n",
    "from pyspark.sql import SparkSession\n",
    "import pyspark.sql.functions as F\n",
    "import pyspark.sql.types as T\n",
    "from pyspark.ml.feature import Tokenizer, StopWordsRemover, Word2Vec\n",
    "from pyspark.ml import Pipeline\n",
    "from pyspark.ml.classification import LogisticRegression\n",
    "\n",
    "from sklearn.metrics import f1_score, accuracy_score, precision_score, recall_score"
   ]
  },
  {
   "cell_type": "code",
   "execution_count": 3,
   "id": "bda46570",
   "metadata": {},
   "outputs": [
    {
     "name": "stderr",
     "output_type": "stream",
     "text": [
      "Setting default log level to \"WARN\".\n",
      "To adjust logging level use sc.setLogLevel(newLevel). For SparkR, use setLogLevel(newLevel).\n"
     ]
    },
    {
     "name": "stdout",
     "output_type": "stream",
     "text": [
      "22/12/13 15:53:10 WARN NativeCodeLoader: Unable to load native-hadoop library for your platform... using builtin-java classes where applicable\n",
      "22/12/13 15:53:10 WARN Utils: Service 'SparkUI' could not bind on port 4040. Attempting port 4041.\n"
     ]
    }
   ],
   "source": [
    "spark = (SparkSession.builder\n",
    "                  .appName('MLBD Comment Classification')\n",
    "                  .enableHiveSupport()\n",
    "                  .config(\"spark.executor.memory\", \"6G\")\n",
    "                  .config(\"spark.driver.memory\",\"18G\")\n",
    "                  .config(\"spark.executor.cores\",\"7\")\n",
    "                  .config(\"spark.python.worker.memory\",\"6G\")\n",
    "                  .config(\"spark.driver.maxResultSize\",\"0\")\n",
    "                  .config(\"spark.sql.crossJoin.enabled\", \"true\")\n",
    "                  .config(\"spark.serializer\",\"org.apache.spark.serializer.KryoSerializer\")\n",
    "                  .config(\"spark.default.parallelism\",\"2\")\n",
    "                  .getOrCreate())"
   ]
  },
  {
   "cell_type": "code",
   "execution_count": 4,
   "id": "ccda4a3a",
   "metadata": {},
   "outputs": [],
   "source": [
    "df = pd.read_csv('./hw4/train.csv')\n",
    "df.comment_text.fillna(\"\", inplace=True)"
   ]
  },
  {
   "cell_type": "code",
   "execution_count": 5,
   "id": "03cb9d22",
   "metadata": {},
   "outputs": [],
   "source": [
    "train_pd = df.sample(frac=0.75,random_state=42)\n",
    "test_pd = df.drop(train_pd.index)"
   ]
  },
  {
   "cell_type": "code",
   "execution_count": 6,
   "id": "bc9614ad",
   "metadata": {},
   "outputs": [
    {
     "name": "stderr",
     "output_type": "stream",
     "text": [
      "/Users/jana/opt/anaconda3/envs/pysparkenv/lib/python3.10/site-packages/pyspark/sql/pandas/utils.py:37: DeprecationWarning: distutils Version classes are deprecated. Use packaging.version instead.\n",
      "  if LooseVersion(pandas.__version__) < LooseVersion(minimum_pandas_version):\n",
      "/Users/jana/opt/anaconda3/envs/pysparkenv/lib/python3.10/site-packages/pyspark/sql/pandas/utils.py:37: DeprecationWarning: distutils Version classes are deprecated. Use packaging.version instead.\n",
      "  if LooseVersion(pandas.__version__) < LooseVersion(minimum_pandas_version):\n",
      "/Users/jana/opt/anaconda3/envs/pysparkenv/lib/python3.10/site-packages/pyspark/sql/pandas/utils.py:37: DeprecationWarning: distutils Version classes are deprecated. Use packaging.version instead.\n",
      "  if LooseVersion(pandas.__version__) < LooseVersion(minimum_pandas_version):\n",
      "/Users/jana/opt/anaconda3/envs/pysparkenv/lib/python3.10/site-packages/pyspark/sql/pandas/utils.py:37: DeprecationWarning: distutils Version classes are deprecated. Use packaging.version instead.\n",
      "  if LooseVersion(pandas.__version__) < LooseVersion(minimum_pandas_version):\n"
     ]
    }
   ],
   "source": [
    "train, test = spark.createDataFrame(train_pd), spark.createDataFrame(test_pd)"
   ]
  },
  {
   "cell_type": "code",
   "execution_count": 7,
   "id": "686b041a",
   "metadata": {},
   "outputs": [],
   "source": [
    "with open('./hw4/stop_words.txt') as file:\n",
    "    stop_words = list(map(lambda x: x.replace('\"', '').strip(), file.readline().split(\",\")))"
   ]
  },
  {
   "cell_type": "code",
   "execution_count": 8,
   "id": "be43bd74",
   "metadata": {},
   "outputs": [],
   "source": [
    "tokenizer = Tokenizer(inputCol=\"comment_text\", outputCol=\"words\")"
   ]
  },
  {
   "cell_type": "code",
   "execution_count": 9,
   "id": "6a4c8138",
   "metadata": {},
   "outputs": [
    {
     "name": "stdout",
     "output_type": "stream",
     "text": [
      "22/12/13 15:53:18 WARN StopWordsRemover: Default locale set was [en_BY]; however, it was not found in available locales in JVM, falling back to en_US locale. Set param `locale` in order to respect another locale.\n"
     ]
    }
   ],
   "source": [
    "stop_words_remover = StopWordsRemover(inputCol=\"words\", outputCol=\"filtered\").setStopWords(stop_words)"
   ]
  },
  {
   "cell_type": "code",
   "execution_count": 10,
   "id": "a23d2900",
   "metadata": {},
   "outputs": [],
   "source": [
    "word2Vec = Word2Vec(vectorSize=5, seed=42, inputCol=\"filtered\", outputCol=\"model\")"
   ]
  },
  {
   "cell_type": "code",
   "execution_count": 11,
   "id": "dc1c2843",
   "metadata": {},
   "outputs": [
    {
     "data": {
      "text/plain": [
       "Word2Vec_3906bd50b1f9"
      ]
     },
     "execution_count": 11,
     "metadata": {},
     "output_type": "execute_result"
    }
   ],
   "source": [
    "word2Vec.setMaxIter(10)"
   ]
  },
  {
   "cell_type": "code",
   "execution_count": 12,
   "id": "3c90ddb2",
   "metadata": {},
   "outputs": [
    {
     "data": {
      "text/plain": [
       "10"
      ]
     },
     "execution_count": 12,
     "metadata": {},
     "output_type": "execute_result"
    }
   ],
   "source": [
    "word2Vec.getMaxIter()"
   ]
  },
  {
   "cell_type": "code",
   "execution_count": 13,
   "id": "11e59d04",
   "metadata": {},
   "outputs": [
    {
     "name": "stdout",
     "output_type": "stream",
     "text": [
      "22/12/13 15:53:19 WARN TaskSetManager: Stage 0 contains a task of very large size (25197 KiB). The maximum recommended task size is 1000 KiB.\n"
     ]
    },
    {
     "name": "stderr",
     "output_type": "stream",
     "text": [
      "                                                                                \r"
     ]
    },
    {
     "name": "stdout",
     "output_type": "stream",
     "text": [
      "22/12/13 15:53:23 WARN TaskSetManager: Stage 2 contains a task of very large size (25197 KiB). The maximum recommended task size is 1000 KiB.\n"
     ]
    },
    {
     "name": "stderr",
     "output_type": "stream",
     "text": [
      "[Stage 2:=============================>                             (1 + 1) / 2]\r"
     ]
    },
    {
     "name": "stdout",
     "output_type": "stream",
     "text": [
      "22/12/13 15:53:30 WARN InstanceBuilder$NativeBLAS: Failed to load implementation from:dev.ludovic.netlib.blas.JNIBLAS\n",
      "22/12/13 15:53:30 WARN InstanceBuilder$NativeBLAS: Failed to load implementation from:dev.ludovic.netlib.blas.ForeignLinkerBLAS\n",
      "22/12/13 15:53:30 WARN InstanceBuilder$JavaBLAS: Failed to load implementation from:dev.ludovic.netlib.blas.VectorBLAS\n"
     ]
    },
    {
     "name": "stderr",
     "output_type": "stream",
     "text": [
      "                                                                                \r"
     ]
    }
   ],
   "source": [
    "pipeline = Pipeline(stages=[tokenizer, stop_words_remover, word2Vec])\n",
    "pipeline_fit = pipeline.fit(train)\n",
    "\n",
    "dataset = pipeline_fit.transform(train)"
   ]
  },
  {
   "cell_type": "code",
   "execution_count": 14,
   "id": "5f2d58d0",
   "metadata": {},
   "outputs": [
    {
     "name": "stdout",
     "output_type": "stream",
     "text": [
      "22/12/13 15:55:02 WARN TaskSetManager: Stage 32 contains a task of very large size (25197 KiB). The maximum recommended task size is 1000 KiB.\n"
     ]
    },
    {
     "name": "stderr",
     "output_type": "stream",
     "text": [
      "\r",
      "[Stage 32:>                                                         (0 + 1) / 1]\r"
     ]
    },
    {
     "name": "stdout",
     "output_type": "stream",
     "text": [
      "22/12/13 15:55:06 WARN PythonRunner: Detected deadlock while completing task 0.0 in stage 32 (TID 36): Attempting to kill Python Worker\n",
      "+----------------+--------------------+-----+------------+-------+------+------+-------------+--------------------+--------------------+--------------------+\n",
      "|              id|        comment_text|toxic|severe_toxic|obscene|threat|insult|identity_hate|               words|            filtered|               model|\n",
      "+----------------+--------------------+-----+------------+-------+------+------+-------------+--------------------+--------------------+--------------------+\n",
      "|7ca72b5b9c688e9e|Geez, are you for...|    0|           0|      0|     0|     0|            0|[geez,, are, you,...|[geez,, forgetful...|[-0.0745399384200...|\n",
      "|c03f72fd8f8bf54f|Carioca RFA \\n\\nT...|    0|           0|      0|     0|     0|            0|[carioca, rfa, , ...|[carioca, rfa, su...|[0.35758345896999...|\n",
      "|9e5b8e8fc1ff2e84|\"\\n\\n Birthday \\n...|    0|           0|      0|     0|     0|            0|[\", , , birthday,...|[\", birthday, wor...|[0.43796719113985...|\n",
      "|5332799e706665a6|Pseudoscience cat...|    0|           0|      0|     0|     0|            0|[pseudoscience, c...|[pseudoscience, c...|[-0.0654704784629...|\n",
      "|dfa7d8f0b4366680|(and if such phra...|    0|           0|      0|     0|     0|            0|[(and, if, such, ...|[(and, phrase, ex...|[-0.0780776783358...|\n",
      "+----------------+--------------------+-----+------------+-------+------+------+-------------+--------------------+--------------------+--------------------+\n",
      "only showing top 5 rows\n",
      "\n"
     ]
    },
    {
     "name": "stderr",
     "output_type": "stream",
     "text": [
      "\r",
      "                                                                                \r"
     ]
    }
   ],
   "source": [
    "dataset.show(5)"
   ]
  },
  {
   "cell_type": "code",
   "execution_count": 15,
   "id": "e216af03",
   "metadata": {},
   "outputs": [
    {
     "name": "stdout",
     "output_type": "stream",
     "text": [
      "22/12/13 15:55:06 WARN TaskSetManager: Stage 33 contains a task of very large size (8395 KiB). The maximum recommended task size is 1000 KiB.\n"
     ]
    },
    {
     "name": "stderr",
     "output_type": "stream",
     "text": [
      "\r",
      "[Stage 33:>                                                         (0 + 1) / 1]\r"
     ]
    },
    {
     "name": "stdout",
     "output_type": "stream",
     "text": [
      "22/12/13 15:55:10 WARN PythonRunner: Detected deadlock while completing task 0.0 in stage 33 (TID 37): Attempting to kill Python Worker\n"
     ]
    },
    {
     "name": "stderr",
     "output_type": "stream",
     "text": [
      "\r",
      "                                                                                \r",
      "/Users/jana/opt/anaconda3/envs/pysparkenv/lib/python3.10/socket.py:776: ResourceWarning: unclosed <socket.socket fd=88, family=AddressFamily.AF_INET, type=SocketKind.SOCK_STREAM, proto=6, laddr=('127.0.0.1', 62320), raddr=('127.0.0.1', 62319)>\n",
      "  self._sock = None\n",
      "ResourceWarning: Enable tracemalloc to get the object allocation traceback\n"
     ]
    },
    {
     "data": {
      "text/plain": [
       "Row(id='00025465d4725e87')"
      ]
     },
     "execution_count": 15,
     "metadata": {},
     "output_type": "execute_result"
    }
   ],
   "source": [
    "test_res = test.select('id')\n",
    "test_res.head()"
   ]
  },
  {
   "cell_type": "code",
   "execution_count": 16,
   "id": "a00a32f6",
   "metadata": {},
   "outputs": [
    {
     "data": {
      "text/plain": [
       "['toxic', 'severe_toxic', 'obscene', 'threat', 'insult', 'identity_hate']"
      ]
     },
     "execution_count": 16,
     "metadata": {},
     "output_type": "execute_result"
    }
   ],
   "source": [
    "cols_to_predict = [i for i in train.columns if i not in ['id', 'comment_text']]\n",
    "cols_to_predict"
   ]
  },
  {
   "cell_type": "code",
   "execution_count": 17,
   "id": "b8b6204a",
   "metadata": {},
   "outputs": [],
   "source": [
    "regParam = 0.1"
   ]
  },
  {
   "cell_type": "code",
   "execution_count": 18,
   "id": "603b702a",
   "metadata": {},
   "outputs": [],
   "source": [
    "dataset_test = pipeline_fit.transform(test)"
   ]
  },
  {
   "cell_type": "code",
   "execution_count": 20,
   "id": "29e2b3e0",
   "metadata": {},
   "outputs": [
    {
     "name": "stdout",
     "output_type": "stream",
     "text": [
      "22/12/13 15:57:01 WARN TaskSetManager: Stage 35 contains a task of very large size (25197 KiB). The maximum recommended task size is 1000 KiB.\n"
     ]
    },
    {
     "name": "stderr",
     "output_type": "stream",
     "text": [
      "                                                                                \r"
     ]
    },
    {
     "name": "stdout",
     "output_type": "stream",
     "text": [
      "22/12/13 15:57:03 WARN TaskSetManager: Stage 36 contains a task of very large size (25197 KiB). The maximum recommended task size is 1000 KiB.\n"
     ]
    },
    {
     "name": "stderr",
     "output_type": "stream",
     "text": [
      "                                                                                \r"
     ]
    },
    {
     "name": "stdout",
     "output_type": "stream",
     "text": [
      "22/12/13 15:57:06 WARN TaskSetManager: Stage 37 contains a task of very large size (25197 KiB). The maximum recommended task size is 1000 KiB.\n",
      "22/12/13 15:57:06 WARN TaskSetManager: Stage 38 contains a task of very large size (25197 KiB). The maximum recommended task size is 1000 KiB.\n",
      "22/12/13 15:57:06 WARN TaskSetManager: Stage 39 contains a task of very large size (25197 KiB). The maximum recommended task size is 1000 KiB.\n",
      "22/12/13 15:57:06 WARN TaskSetManager: Stage 40 contains a task of very large size (25197 KiB). The maximum recommended task size is 1000 KiB.\n",
      "22/12/13 15:57:06 WARN TaskSetManager: Stage 41 contains a task of very large size (25197 KiB). The maximum recommended task size is 1000 KiB.\n",
      "22/12/13 15:57:06 WARN TaskSetManager: Stage 42 contains a task of very large size (25197 KiB). The maximum recommended task size is 1000 KiB.\n",
      "22/12/13 15:57:06 WARN TaskSetManager: Stage 43 contains a task of very large size (25197 KiB). The maximum recommended task size is 1000 KiB.\n",
      "22/12/13 15:57:06 WARN TaskSetManager: Stage 44 contains a task of very large size (25197 KiB). The maximum recommended task size is 1000 KiB.\n",
      "22/12/13 15:57:07 WARN TaskSetManager: Stage 45 contains a task of very large size (25197 KiB). The maximum recommended task size is 1000 KiB.\n",
      "22/12/13 15:57:07 WARN TaskSetManager: Stage 46 contains a task of very large size (25197 KiB). The maximum recommended task size is 1000 KiB.\n",
      "22/12/13 15:57:07 WARN TaskSetManager: Stage 47 contains a task of very large size (8395 KiB). The maximum recommended task size is 1000 KiB.\n",
      "22/12/13 15:57:07 WARN TaskSetManager: Stage 48 contains a task of very large size (8395 KiB). The maximum recommended task size is 1000 KiB.\n"
     ]
    },
    {
     "name": "stderr",
     "output_type": "stream",
     "text": [
      "                                                                                \r"
     ]
    },
    {
     "name": "stdout",
     "output_type": "stream",
     "text": [
      "+----------------+-----+\n",
      "|              id|toxic|\n",
      "+----------------+-----+\n",
      "|002264ea4d5f2887|  0.0|\n",
      "|0310c62027c1cc81|  0.0|\n",
      "|03effbaf048d353d|  0.0|\n",
      "|03f1f91ce9efe2c4|  0.0|\n",
      "|04d0cce9eb0667a8|  0.0|\n",
      "+----------------+-----+\n",
      "only showing top 5 rows\n",
      "\n",
      "22/12/13 15:57:08 WARN TaskSetManager: Stage 53 contains a task of very large size (25197 KiB). The maximum recommended task size is 1000 KiB.\n"
     ]
    },
    {
     "name": "stderr",
     "output_type": "stream",
     "text": [
      "                                                                                \r"
     ]
    },
    {
     "name": "stdout",
     "output_type": "stream",
     "text": [
      "22/12/13 15:57:10 WARN TaskSetManager: Stage 54 contains a task of very large size (25197 KiB). The maximum recommended task size is 1000 KiB.\n"
     ]
    },
    {
     "name": "stderr",
     "output_type": "stream",
     "text": [
      "                                                                                \r"
     ]
    },
    {
     "name": "stdout",
     "output_type": "stream",
     "text": [
      "22/12/13 15:57:17 WARN TaskSetManager: Stage 55 contains a task of very large size (25197 KiB). The maximum recommended task size is 1000 KiB.\n",
      "22/12/13 15:57:17 WARN TaskSetManager: Stage 56 contains a task of very large size (25197 KiB). The maximum recommended task size is 1000 KiB.\n",
      "22/12/13 15:57:17 WARN TaskSetManager: Stage 57 contains a task of very large size (25197 KiB). The maximum recommended task size is 1000 KiB.\n",
      "22/12/13 15:57:18 WARN TaskSetManager: Stage 58 contains a task of very large size (25197 KiB). The maximum recommended task size is 1000 KiB.\n",
      "22/12/13 15:57:18 WARN TaskSetManager: Stage 59 contains a task of very large size (25197 KiB). The maximum recommended task size is 1000 KiB.\n",
      "22/12/13 15:57:18 WARN TaskSetManager: Stage 60 contains a task of very large size (25197 KiB). The maximum recommended task size is 1000 KiB.\n",
      "22/12/13 15:57:18 WARN TaskSetManager: Stage 61 contains a task of very large size (25197 KiB). The maximum recommended task size is 1000 KiB.\n",
      "22/12/13 15:57:18 WARN TaskSetManager: Stage 62 contains a task of very large size (25197 KiB). The maximum recommended task size is 1000 KiB.\n",
      "22/12/13 15:57:18 WARN TaskSetManager: Stage 63 contains a task of very large size (25197 KiB). The maximum recommended task size is 1000 KiB.\n",
      "22/12/13 15:57:18 WARN TaskSetManager: Stage 64 contains a task of very large size (25197 KiB). The maximum recommended task size is 1000 KiB.\n",
      "22/12/13 15:57:18 WARN TaskSetManager: Stage 65 contains a task of very large size (25197 KiB). The maximum recommended task size is 1000 KiB.\n",
      "22/12/13 15:57:18 WARN TaskSetManager: Stage 66 contains a task of very large size (25197 KiB). The maximum recommended task size is 1000 KiB.\n",
      "22/12/13 15:57:18 WARN TaskSetManager: Stage 67 contains a task of very large size (25197 KiB). The maximum recommended task size is 1000 KiB.\n",
      "22/12/13 15:57:18 WARN TaskSetManager: Stage 68 contains a task of very large size (8395 KiB). The maximum recommended task size is 1000 KiB.\n",
      "22/12/13 15:57:18 WARN TaskSetManager: Stage 69 contains a task of very large size (8395 KiB). The maximum recommended task size is 1000 KiB.\n",
      "22/12/13 15:57:18 WARN TaskSetManager: Stage 70 contains a task of very large size (8395 KiB). The maximum recommended task size is 1000 KiB.\n"
     ]
    },
    {
     "name": "stderr",
     "output_type": "stream",
     "text": [
      "                                                                                \r"
     ]
    },
    {
     "name": "stdout",
     "output_type": "stream",
     "text": [
      "+----------------+-----+------------+\n",
      "|              id|toxic|severe_toxic|\n",
      "+----------------+-----+------------+\n",
      "|002264ea4d5f2887|  0.0|         0.0|\n",
      "|0310c62027c1cc81|  0.0|         0.0|\n",
      "|03effbaf048d353d|  0.0|         0.0|\n",
      "|03f1f91ce9efe2c4|  0.0|         0.0|\n",
      "|04d0cce9eb0667a8|  0.0|         0.0|\n",
      "+----------------+-----+------------+\n",
      "only showing top 5 rows\n",
      "\n",
      "22/12/13 15:57:20 WARN TaskSetManager: Stage 77 contains a task of very large size (25197 KiB). The maximum recommended task size is 1000 KiB.\n"
     ]
    },
    {
     "name": "stderr",
     "output_type": "stream",
     "text": [
      "                                                                                \r"
     ]
    },
    {
     "name": "stdout",
     "output_type": "stream",
     "text": [
      "22/12/13 15:57:22 WARN TaskSetManager: Stage 78 contains a task of very large size (25197 KiB). The maximum recommended task size is 1000 KiB.\n"
     ]
    },
    {
     "name": "stderr",
     "output_type": "stream",
     "text": [
      "                                                                                \r"
     ]
    },
    {
     "name": "stdout",
     "output_type": "stream",
     "text": [
      "22/12/13 15:57:25 WARN TaskSetManager: Stage 79 contains a task of very large size (25197 KiB). The maximum recommended task size is 1000 KiB.\n",
      "22/12/13 15:57:25 WARN TaskSetManager: Stage 80 contains a task of very large size (25197 KiB). The maximum recommended task size is 1000 KiB.\n",
      "22/12/13 15:57:25 WARN TaskSetManager: Stage 81 contains a task of very large size (25197 KiB). The maximum recommended task size is 1000 KiB.\n",
      "22/12/13 15:57:25 WARN TaskSetManager: Stage 82 contains a task of very large size (25197 KiB). The maximum recommended task size is 1000 KiB.\n",
      "22/12/13 15:57:25 WARN TaskSetManager: Stage 83 contains a task of very large size (25197 KiB). The maximum recommended task size is 1000 KiB.\n",
      "22/12/13 15:57:25 WARN TaskSetManager: Stage 84 contains a task of very large size (25197 KiB). The maximum recommended task size is 1000 KiB.\n",
      "22/12/13 15:57:25 WARN TaskSetManager: Stage 85 contains a task of very large size (25197 KiB). The maximum recommended task size is 1000 KiB.\n",
      "22/12/13 15:57:25 WARN TaskSetManager: Stage 86 contains a task of very large size (25197 KiB). The maximum recommended task size is 1000 KiB.\n",
      "22/12/13 15:57:25 WARN TaskSetManager: Stage 87 contains a task of very large size (25197 KiB). The maximum recommended task size is 1000 KiB.\n",
      "22/12/13 15:57:26 WARN TaskSetManager: Stage 88 contains a task of very large size (25197 KiB). The maximum recommended task size is 1000 KiB.\n",
      "22/12/13 15:57:26 WARN TaskSetManager: Stage 89 contains a task of very large size (25197 KiB). The maximum recommended task size is 1000 KiB.\n",
      "22/12/13 15:57:26 WARN TaskSetManager: Stage 90 contains a task of very large size (8395 KiB). The maximum recommended task size is 1000 KiB.\n",
      "22/12/13 15:57:26 WARN TaskSetManager: Stage 91 contains a task of very large size (8395 KiB). The maximum recommended task size is 1000 KiB.\n",
      "22/12/13 15:57:26 WARN TaskSetManager: Stage 92 contains a task of very large size (8395 KiB). The maximum recommended task size is 1000 KiB.\n",
      "22/12/13 15:57:26 WARN TaskSetManager: Stage 93 contains a task of very large size (8395 KiB). The maximum recommended task size is 1000 KiB.\n"
     ]
    },
    {
     "name": "stderr",
     "output_type": "stream",
     "text": [
      "                                                                                \r"
     ]
    },
    {
     "name": "stdout",
     "output_type": "stream",
     "text": [
      "+----------------+-----+------------+-------+\n",
      "|              id|toxic|severe_toxic|obscene|\n",
      "+----------------+-----+------------+-------+\n",
      "|002264ea4d5f2887|  0.0|         0.0|    0.0|\n",
      "|0310c62027c1cc81|  0.0|         0.0|    0.0|\n",
      "|03effbaf048d353d|  0.0|         0.0|    0.0|\n",
      "|03f1f91ce9efe2c4|  0.0|         0.0|    0.0|\n",
      "|04d0cce9eb0667a8|  0.0|         0.0|    0.0|\n",
      "+----------------+-----+------------+-------+\n",
      "only showing top 5 rows\n",
      "\n",
      "22/12/13 15:57:28 WARN TaskSetManager: Stage 102 contains a task of very large size (25197 KiB). The maximum recommended task size is 1000 KiB.\n"
     ]
    },
    {
     "name": "stderr",
     "output_type": "stream",
     "text": [
      "                                                                                \r"
     ]
    },
    {
     "name": "stdout",
     "output_type": "stream",
     "text": [
      "22/12/13 15:57:31 WARN TaskSetManager: Stage 103 contains a task of very large size (25197 KiB). The maximum recommended task size is 1000 KiB.\n"
     ]
    },
    {
     "name": "stderr",
     "output_type": "stream",
     "text": [
      "                                                                                \r"
     ]
    },
    {
     "name": "stdout",
     "output_type": "stream",
     "text": [
      "22/12/13 15:57:33 WARN TaskSetManager: Stage 104 contains a task of very large size (25197 KiB). The maximum recommended task size is 1000 KiB.\n",
      "22/12/13 15:57:33 WARN TaskSetManager: Stage 105 contains a task of very large size (25197 KiB). The maximum recommended task size is 1000 KiB.\n",
      "22/12/13 15:57:33 WARN TaskSetManager: Stage 106 contains a task of very large size (25197 KiB). The maximum recommended task size is 1000 KiB.\n",
      "22/12/13 15:57:33 WARN TaskSetManager: Stage 107 contains a task of very large size (25197 KiB). The maximum recommended task size is 1000 KiB.\n",
      "22/12/13 15:57:33 WARN TaskSetManager: Stage 108 contains a task of very large size (25197 KiB). The maximum recommended task size is 1000 KiB.\n",
      "22/12/13 15:57:33 WARN TaskSetManager: Stage 109 contains a task of very large size (25197 KiB). The maximum recommended task size is 1000 KiB.\n",
      "22/12/13 15:57:33 WARN TaskSetManager: Stage 110 contains a task of very large size (25197 KiB). The maximum recommended task size is 1000 KiB.\n",
      "22/12/13 15:57:33 WARN TaskSetManager: Stage 111 contains a task of very large size (25197 KiB). The maximum recommended task size is 1000 KiB.\n",
      "22/12/13 15:57:33 WARN TaskSetManager: Stage 112 contains a task of very large size (25197 KiB). The maximum recommended task size is 1000 KiB.\n",
      "22/12/13 15:57:33 WARN TaskSetManager: Stage 113 contains a task of very large size (25197 KiB). The maximum recommended task size is 1000 KiB.\n",
      "22/12/13 15:57:34 WARN TaskSetManager: Stage 114 contains a task of very large size (25197 KiB). The maximum recommended task size is 1000 KiB.\n",
      "22/12/13 15:57:34 WARN TaskSetManager: Stage 115 contains a task of very large size (25197 KiB). The maximum recommended task size is 1000 KiB.\n",
      "22/12/13 15:57:34 WARN TaskSetManager: Stage 116 contains a task of very large size (8395 KiB). The maximum recommended task size is 1000 KiB.\n",
      "22/12/13 15:57:34 WARN TaskSetManager: Stage 117 contains a task of very large size (8395 KiB). The maximum recommended task size is 1000 KiB.\n",
      "22/12/13 15:57:34 WARN TaskSetManager: Stage 118 contains a task of very large size (8395 KiB). The maximum recommended task size is 1000 KiB.\n",
      "22/12/13 15:57:34 WARN TaskSetManager: Stage 119 contains a task of very large size (8395 KiB). The maximum recommended task size is 1000 KiB.\n"
     ]
    },
    {
     "name": "stderr",
     "output_type": "stream",
     "text": [
      "\r",
      "[Stage 116:>  (0 + 2) / 2][Stage 117:>  (0 + 2) / 2][Stage 118:>  (0 + 2) / 2]\r"
     ]
    },
    {
     "name": "stdout",
     "output_type": "stream",
     "text": [
      "22/12/13 15:57:35 WARN TaskSetManager: Stage 120 contains a task of very large size (8395 KiB). The maximum recommended task size is 1000 KiB.\n"
     ]
    },
    {
     "name": "stderr",
     "output_type": "stream",
     "text": [
      "                                                                                \r"
     ]
    },
    {
     "name": "stdout",
     "output_type": "stream",
     "text": [
      "+----------------+-----+------------+-------+------+\n",
      "|              id|toxic|severe_toxic|obscene|threat|\n",
      "+----------------+-----+------------+-------+------+\n",
      "|002264ea4d5f2887|  0.0|         0.0|    0.0|   0.0|\n",
      "|0310c62027c1cc81|  0.0|         0.0|    0.0|   0.0|\n",
      "|03effbaf048d353d|  0.0|         0.0|    0.0|   0.0|\n",
      "|03f1f91ce9efe2c4|  0.0|         0.0|    0.0|   0.0|\n",
      "|04d0cce9eb0667a8|  0.0|         0.0|    0.0|   0.0|\n",
      "+----------------+-----+------------+-------+------+\n",
      "only showing top 5 rows\n",
      "\n",
      "22/12/13 15:57:37 WARN TaskSetManager: Stage 131 contains a task of very large size (25197 KiB). The maximum recommended task size is 1000 KiB.\n"
     ]
    },
    {
     "name": "stderr",
     "output_type": "stream",
     "text": [
      "                                                                                \r"
     ]
    },
    {
     "name": "stdout",
     "output_type": "stream",
     "text": [
      "22/12/13 15:57:40 WARN TaskSetManager: Stage 132 contains a task of very large size (25197 KiB). The maximum recommended task size is 1000 KiB.\n"
     ]
    },
    {
     "name": "stderr",
     "output_type": "stream",
     "text": [
      "                                                                                \r"
     ]
    },
    {
     "name": "stdout",
     "output_type": "stream",
     "text": [
      "22/12/13 15:57:42 WARN TaskSetManager: Stage 133 contains a task of very large size (25197 KiB). The maximum recommended task size is 1000 KiB.\n",
      "22/12/13 15:57:42 WARN TaskSetManager: Stage 134 contains a task of very large size (25197 KiB). The maximum recommended task size is 1000 KiB.\n",
      "22/12/13 15:57:42 WARN TaskSetManager: Stage 135 contains a task of very large size (25197 KiB). The maximum recommended task size is 1000 KiB.\n",
      "22/12/13 15:57:42 WARN TaskSetManager: Stage 136 contains a task of very large size (25197 KiB). The maximum recommended task size is 1000 KiB.\n",
      "22/12/13 15:57:42 WARN TaskSetManager: Stage 137 contains a task of very large size (25197 KiB). The maximum recommended task size is 1000 KiB.\n",
      "22/12/13 15:57:42 WARN TaskSetManager: Stage 138 contains a task of very large size (25197 KiB). The maximum recommended task size is 1000 KiB.\n",
      "22/12/13 15:57:42 WARN TaskSetManager: Stage 139 contains a task of very large size (25197 KiB). The maximum recommended task size is 1000 KiB.\n",
      "22/12/13 15:57:42 WARN TaskSetManager: Stage 140 contains a task of very large size (25197 KiB). The maximum recommended task size is 1000 KiB.\n",
      "22/12/13 15:57:42 WARN TaskSetManager: Stage 141 contains a task of very large size (25197 KiB). The maximum recommended task size is 1000 KiB.\n",
      "22/12/13 15:57:42 WARN TaskSetManager: Stage 142 contains a task of very large size (25197 KiB). The maximum recommended task size is 1000 KiB.\n",
      "22/12/13 15:57:42 WARN TaskSetManager: Stage 143 contains a task of very large size (25197 KiB). The maximum recommended task size is 1000 KiB.\n",
      "22/12/13 15:57:42 WARN TaskSetManager: Stage 144 contains a task of very large size (8395 KiB). The maximum recommended task size is 1000 KiB.\n",
      "22/12/13 15:57:42 WARN TaskSetManager: Stage 145 contains a task of very large size (8395 KiB). The maximum recommended task size is 1000 KiB.\n",
      "22/12/13 15:57:42 WARN TaskSetManager: Stage 146 contains a task of very large size (8395 KiB). The maximum recommended task size is 1000 KiB.\n",
      "22/12/13 15:57:42 WARN TaskSetManager: Stage 147 contains a task of very large size (8395 KiB). The maximum recommended task size is 1000 KiB.\n",
      "22/12/13 15:57:43 WARN TaskSetManager: Stage 148 contains a task of very large size (8395 KiB). The maximum recommended task size is 1000 KiB.\n"
     ]
    },
    {
     "name": "stderr",
     "output_type": "stream",
     "text": [
      "\r",
      "[Stage 145:>  (0 + 2) / 2][Stage 146:>  (0 + 2) / 2][Stage 147:>  (0 + 2) / 2]\r"
     ]
    },
    {
     "name": "stdout",
     "output_type": "stream",
     "text": [
      "22/12/13 15:57:44 WARN TaskSetManager: Stage 149 contains a task of very large size (8395 KiB). The maximum recommended task size is 1000 KiB.\n"
     ]
    },
    {
     "name": "stderr",
     "output_type": "stream",
     "text": [
      "                                                                                \r"
     ]
    },
    {
     "name": "stdout",
     "output_type": "stream",
     "text": [
      "+----------------+-----+------------+-------+------+------+\n",
      "|              id|toxic|severe_toxic|obscene|threat|insult|\n",
      "+----------------+-----+------------+-------+------+------+\n",
      "|002264ea4d5f2887|  0.0|         0.0|    0.0|   0.0|   0.0|\n",
      "|0310c62027c1cc81|  0.0|         0.0|    0.0|   0.0|   0.0|\n",
      "|03effbaf048d353d|  0.0|         0.0|    0.0|   0.0|   0.0|\n",
      "|03f1f91ce9efe2c4|  0.0|         0.0|    0.0|   0.0|   0.0|\n",
      "|04d0cce9eb0667a8|  0.0|         0.0|    0.0|   0.0|   0.0|\n",
      "+----------------+-----+------------+-------+------+------+\n",
      "only showing top 5 rows\n",
      "\n",
      "22/12/13 15:57:45 WARN TaskSetManager: Stage 162 contains a task of very large size (25197 KiB). The maximum recommended task size is 1000 KiB.\n"
     ]
    },
    {
     "name": "stderr",
     "output_type": "stream",
     "text": [
      "                                                                                \r"
     ]
    },
    {
     "name": "stdout",
     "output_type": "stream",
     "text": [
      "22/12/13 15:57:47 WARN TaskSetManager: Stage 163 contains a task of very large size (25197 KiB). The maximum recommended task size is 1000 KiB.\n"
     ]
    },
    {
     "name": "stderr",
     "output_type": "stream",
     "text": [
      "                                                                                \r"
     ]
    },
    {
     "name": "stdout",
     "output_type": "stream",
     "text": [
      "22/12/13 15:57:49 WARN TaskSetManager: Stage 164 contains a task of very large size (25197 KiB). The maximum recommended task size is 1000 KiB.\n",
      "22/12/13 15:57:49 WARN TaskSetManager: Stage 165 contains a task of very large size (25197 KiB). The maximum recommended task size is 1000 KiB.\n",
      "22/12/13 15:57:49 WARN TaskSetManager: Stage 166 contains a task of very large size (25197 KiB). The maximum recommended task size is 1000 KiB.\n",
      "22/12/13 15:57:49 WARN TaskSetManager: Stage 167 contains a task of very large size (25197 KiB). The maximum recommended task size is 1000 KiB.\n",
      "22/12/13 15:57:49 WARN TaskSetManager: Stage 168 contains a task of very large size (25197 KiB). The maximum recommended task size is 1000 KiB.\n",
      "22/12/13 15:57:49 WARN TaskSetManager: Stage 169 contains a task of very large size (25197 KiB). The maximum recommended task size is 1000 KiB.\n",
      "22/12/13 15:57:49 WARN TaskSetManager: Stage 170 contains a task of very large size (25197 KiB). The maximum recommended task size is 1000 KiB.\n",
      "22/12/13 15:57:50 WARN TaskSetManager: Stage 171 contains a task of very large size (25197 KiB). The maximum recommended task size is 1000 KiB.\n",
      "22/12/13 15:57:50 WARN TaskSetManager: Stage 172 contains a task of very large size (25197 KiB). The maximum recommended task size is 1000 KiB.\n",
      "22/12/13 15:57:50 WARN TaskSetManager: Stage 173 contains a task of very large size (25197 KiB). The maximum recommended task size is 1000 KiB.\n",
      "22/12/13 15:57:50 WARN TaskSetManager: Stage 174 contains a task of very large size (25197 KiB). The maximum recommended task size is 1000 KiB.\n",
      "22/12/13 15:57:50 WARN TaskSetManager: Stage 175 contains a task of very large size (8395 KiB). The maximum recommended task size is 1000 KiB.\n",
      "22/12/13 15:57:50 WARN TaskSetManager: Stage 176 contains a task of very large size (8395 KiB). The maximum recommended task size is 1000 KiB.\n",
      "22/12/13 15:57:50 WARN TaskSetManager: Stage 177 contains a task of very large size (8395 KiB). The maximum recommended task size is 1000 KiB.\n",
      "22/12/13 15:57:50 WARN TaskSetManager: Stage 178 contains a task of very large size (8395 KiB). The maximum recommended task size is 1000 KiB.\n",
      "22/12/13 15:57:50 WARN TaskSetManager: Stage 179 contains a task of very large size (8395 KiB). The maximum recommended task size is 1000 KiB.\n"
     ]
    },
    {
     "name": "stderr",
     "output_type": "stream",
     "text": [
      "\r",
      "[Stage 175:=> (1 + 1) / 2][Stage 176:>  (0 + 2) / 2][Stage 177:>  (0 + 2) / 2]\r"
     ]
    },
    {
     "name": "stdout",
     "output_type": "stream",
     "text": [
      "22/12/13 15:57:52 WARN TaskSetManager: Stage 180 contains a task of very large size (8395 KiB). The maximum recommended task size is 1000 KiB.\n",
      "22/12/13 15:57:52 WARN TaskSetManager: Stage 181 contains a task of very large size (8395 KiB). The maximum recommended task size is 1000 KiB.\n"
     ]
    },
    {
     "name": "stderr",
     "output_type": "stream",
     "text": [
      "[Stage 175:============================>                            (1 + 1) / 2]\r"
     ]
    },
    {
     "name": "stdout",
     "output_type": "stream",
     "text": [
      "+----------------+-----+------------+-------+------+------+-------------+\n",
      "|              id|toxic|severe_toxic|obscene|threat|insult|identity_hate|\n",
      "+----------------+-----+------------+-------+------+------+-------------+\n",
      "|002264ea4d5f2887|  0.0|         0.0|    0.0|   0.0|   0.0|          0.0|\n",
      "|0310c62027c1cc81|  0.0|         0.0|    0.0|   0.0|   0.0|          0.0|\n",
      "|03effbaf048d353d|  0.0|         0.0|    0.0|   0.0|   0.0|          0.0|\n",
      "|03f1f91ce9efe2c4|  0.0|         0.0|    0.0|   0.0|   0.0|          0.0|\n",
      "|04d0cce9eb0667a8|  0.0|         0.0|    0.0|   0.0|   0.0|          0.0|\n",
      "+----------------+-----+------------+-------+------+------+-------------+\n",
      "only showing top 5 rows\n",
      "\n"
     ]
    },
    {
     "name": "stderr",
     "output_type": "stream",
     "text": [
      "\r",
      "                                                                                \r"
     ]
    }
   ],
   "source": [
    "for col in cols_to_predict:\n",
    "    logreg = LogisticRegression(featuresCol='model', labelCol=col, regParam=regParam)\n",
    "    model = logreg.fit(dataset)\n",
    "    res = model.transform(dataset_test)\n",
    "    test_res = test_res.join(res.select('id', 'prediction'), on=\"id\")\n",
    "    test_res = test_res.withColumnRenamed(\"prediction\", col)\n",
    "    test_res.show(5)"
   ]
  },
  {
   "cell_type": "code",
   "execution_count": 21,
   "id": "6c9d64f5",
   "metadata": {},
   "outputs": [
    {
     "name": "stderr",
     "output_type": "stream",
     "text": [
      "/Users/jana/opt/anaconda3/envs/pysparkenv/lib/python3.10/site-packages/pyspark/sql/pandas/utils.py:37: DeprecationWarning: distutils Version classes are deprecated. Use packaging.version instead.\n",
      "  if LooseVersion(pandas.__version__) < LooseVersion(minimum_pandas_version):\n",
      "/Users/jana/opt/anaconda3/envs/pysparkenv/lib/python3.10/site-packages/pyspark/sql/pandas/utils.py:37: DeprecationWarning: distutils Version classes are deprecated. Use packaging.version instead.\n",
      "  if LooseVersion(pandas.__version__) < LooseVersion(minimum_pandas_version):\n"
     ]
    },
    {
     "name": "stdout",
     "output_type": "stream",
     "text": [
      "22/12/13 15:58:21 WARN TaskSetManager: Stage 196 contains a task of very large size (8395 KiB). The maximum recommended task size is 1000 KiB.\n",
      "22/12/13 15:58:21 WARN TaskSetManager: Stage 197 contains a task of very large size (8395 KiB). The maximum recommended task size is 1000 KiB.\n",
      "22/12/13 15:58:21 WARN TaskSetManager: Stage 198 contains a task of very large size (8395 KiB). The maximum recommended task size is 1000 KiB.\n",
      "22/12/13 15:58:21 WARN TaskSetManager: Stage 199 contains a task of very large size (8395 KiB). The maximum recommended task size is 1000 KiB.\n",
      "22/12/13 15:58:22 WARN TaskSetManager: Stage 200 contains a task of very large size (8395 KiB). The maximum recommended task size is 1000 KiB.\n"
     ]
    },
    {
     "name": "stderr",
     "output_type": "stream",
     "text": [
      "\r",
      "[Stage 197:>  (0 + 2) / 2][Stage 198:>  (0 + 2) / 2][Stage 199:>  (0 + 2) / 2]\r"
     ]
    },
    {
     "name": "stdout",
     "output_type": "stream",
     "text": [
      "22/12/13 15:58:23 WARN TaskSetManager: Stage 201 contains a task of very large size (8395 KiB). The maximum recommended task size is 1000 KiB.\n",
      "22/12/13 15:58:24 WARN TaskSetManager: Stage 202 contains a task of very large size (8395 KiB). The maximum recommended task size is 1000 KiB.\n"
     ]
    },
    {
     "name": "stderr",
     "output_type": "stream",
     "text": [
      "/Users/jana/opt/anaconda3/envs/pysparkenv/lib/python3.10/socket.py:776: ResourceWarning: unclosed <socket.socket fd=88, family=AddressFamily.AF_INET, type=SocketKind.SOCK_STREAM, proto=6, laddr=('127.0.0.1', 62352), raddr=('127.0.0.1', 62351)>\n",
      "  self._sock = None\n",
      "ResourceWarning: Enable tracemalloc to get the object allocation traceback\n"
     ]
    }
   ],
   "source": [
    "test_res_pd = test_res.toPandas()"
   ]
  },
  {
   "cell_type": "code",
   "execution_count": 52,
   "id": "c344dee9",
   "metadata": {},
   "outputs": [],
   "source": [
    "test_res_pd = test_res_pd.sort_values(by=['id'])"
   ]
  },
  {
   "cell_type": "code",
   "execution_count": 53,
   "id": "5ac8a011",
   "metadata": {},
   "outputs": [],
   "source": [
    "test_res_real = test_pd.sort_values(by=['id'])"
   ]
  },
  {
   "cell_type": "code",
   "execution_count": 24,
   "id": "1fa21253",
   "metadata": {},
   "outputs": [],
   "source": [
    "test_res_pd.toxic = test_res_pd.toxic.astype(int)\n",
    "test_res_pd.severe_toxic = test_res_pd.severe_toxic.astype(int)\n",
    "test_res_pd.obscene = test_res_pd.obscene.astype(int)\n",
    "test_res_pd.threat = test_res_pd.threat.astype(int)\n",
    "test_res_pd.insult = test_res_pd.insult.astype(int)\n",
    "test_res_pd.identity_hate = test_res_pd.identity_hate.astype(int)"
   ]
  },
  {
   "cell_type": "code",
   "execution_count": 49,
   "id": "ea5d684c",
   "metadata": {},
   "outputs": [
    {
     "name": "stdout",
     "output_type": "stream",
     "text": [
      "0.957032029700994\n",
      "0.9185889084731907\n",
      "0.9988333981445475\n",
      "0.9190584814378462\n"
     ]
    }
   ],
   "source": [
    "print(f1_score(test_res_pd.toxic, test_res_real.toxic))\n",
    "print(recall_score(test_res_pd.toxic, test_res_real.toxic))\n",
    "print(precision_score(test_res_pd.toxic, test_res_real.toxic))\n",
    "print(accuracy_score(test_res_pd.toxic, test_res_real.toxic))"
   ]
  },
  {
   "cell_type": "code",
   "execution_count": 48,
   "id": "3cf8b450",
   "metadata": {},
   "outputs": [
    {
     "name": "stdout",
     "output_type": "stream",
     "text": [
      "0.9948847171475369\n",
      "0.9898463158422544\n",
      "0.9999746726439227\n",
      "0.989822775925601\n"
     ]
    }
   ],
   "source": [
    "print(f1_score(test_res_pd.severe_toxic, test_res_real.severe_toxic))\n",
    "print(recall_score(test_res_pd.severe_toxic, test_res_real.severe_toxic))\n",
    "print(precision_score(test_res_pd.severe_toxic, test_res_real.severe_toxic))\n",
    "print(accuracy_score(test_res_pd.severe_toxic, test_res_real.severe_toxic))"
   ]
  },
  {
   "cell_type": "code",
   "execution_count": 42,
   "id": "50fa9906",
   "metadata": {},
   "outputs": [
    {
     "name": "stdout",
     "output_type": "stream",
     "text": [
      "0.9752031889009681\n",
      "0.9529542695265075\n",
      "0.998515848616559\n",
      "0.9519715238262352\n"
     ]
    }
   ],
   "source": [
    "print(f1_score(test_res_pd.obscene, test_res_real.obscene))\n",
    "print(recall_score(test_res_pd.obscene, test_res_real.obscene))\n",
    "print(precision_score(test_res_pd.obscene, test_res_real.obscene))\n",
    "print(accuracy_score(test_res_pd.obscene, test_res_real.obscene))"
   ]
  },
  {
   "cell_type": "code",
   "execution_count": 41,
   "id": "8950df71",
   "metadata": {},
   "outputs": [
    {
     "name": "stdout",
     "output_type": "stream",
     "text": [
      "0.9983805566365794\n",
      "0.9967663499862132\n",
      "1.0\n",
      "0.9967663499862132\n"
     ]
    }
   ],
   "source": [
    "print(f1_score(test_res_pd.threat, test_res_real.threat))\n",
    "print(recall_score(test_res_pd.threat, test_res_real.threat))\n",
    "print(precision_score(test_res_pd.threat, test_res_real.threat))\n",
    "print(accuracy_score(test_res_pd.threat, test_res_real.threat))"
   ]
  },
  {
   "cell_type": "code",
   "execution_count": 40,
   "id": "320576e7",
   "metadata": {},
   "outputs": [
    {
     "name": "stdout",
     "output_type": "stream",
     "text": [
      "0.995429535524974\n",
      "0.99090065926353\n",
      "1.0\n",
      "0.99090065926353\n"
     ]
    }
   ],
   "source": [
    "print(f1_score(test_res_pd.identity_hate, test_res_real.identity_hate))\n",
    "print(recall_score(test_res_pd.identity_hate, test_res_real.identity_hate))\n",
    "print(precision_score(test_res_pd.identity_hate, test_res_real.identity_hate))\n",
    "print(accuracy_score(test_res_pd.identity_hate, test_res_real.identity_hate))"
   ]
  },
  {
   "cell_type": "code",
   "execution_count": null,
   "id": "d0cfd03b",
   "metadata": {},
   "outputs": [],
   "source": []
  },
  {
   "cell_type": "markdown",
   "id": "2f821f1e",
   "metadata": {},
   "source": [
    "HashingTF - Этот подход страдает от потенциальных коллизий хэшей, но экономит место на больших корпусах слов. Представляет собой трансформер.\n",
    "\n",
    "Word2Vec - модель, преобразует слово в код для дальнейшей обработки.\n",
    "\n",
    "В данном задании Word2Vec показала себя лучше на первых столбцах, HashingTF на последних"
   ]
  },
  {
   "cell_type": "code",
   "execution_count": null,
   "id": "8282068a",
   "metadata": {},
   "outputs": [],
   "source": []
  }
 ],
 "metadata": {
  "kernelspec": {
   "display_name": "Python 3 (ipykernel)",
   "language": "python",
   "name": "python3"
  },
  "language_info": {
   "codemirror_mode": {
    "name": "ipython",
    "version": 3
   },
   "file_extension": ".py",
   "mimetype": "text/x-python",
   "name": "python",
   "nbconvert_exporter": "python",
   "pygments_lexer": "ipython3",
   "version": "3.10.8"
  }
 },
 "nbformat": 4,
 "nbformat_minor": 5
}
