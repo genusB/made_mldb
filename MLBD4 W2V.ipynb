{
 "cells": [
  {
   "cell_type": "code",
   "execution_count": 42,
   "id": "8ba96c87",
   "metadata": {},
   "outputs": [],
   "source": [
    "import warnings\n",
    "warnings.simplefilter(action='ignore', category=FutureWarning)\n",
    "\n",
    "import pandas as pd\n",
    "from pyspark.sql import SparkSession\n",
    "import pyspark.sql.functions as F\n",
    "import pyspark.sql.types as T\n",
    "from pyspark.ml.feature import Tokenizer, StopWordsRemover, Word2Vec\n",
    "from pyspark.ml import Pipeline\n",
    "from pyspark.ml.classification import LogisticRegression\n",
    "\n",
    "from sklearn.metrics import f1_score, accuracy_score, precision_score, recall_score"
   ]
  },
  {
   "cell_type": "code",
   "execution_count": 43,
   "id": "bda46570",
   "metadata": {},
   "outputs": [],
   "source": [
    "spark = (SparkSession.builder\n",
    "                  .appName('MLBD Comment Classification')\n",
    "                  .enableHiveSupport()\n",
    "                  .config(\"spark.executor.memory\", \"6G\")\n",
    "                  .config(\"spark.driver.memory\",\"18G\")\n",
    "                  .config(\"spark.executor.cores\",\"7\")\n",
    "                  .config(\"spark.python.worker.memory\",\"6G\")\n",
    "                  .config(\"spark.driver.maxResultSize\",\"0\")\n",
    "                  .config(\"spark.sql.crossJoin.enabled\", \"true\")\n",
    "                  .config(\"spark.serializer\",\"org.apache.spark.serializer.KryoSerializer\")\n",
    "                  .config(\"spark.default.parallelism\",\"2\")\n",
    "                  .getOrCreate())"
   ]
  },
  {
   "cell_type": "code",
   "execution_count": 44,
   "id": "ccda4a3a",
   "metadata": {},
   "outputs": [],
   "source": [
    "df = pd.read_csv('./hw4/train.csv')\n",
    "df.comment_text.fillna(\"\", inplace=True)"
   ]
  },
  {
   "cell_type": "code",
   "execution_count": 45,
   "id": "03cb9d22",
   "metadata": {},
   "outputs": [],
   "source": [
    "train_pd = df.sample(frac=0.75,random_state=42)\n",
    "test_pd = df.drop(train_pd.index)"
   ]
  },
  {
   "cell_type": "code",
   "execution_count": 46,
   "id": "bc9614ad",
   "metadata": {},
   "outputs": [],
   "source": [
    "train, test = spark.createDataFrame(train_pd), spark.createDataFrame(test_pd)"
   ]
  },
  {
   "cell_type": "code",
   "execution_count": 47,
   "id": "686b041a",
   "metadata": {},
   "outputs": [],
   "source": [
    "with open('./hw4/stop_words.txt') as file:\n",
    "    stop_words = list(map(lambda x: x.replace('\"', '').strip(), file.readline().split(\",\")))"
   ]
  },
  {
   "cell_type": "code",
   "execution_count": 48,
   "id": "be43bd74",
   "metadata": {},
   "outputs": [],
   "source": [
    "tokenizer = Tokenizer(inputCol=\"comment_text\", outputCol=\"words\")"
   ]
  },
  {
   "cell_type": "code",
   "execution_count": 49,
   "id": "6a4c8138",
   "metadata": {},
   "outputs": [
    {
     "name": "stdout",
     "output_type": "stream",
     "text": [
      "22/12/11 16:17:06 WARN StopWordsRemover: Default locale set was [en_BY]; however, it was not found in available locales in JVM, falling back to en_US locale. Set param `locale` in order to respect another locale.\n"
     ]
    }
   ],
   "source": [
    "stop_words_remover = StopWordsRemover(inputCol=\"words\", outputCol=\"filtered\").setStopWords(stop_words)"
   ]
  },
  {
   "cell_type": "code",
   "execution_count": 50,
   "id": "a23d2900",
   "metadata": {},
   "outputs": [],
   "source": [
    "word2Vec = Word2Vec(vectorSize=5, seed=42, inputCol=\"filtered\", outputCol=\"model\")"
   ]
  },
  {
   "cell_type": "code",
   "execution_count": 51,
   "id": "dc1c2843",
   "metadata": {},
   "outputs": [
    {
     "data": {
      "text/plain": [
       "Word2Vec_1f1eb2e65e67"
      ]
     },
     "execution_count": 51,
     "metadata": {},
     "output_type": "execute_result"
    }
   ],
   "source": [
    "word2Vec.setMaxIter(10)"
   ]
  },
  {
   "cell_type": "code",
   "execution_count": 52,
   "id": "3c90ddb2",
   "metadata": {},
   "outputs": [
    {
     "data": {
      "text/plain": [
       "10"
      ]
     },
     "execution_count": 52,
     "metadata": {},
     "output_type": "execute_result"
    }
   ],
   "source": [
    "word2Vec.getMaxIter()"
   ]
  },
  {
   "cell_type": "code",
   "execution_count": 20,
   "id": "11e59d04",
   "metadata": {},
   "outputs": [
    {
     "name": "stderr",
     "output_type": "stream",
     "text": [
      "\r",
      "[Stage 0:>                                                          (0 + 0) / 2]\r"
     ]
    },
    {
     "name": "stdout",
     "output_type": "stream",
     "text": [
      "22/12/11 15:59:04 WARN TaskSetManager: Stage 0 contains a task of very large size (25197 KiB). The maximum recommended task size is 1000 KiB.\n"
     ]
    },
    {
     "name": "stderr",
     "output_type": "stream",
     "text": [
      "                                                                                \r"
     ]
    },
    {
     "name": "stdout",
     "output_type": "stream",
     "text": [
      "22/12/11 15:59:08 WARN TaskSetManager: Stage 2 contains a task of very large size (25197 KiB). The maximum recommended task size is 1000 KiB.\n"
     ]
    },
    {
     "name": "stderr",
     "output_type": "stream",
     "text": [
      "[Stage 2:=============================>                             (1 + 1) / 2]\r"
     ]
    },
    {
     "name": "stdout",
     "output_type": "stream",
     "text": [
      "22/12/11 15:59:10 WARN InstanceBuilder$NativeBLAS: Failed to load implementation from:dev.ludovic.netlib.blas.JNIBLAS\n",
      "22/12/11 15:59:10 WARN InstanceBuilder$NativeBLAS: Failed to load implementation from:dev.ludovic.netlib.blas.ForeignLinkerBLAS\n",
      "22/12/11 15:59:10 WARN InstanceBuilder$JavaBLAS: Failed to load implementation from:dev.ludovic.netlib.blas.VectorBLAS\n"
     ]
    },
    {
     "name": "stderr",
     "output_type": "stream",
     "text": [
      "                                                                                \r"
     ]
    }
   ],
   "source": [
    "pipeline = Pipeline(stages=[tokenizer, stop_words_remover, word2Vec])\n",
    "pipeline_fit = pipeline.fit(train)\n",
    "\n",
    "dataset = pipeline_fit.transform(train)"
   ]
  },
  {
   "cell_type": "code",
   "execution_count": 24,
   "id": "5f2d58d0",
   "metadata": {},
   "outputs": [
    {
     "name": "stdout",
     "output_type": "stream",
     "text": [
      "22/12/11 16:10:14 WARN TaskSetManager: Stage 34 contains a task of very large size (25197 KiB). The maximum recommended task size is 1000 KiB.\n"
     ]
    },
    {
     "name": "stderr",
     "output_type": "stream",
     "text": [
      "\r",
      "[Stage 34:>                                                         (0 + 1) / 1]\r"
     ]
    },
    {
     "name": "stdout",
     "output_type": "stream",
     "text": [
      "22/12/11 16:10:18 WARN PythonRunner: Detected deadlock while completing task 0.0 in stage 34 (TID 38): Attempting to kill Python Worker\n",
      "+----------------+--------------------+-----+------------+-------+------+------+-------------+--------------------+--------------------+--------------------+\n",
      "|              id|        comment_text|toxic|severe_toxic|obscene|threat|insult|identity_hate|               words|            filtered|               model|\n",
      "+----------------+--------------------+-----+------------+-------+------+------+-------------+--------------------+--------------------+--------------------+\n",
      "|7ca72b5b9c688e9e|Geez, are you for...|    0|           0|      0|     0|     0|            0|[geez,, are, you,...|[geez,, forgetful...|[-0.0745399384200...|\n",
      "|c03f72fd8f8bf54f|Carioca RFA \\n\\nT...|    0|           0|      0|     0|     0|            0|[carioca, rfa, , ...|[carioca, rfa, su...|[0.35758345896999...|\n",
      "|9e5b8e8fc1ff2e84|\"\\n\\n Birthday \\n...|    0|           0|      0|     0|     0|            0|[\", , , birthday,...|[\", birthday, wor...|[0.43796719113985...|\n",
      "|5332799e706665a6|Pseudoscience cat...|    0|           0|      0|     0|     0|            0|[pseudoscience, c...|[pseudoscience, c...|[-0.0654704784629...|\n",
      "|dfa7d8f0b4366680|(and if such phra...|    0|           0|      0|     0|     0|            0|[(and, if, such, ...|[(and, phrase, ex...|[-0.0780776783358...|\n",
      "+----------------+--------------------+-----+------------+-------+------+------+-------------+--------------------+--------------------+--------------------+\n",
      "only showing top 5 rows\n",
      "\n"
     ]
    },
    {
     "name": "stderr",
     "output_type": "stream",
     "text": [
      "\r",
      "                                                                                \r"
     ]
    }
   ],
   "source": [
    "dataset.show(5)"
   ]
  },
  {
   "cell_type": "code",
   "execution_count": 25,
   "id": "e216af03",
   "metadata": {},
   "outputs": [
    {
     "name": "stdout",
     "output_type": "stream",
     "text": [
      "22/12/11 16:11:00 WARN TaskSetManager: Stage 35 contains a task of very large size (8395 KiB). The maximum recommended task size is 1000 KiB.\n"
     ]
    },
    {
     "name": "stderr",
     "output_type": "stream",
     "text": [
      "\r",
      "[Stage 35:>                                                         (0 + 1) / 1]\r"
     ]
    },
    {
     "name": "stdout",
     "output_type": "stream",
     "text": [
      "22/12/11 16:11:04 WARN PythonRunner: Detected deadlock while completing task 0.0 in stage 35 (TID 39): Attempting to kill Python Worker\n"
     ]
    },
    {
     "name": "stderr",
     "output_type": "stream",
     "text": [
      "\r",
      "                                                                                \r"
     ]
    },
    {
     "data": {
      "text/plain": [
       "Row(id='00025465d4725e87')"
      ]
     },
     "execution_count": 25,
     "metadata": {},
     "output_type": "execute_result"
    }
   ],
   "source": [
    "test_res = test.select('id')\n",
    "test_res.head()"
   ]
  },
  {
   "cell_type": "code",
   "execution_count": 23,
   "id": "a00a32f6",
   "metadata": {},
   "outputs": [
    {
     "data": {
      "text/plain": [
       "['toxic', 'severe_toxic', 'obscene', 'threat', 'insult', 'identity_hate']"
      ]
     },
     "execution_count": 23,
     "metadata": {},
     "output_type": "execute_result"
    }
   ],
   "source": [
    "cols_to_predict = [i for i in train.columns if i not in ['id', 'comment_text']]\n",
    "cols_to_predict"
   ]
  },
  {
   "cell_type": "code",
   "execution_count": 27,
   "id": "b8b6204a",
   "metadata": {},
   "outputs": [],
   "source": [
    "regParam = 0.1"
   ]
  },
  {
   "cell_type": "code",
   "execution_count": 28,
   "id": "603b702a",
   "metadata": {},
   "outputs": [],
   "source": [
    "dataset_test = pipeline_fit.transform(test)"
   ]
  },
  {
   "cell_type": "code",
   "execution_count": 30,
   "id": "29e2b3e0",
   "metadata": {},
   "outputs": [
    {
     "name": "stdout",
     "output_type": "stream",
     "text": [
      "22/12/11 16:14:14 WARN TaskSetManager: Stage 164 contains a task of very large size (25197 KiB). The maximum recommended task size is 1000 KiB.\n"
     ]
    },
    {
     "name": "stderr",
     "output_type": "stream",
     "text": [
      "                                                                                \r"
     ]
    },
    {
     "name": "stdout",
     "output_type": "stream",
     "text": [
      "22/12/11 16:14:30 WARN TaskSetManager: Stage 165 contains a task of very large size (25197 KiB). The maximum recommended task size is 1000 KiB.\n"
     ]
    },
    {
     "name": "stderr",
     "output_type": "stream",
     "text": [
      "                                                                                \r"
     ]
    },
    {
     "name": "stdout",
     "output_type": "stream",
     "text": [
      "22/12/11 16:14:32 WARN TaskSetManager: Stage 166 contains a task of very large size (25197 KiB). The maximum recommended task size is 1000 KiB.\n",
      "22/12/11 16:14:32 WARN TaskSetManager: Stage 167 contains a task of very large size (25197 KiB). The maximum recommended task size is 1000 KiB.\n",
      "22/12/11 16:14:33 WARN TaskSetManager: Stage 168 contains a task of very large size (25197 KiB). The maximum recommended task size is 1000 KiB.\n",
      "22/12/11 16:14:33 WARN TaskSetManager: Stage 169 contains a task of very large size (25197 KiB). The maximum recommended task size is 1000 KiB.\n",
      "22/12/11 16:14:33 WARN TaskSetManager: Stage 170 contains a task of very large size (25197 KiB). The maximum recommended task size is 1000 KiB.\n",
      "22/12/11 16:14:33 WARN TaskSetManager: Stage 171 contains a task of very large size (25197 KiB). The maximum recommended task size is 1000 KiB.\n",
      "22/12/11 16:14:33 WARN TaskSetManager: Stage 172 contains a task of very large size (25197 KiB). The maximum recommended task size is 1000 KiB.\n",
      "22/12/11 16:14:33 WARN TaskSetManager: Stage 173 contains a task of very large size (25197 KiB). The maximum recommended task size is 1000 KiB.\n",
      "22/12/11 16:14:33 WARN TaskSetManager: Stage 174 contains a task of very large size (25197 KiB). The maximum recommended task size is 1000 KiB.\n",
      "22/12/11 16:14:33 WARN TaskSetManager: Stage 175 contains a task of very large size (25197 KiB). The maximum recommended task size is 1000 KiB.\n",
      "22/12/11 16:14:33 WARN TaskSetManager: Stage 176 contains a task of very large size (25197 KiB). The maximum recommended task size is 1000 KiB.\n",
      "22/12/11 16:14:33 WARN TaskSetManager: Stage 177 contains a task of very large size (8395 KiB). The maximum recommended task size is 1000 KiB.\n",
      "22/12/11 16:14:34 WARN TaskSetManager: Stage 178 contains a task of very large size (8395 KiB). The maximum recommended task size is 1000 KiB.\n",
      "22/12/11 16:14:34 WARN TaskSetManager: Stage 179 contains a task of very large size (8395 KiB). The maximum recommended task size is 1000 KiB.\n",
      "22/12/11 16:14:34 WARN TaskSetManager: Stage 180 contains a task of very large size (8395 KiB). The maximum recommended task size is 1000 KiB.\n",
      "22/12/11 16:14:34 WARN TaskSetManager: Stage 181 contains a task of very large size (8395 KiB). The maximum recommended task size is 1000 KiB.\n"
     ]
    },
    {
     "name": "stderr",
     "output_type": "stream",
     "text": [
      "[Stage 178:>  (0 + 2) / 2][Stage 179:>  (0 + 2) / 2][Stage 180:>  (0 + 2) / 2]\r"
     ]
    },
    {
     "name": "stdout",
     "output_type": "stream",
     "text": [
      "22/12/11 16:14:36 WARN TaskSetManager: Stage 182 contains a task of very large size (8395 KiB). The maximum recommended task size is 1000 KiB.\n",
      "22/12/11 16:14:36 WARN TaskSetManager: Stage 183 contains a task of very large size (8395 KiB). The maximum recommended task size is 1000 KiB.\n"
     ]
    },
    {
     "name": "stderr",
     "output_type": "stream",
     "text": [
      "[Stage 182:========>        (1 + 1) / 2][Stage 183:========>        (1 + 1) / 2]\r"
     ]
    },
    {
     "name": "stdout",
     "output_type": "stream",
     "text": [
      "+----------------+-----+------------+-------+------+------+-------------+\n",
      "|              id|toxic|severe_toxic|obscene|threat|insult|identity_hate|\n",
      "+----------------+-----+------------+-------+------+------+-------------+\n",
      "|002264ea4d5f2887|  0.0|         0.0|    0.0|   0.0|   0.0|          0.0|\n",
      "|0310c62027c1cc81|  0.0|         0.0|    0.0|   0.0|   0.0|          0.0|\n",
      "|03effbaf048d353d|  0.0|         0.0|    0.0|   0.0|   0.0|          0.0|\n",
      "|03f1f91ce9efe2c4|  0.0|         0.0|    0.0|   0.0|   0.0|          0.0|\n",
      "|04d0cce9eb0667a8|  0.0|         0.0|    0.0|   0.0|   0.0|          0.0|\n",
      "+----------------+-----+------------+-------+------+------+-------------+\n",
      "only showing top 5 rows\n",
      "\n"
     ]
    },
    {
     "name": "stderr",
     "output_type": "stream",
     "text": [
      "\r",
      "                                                                                \r"
     ]
    }
   ],
   "source": [
    "for col in cols_to_predict:\n",
    "    logreg = LogisticRegression(featuresCol='model', labelCol=col, regParam=regParam)\n",
    "    model = logreg.fit(dataset)\n",
    "    res = model.transform(dataset_test)\n",
    "    test_res = test_res.join(res.select('id', 'prediction'), on=\"id\")\n",
    "    test_res = test_res.withColumnRenamed(\"prediction\", col)\n",
    "    test_res.show(5)"
   ]
  },
  {
   "cell_type": "code",
   "execution_count": 31,
   "id": "6c9d64f5",
   "metadata": {},
   "outputs": [
    {
     "name": "stdout",
     "output_type": "stream",
     "text": [
      "22/12/11 16:14:58 WARN TaskSetManager: Stage 198 contains a task of very large size (8395 KiB). The maximum recommended task size is 1000 KiB.\n",
      "22/12/11 16:14:58 WARN TaskSetManager: Stage 199 contains a task of very large size (8395 KiB). The maximum recommended task size is 1000 KiB.\n",
      "22/12/11 16:14:58 WARN TaskSetManager: Stage 200 contains a task of very large size (8395 KiB). The maximum recommended task size is 1000 KiB.\n",
      "22/12/11 16:14:58 WARN TaskSetManager: Stage 201 contains a task of very large size (8395 KiB). The maximum recommended task size is 1000 KiB.\n",
      "22/12/11 16:14:58 WARN TaskSetManager: Stage 202 contains a task of very large size (8395 KiB). The maximum recommended task size is 1000 KiB.\n"
     ]
    },
    {
     "name": "stderr",
     "output_type": "stream",
     "text": [
      "\r",
      "[Stage 199:>  (0 + 2) / 2][Stage 200:>  (0 + 2) / 2][Stage 201:>  (0 + 2) / 2]\r"
     ]
    },
    {
     "name": "stdout",
     "output_type": "stream",
     "text": [
      "22/12/11 16:15:00 WARN TaskSetManager: Stage 203 contains a task of very large size (8395 KiB). The maximum recommended task size is 1000 KiB.\n",
      "22/12/11 16:15:00 WARN TaskSetManager: Stage 204 contains a task of very large size (8395 KiB). The maximum recommended task size is 1000 KiB.\n"
     ]
    },
    {
     "name": "stderr",
     "output_type": "stream",
     "text": [
      "                                                                                \r"
     ]
    }
   ],
   "source": [
    "test_res_pd = test_res.toPandas()"
   ]
  },
  {
   "cell_type": "code",
   "execution_count": 32,
   "id": "c344dee9",
   "metadata": {},
   "outputs": [],
   "source": [
    "test_res_pd = test_res_pd.sort_values(by=['id'])"
   ]
  },
  {
   "cell_type": "code",
   "execution_count": 33,
   "id": "5ac8a011",
   "metadata": {},
   "outputs": [],
   "source": [
    "test_res_real = test_pd.sort_values(by=['id'])"
   ]
  },
  {
   "cell_type": "code",
   "execution_count": 34,
   "id": "1fa21253",
   "metadata": {},
   "outputs": [],
   "source": [
    "test_res_pd.toxic = test_res_pd.toxic.astype(int)\n",
    "test_res_pd.severe_toxic = test_res_pd.severe_toxic.astype(int)\n",
    "test_res_pd.obscene = test_res_pd.obscene.astype(int)\n",
    "test_res_pd.threat = test_res_pd.threat.astype(int)\n",
    "test_res_pd.insult = test_res_pd.insult.astype(int)\n",
    "test_res_pd.identity_hate = test_res_pd.identity_hate.astype(int)"
   ]
  },
  {
   "cell_type": "code",
   "execution_count": 35,
   "id": "652afaf7",
   "metadata": {},
   "outputs": [
    {
     "data": {
      "text/html": [
       "<div>\n",
       "<style scoped>\n",
       "    .dataframe tbody tr th:only-of-type {\n",
       "        vertical-align: middle;\n",
       "    }\n",
       "\n",
       "    .dataframe tbody tr th {\n",
       "        vertical-align: top;\n",
       "    }\n",
       "\n",
       "    .dataframe thead th {\n",
       "        text-align: right;\n",
       "    }\n",
       "</style>\n",
       "<table border=\"1\" class=\"dataframe\">\n",
       "  <thead>\n",
       "    <tr style=\"text-align: right;\">\n",
       "      <th></th>\n",
       "      <th>id</th>\n",
       "      <th>toxic</th>\n",
       "      <th>severe_toxic</th>\n",
       "      <th>obscene</th>\n",
       "      <th>threat</th>\n",
       "      <th>insult</th>\n",
       "      <th>identity_hate</th>\n",
       "    </tr>\n",
       "  </thead>\n",
       "  <tbody>\n",
       "    <tr>\n",
       "      <th>36098</th>\n",
       "      <td>00013fa6fb6ef643</td>\n",
       "      <td>0</td>\n",
       "      <td>0</td>\n",
       "      <td>0</td>\n",
       "      <td>0</td>\n",
       "      <td>0</td>\n",
       "      <td>0</td>\n",
       "    </tr>\n",
       "    <tr>\n",
       "      <th>11656</th>\n",
       "      <td>00025465d4725e87</td>\n",
       "      <td>0</td>\n",
       "      <td>0</td>\n",
       "      <td>0</td>\n",
       "      <td>0</td>\n",
       "      <td>0</td>\n",
       "      <td>0</td>\n",
       "    </tr>\n",
       "    <tr>\n",
       "      <th>35243</th>\n",
       "      <td>0002eeaf4c0cdf35</td>\n",
       "      <td>0</td>\n",
       "      <td>0</td>\n",
       "      <td>0</td>\n",
       "      <td>0</td>\n",
       "      <td>0</td>\n",
       "      <td>0</td>\n",
       "    </tr>\n",
       "    <tr>\n",
       "      <th>18272</th>\n",
       "      <td>00040093b2687caa</td>\n",
       "      <td>0</td>\n",
       "      <td>0</td>\n",
       "      <td>0</td>\n",
       "      <td>0</td>\n",
       "      <td>0</td>\n",
       "      <td>0</td>\n",
       "    </tr>\n",
       "    <tr>\n",
       "      <th>3678</th>\n",
       "      <td>0005300084f90edc</td>\n",
       "      <td>0</td>\n",
       "      <td>0</td>\n",
       "      <td>0</td>\n",
       "      <td>0</td>\n",
       "      <td>0</td>\n",
       "      <td>0</td>\n",
       "    </tr>\n",
       "    <tr>\n",
       "      <th>...</th>\n",
       "      <td>...</td>\n",
       "      <td>...</td>\n",
       "      <td>...</td>\n",
       "      <td>...</td>\n",
       "      <td>...</td>\n",
       "      <td>...</td>\n",
       "      <td>...</td>\n",
       "    </tr>\n",
       "    <tr>\n",
       "      <th>27058</th>\n",
       "      <td>fff5d08a356a9fde</td>\n",
       "      <td>0</td>\n",
       "      <td>0</td>\n",
       "      <td>0</td>\n",
       "      <td>0</td>\n",
       "      <td>0</td>\n",
       "      <td>0</td>\n",
       "    </tr>\n",
       "    <tr>\n",
       "      <th>29825</th>\n",
       "      <td>fff880e2b149dc13</td>\n",
       "      <td>0</td>\n",
       "      <td>0</td>\n",
       "      <td>0</td>\n",
       "      <td>0</td>\n",
       "      <td>0</td>\n",
       "      <td>0</td>\n",
       "    </tr>\n",
       "    <tr>\n",
       "      <th>21592</th>\n",
       "      <td>fff90f6920245ab8</td>\n",
       "      <td>0</td>\n",
       "      <td>0</td>\n",
       "      <td>0</td>\n",
       "      <td>0</td>\n",
       "      <td>0</td>\n",
       "      <td>0</td>\n",
       "    </tr>\n",
       "    <tr>\n",
       "      <th>20232</th>\n",
       "      <td>ffff3a700c54e047</td>\n",
       "      <td>0</td>\n",
       "      <td>0</td>\n",
       "      <td>0</td>\n",
       "      <td>0</td>\n",
       "      <td>0</td>\n",
       "      <td>0</td>\n",
       "    </tr>\n",
       "    <tr>\n",
       "      <th>29097</th>\n",
       "      <td>ffffc2f890bb6fb5</td>\n",
       "      <td>0</td>\n",
       "      <td>0</td>\n",
       "      <td>0</td>\n",
       "      <td>0</td>\n",
       "      <td>0</td>\n",
       "      <td>0</td>\n",
       "    </tr>\n",
       "  </tbody>\n",
       "</table>\n",
       "<p>39893 rows × 7 columns</p>\n",
       "</div>"
      ],
      "text/plain": [
       "                     id  toxic  severe_toxic  obscene  threat  insult  \\\n",
       "36098  00013fa6fb6ef643      0             0        0       0       0   \n",
       "11656  00025465d4725e87      0             0        0       0       0   \n",
       "35243  0002eeaf4c0cdf35      0             0        0       0       0   \n",
       "18272  00040093b2687caa      0             0        0       0       0   \n",
       "3678   0005300084f90edc      0             0        0       0       0   \n",
       "...                 ...    ...           ...      ...     ...     ...   \n",
       "27058  fff5d08a356a9fde      0             0        0       0       0   \n",
       "29825  fff880e2b149dc13      0             0        0       0       0   \n",
       "21592  fff90f6920245ab8      0             0        0       0       0   \n",
       "20232  ffff3a700c54e047      0             0        0       0       0   \n",
       "29097  ffffc2f890bb6fb5      0             0        0       0       0   \n",
       "\n",
       "       identity_hate  \n",
       "36098              0  \n",
       "11656              0  \n",
       "35243              0  \n",
       "18272              0  \n",
       "3678               0  \n",
       "...              ...  \n",
       "27058              0  \n",
       "29825              0  \n",
       "21592              0  \n",
       "20232              0  \n",
       "29097              0  \n",
       "\n",
       "[39893 rows x 7 columns]"
      ]
     },
     "execution_count": 35,
     "metadata": {},
     "output_type": "execute_result"
    }
   ],
   "source": [
    "test_res_pd"
   ]
  },
  {
   "cell_type": "code",
   "execution_count": 36,
   "id": "02212daf",
   "metadata": {},
   "outputs": [
    {
     "data": {
      "text/html": [
       "<div>\n",
       "<style scoped>\n",
       "    .dataframe tbody tr th:only-of-type {\n",
       "        vertical-align: middle;\n",
       "    }\n",
       "\n",
       "    .dataframe tbody tr th {\n",
       "        vertical-align: top;\n",
       "    }\n",
       "\n",
       "    .dataframe thead th {\n",
       "        text-align: right;\n",
       "    }\n",
       "</style>\n",
       "<table border=\"1\" class=\"dataframe\">\n",
       "  <thead>\n",
       "    <tr style=\"text-align: right;\">\n",
       "      <th></th>\n",
       "      <th>id</th>\n",
       "      <th>comment_text</th>\n",
       "      <th>toxic</th>\n",
       "      <th>severe_toxic</th>\n",
       "      <th>obscene</th>\n",
       "      <th>threat</th>\n",
       "      <th>insult</th>\n",
       "      <th>identity_hate</th>\n",
       "    </tr>\n",
       "  </thead>\n",
       "  <tbody>\n",
       "    <tr>\n",
       "      <th>95737</th>\n",
       "      <td>00013fa6fb6ef643</td>\n",
       "      <td>Wehwalt, FTR, I'm not objecting to text about ...</td>\n",
       "      <td>0</td>\n",
       "      <td>0</td>\n",
       "      <td>0</td>\n",
       "      <td>0</td>\n",
       "      <td>0</td>\n",
       "      <td>0</td>\n",
       "    </tr>\n",
       "    <tr>\n",
       "      <th>5</th>\n",
       "      <td>00025465d4725e87</td>\n",
       "      <td>\"\\n\\nCongratulations from me as well, use the ...</td>\n",
       "      <td>0</td>\n",
       "      <td>0</td>\n",
       "      <td>0</td>\n",
       "      <td>0</td>\n",
       "      <td>0</td>\n",
       "      <td>0</td>\n",
       "    </tr>\n",
       "    <tr>\n",
       "      <th>95739</th>\n",
       "      <td>0002eeaf4c0cdf35</td>\n",
       "      <td>But isnt it against the rules to edit if you a...</td>\n",
       "      <td>0</td>\n",
       "      <td>0</td>\n",
       "      <td>0</td>\n",
       "      <td>0</td>\n",
       "      <td>0</td>\n",
       "      <td>0</td>\n",
       "    </tr>\n",
       "    <tr>\n",
       "      <th>9</th>\n",
       "      <td>00040093b2687caa</td>\n",
       "      <td>alignment on this subject and which are contra...</td>\n",
       "      <td>0</td>\n",
       "      <td>0</td>\n",
       "      <td>0</td>\n",
       "      <td>0</td>\n",
       "      <td>0</td>\n",
       "      <td>0</td>\n",
       "    </tr>\n",
       "    <tr>\n",
       "      <th>10</th>\n",
       "      <td>0005300084f90edc</td>\n",
       "      <td>\"\\nFair use rationale for Image:Wonju.jpg\\n\\nT...</td>\n",
       "      <td>0</td>\n",
       "      <td>0</td>\n",
       "      <td>0</td>\n",
       "      <td>0</td>\n",
       "      <td>0</td>\n",
       "      <td>0</td>\n",
       "    </tr>\n",
       "    <tr>\n",
       "      <th>...</th>\n",
       "      <td>...</td>\n",
       "      <td>...</td>\n",
       "      <td>...</td>\n",
       "      <td>...</td>\n",
       "      <td>...</td>\n",
       "      <td>...</td>\n",
       "      <td>...</td>\n",
       "      <td>...</td>\n",
       "    </tr>\n",
       "    <tr>\n",
       "      <th>95719</th>\n",
       "      <td>fff5d08a356a9fde</td>\n",
       "      <td>Expansion \\n\\nI can handle the expansion, give...</td>\n",
       "      <td>0</td>\n",
       "      <td>0</td>\n",
       "      <td>0</td>\n",
       "      <td>0</td>\n",
       "      <td>0</td>\n",
       "      <td>0</td>\n",
       "    </tr>\n",
       "    <tr>\n",
       "      <th>95725</th>\n",
       "      <td>fff880e2b149dc13</td>\n",
       "      <td>February 2006 (UTC))\\n\\nWell if you would just...</td>\n",
       "      <td>0</td>\n",
       "      <td>0</td>\n",
       "      <td>0</td>\n",
       "      <td>0</td>\n",
       "      <td>0</td>\n",
       "      <td>0</td>\n",
       "    </tr>\n",
       "    <tr>\n",
       "      <th>143604</th>\n",
       "      <td>fff90f6920245ab8</td>\n",
       "      <td>How about edit the broken links of Incident at...</td>\n",
       "      <td>0</td>\n",
       "      <td>0</td>\n",
       "      <td>0</td>\n",
       "      <td>0</td>\n",
       "      <td>0</td>\n",
       "      <td>0</td>\n",
       "    </tr>\n",
       "    <tr>\n",
       "      <th>143606</th>\n",
       "      <td>ffff3a700c54e047</td>\n",
       "      <td>\"\\n\\nI am glad I can amuse you. Perhaps your t...</td>\n",
       "      <td>0</td>\n",
       "      <td>0</td>\n",
       "      <td>0</td>\n",
       "      <td>0</td>\n",
       "      <td>0</td>\n",
       "      <td>0</td>\n",
       "    </tr>\n",
       "    <tr>\n",
       "      <th>95736</th>\n",
       "      <td>ffffc2f890bb6fb5</td>\n",
       "      <td>\"\\n\\n interesting page \\n\\nThere's some good i...</td>\n",
       "      <td>0</td>\n",
       "      <td>0</td>\n",
       "      <td>0</td>\n",
       "      <td>0</td>\n",
       "      <td>0</td>\n",
       "      <td>0</td>\n",
       "    </tr>\n",
       "  </tbody>\n",
       "</table>\n",
       "<p>39893 rows × 8 columns</p>\n",
       "</div>"
      ],
      "text/plain": [
       "                      id                                       comment_text  \\\n",
       "95737   00013fa6fb6ef643  Wehwalt, FTR, I'm not objecting to text about ...   \n",
       "5       00025465d4725e87  \"\\n\\nCongratulations from me as well, use the ...   \n",
       "95739   0002eeaf4c0cdf35  But isnt it against the rules to edit if you a...   \n",
       "9       00040093b2687caa  alignment on this subject and which are contra...   \n",
       "10      0005300084f90edc  \"\\nFair use rationale for Image:Wonju.jpg\\n\\nT...   \n",
       "...                  ...                                                ...   \n",
       "95719   fff5d08a356a9fde  Expansion \\n\\nI can handle the expansion, give...   \n",
       "95725   fff880e2b149dc13  February 2006 (UTC))\\n\\nWell if you would just...   \n",
       "143604  fff90f6920245ab8  How about edit the broken links of Incident at...   \n",
       "143606  ffff3a700c54e047  \"\\n\\nI am glad I can amuse you. Perhaps your t...   \n",
       "95736   ffffc2f890bb6fb5  \"\\n\\n interesting page \\n\\nThere's some good i...   \n",
       "\n",
       "        toxic  severe_toxic  obscene  threat  insult  identity_hate  \n",
       "95737       0             0        0       0       0              0  \n",
       "5           0             0        0       0       0              0  \n",
       "95739       0             0        0       0       0              0  \n",
       "9           0             0        0       0       0              0  \n",
       "10          0             0        0       0       0              0  \n",
       "...       ...           ...      ...     ...     ...            ...  \n",
       "95719       0             0        0       0       0              0  \n",
       "95725       0             0        0       0       0              0  \n",
       "143604      0             0        0       0       0              0  \n",
       "143606      0             0        0       0       0              0  \n",
       "95736       0             0        0       0       0              0  \n",
       "\n",
       "[39893 rows x 8 columns]"
      ]
     },
     "execution_count": 36,
     "metadata": {},
     "output_type": "execute_result"
    }
   ],
   "source": [
    "test_res_real"
   ]
  },
  {
   "cell_type": "code",
   "execution_count": 37,
   "id": "ea5d684c",
   "metadata": {},
   "outputs": [
    {
     "name": "stdout",
     "output_type": "stream",
     "text": [
      "0.30364459780030184\n",
      "0.9436997319034852\n",
      "0.18093035209457722\n",
      "0.9190584814378462\n"
     ]
    }
   ],
   "source": [
    "print(f1_score(test_res_pd.toxic, test_res_real.toxic))\n",
    "print(recall_score(test_res_pd.toxic, test_res_real.toxic))\n",
    "print(precision_score(test_res_pd.toxic, test_res_real.toxic))\n",
    "print(accuracy_score(test_res_pd.toxic, test_res_real.toxic))"
   ]
  },
  {
   "cell_type": "code",
   "execution_count": 38,
   "id": "3cf8b450",
   "metadata": {},
   "outputs": [
    {
     "name": "stdout",
     "output_type": "stream",
     "text": [
      "0.02403846153846154\n",
      "0.8333333333333334\n",
      "0.012195121951219513\n",
      "0.989822775925601\n"
     ]
    }
   ],
   "source": [
    "print(f1_score(test_res_pd.severe_toxic, test_res_real.severe_toxic))\n",
    "print(recall_score(test_res_pd.severe_toxic, test_res_real.severe_toxic))\n",
    "print(precision_score(test_res_pd.severe_toxic, test_res_real.severe_toxic))\n",
    "print(accuracy_score(test_res_pd.severe_toxic, test_res_real.severe_toxic))"
   ]
  },
  {
   "cell_type": "code",
   "execution_count": 39,
   "id": "50fa9906",
   "metadata": {},
   "outputs": [
    {
     "name": "stdout",
     "output_type": "stream",
     "text": [
      "0.2390786338363781\n",
      "0.8431372549019608\n",
      "0.13928736695974087\n",
      "0.9519715238262352\n"
     ]
    }
   ],
   "source": [
    "print(f1_score(test_res_pd.obscene, test_res_real.obscene))\n",
    "print(recall_score(test_res_pd.obscene, test_res_real.obscene))\n",
    "print(precision_score(test_res_pd.obscene, test_res_real.obscene))\n",
    "print(accuracy_score(test_res_pd.obscene, test_res_real.obscene))"
   ]
  },
  {
   "cell_type": "code",
   "execution_count": 40,
   "id": "8950df71",
   "metadata": {},
   "outputs": [
    {
     "name": "stdout",
     "output_type": "stream",
     "text": [
      "0.0\n",
      "0.0\n",
      "0.0\n",
      "0.9967663499862132\n"
     ]
    },
    {
     "name": "stderr",
     "output_type": "stream",
     "text": [
      "/Users/jana/opt/anaconda3/envs/pysparkenv/lib/python3.10/site-packages/sklearn/metrics/_classification.py:1318: UndefinedMetricWarning: Recall is ill-defined and being set to 0.0 due to no true samples. Use `zero_division` parameter to control this behavior.\n",
      "  _warn_prf(average, modifier, msg_start, len(result))\n"
     ]
    }
   ],
   "source": [
    "print(f1_score(test_res_pd.threat, test_res_real.threat))\n",
    "print(recall_score(test_res_pd.threat, test_res_real.threat))\n",
    "print(precision_score(test_res_pd.threat, test_res_real.threat))\n",
    "print(accuracy_score(test_res_pd.threat, test_res_real.threat))"
   ]
  },
  {
   "cell_type": "code",
   "execution_count": 41,
   "id": "320576e7",
   "metadata": {},
   "outputs": [
    {
     "name": "stdout",
     "output_type": "stream",
     "text": [
      "0.0\n",
      "0.0\n",
      "0.0\n",
      "0.99090065926353\n"
     ]
    },
    {
     "name": "stderr",
     "output_type": "stream",
     "text": [
      "/Users/jana/opt/anaconda3/envs/pysparkenv/lib/python3.10/site-packages/sklearn/metrics/_classification.py:1318: UndefinedMetricWarning: Recall is ill-defined and being set to 0.0 due to no true samples. Use `zero_division` parameter to control this behavior.\n",
      "  _warn_prf(average, modifier, msg_start, len(result))\n"
     ]
    }
   ],
   "source": [
    "print(f1_score(test_res_pd.identity_hate, test_res_real.identity_hate))\n",
    "print(recall_score(test_res_pd.identity_hate, test_res_real.identity_hate))\n",
    "print(precision_score(test_res_pd.identity_hate, test_res_real.identity_hate))\n",
    "print(accuracy_score(test_res_pd.identity_hate, test_res_real.identity_hate))"
   ]
  },
  {
   "cell_type": "code",
   "execution_count": null,
   "id": "d0cfd03b",
   "metadata": {},
   "outputs": [],
   "source": []
  }
 ],
 "metadata": {
  "kernelspec": {
   "display_name": "Python 3 (ipykernel)",
   "language": "python",
   "name": "python3"
  },
  "language_info": {
   "codemirror_mode": {
    "name": "ipython",
    "version": 3
   },
   "file_extension": ".py",
   "mimetype": "text/x-python",
   "name": "python",
   "nbconvert_exporter": "python",
   "pygments_lexer": "ipython3",
   "version": "3.10.8"
  }
 },
 "nbformat": 4,
 "nbformat_minor": 5
}
