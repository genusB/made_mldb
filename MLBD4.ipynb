{
 "cells": [
  {
   "cell_type": "code",
   "execution_count": 41,
   "id": "86709179",
   "metadata": {},
   "outputs": [],
   "source": [
    "import warnings\n",
    "warnings.simplefilter(action='ignore', category=FutureWarning)\n",
    "\n",
    "import pandas as pd\n",
    "from pyspark.sql import SparkSession\n",
    "import pyspark.sql.functions as F\n",
    "import pyspark.sql.types as T\n",
    "from pyspark.ml.feature import RegexTokenizer, StopWordsRemover, HashingTF, IDF\n",
    "from pyspark.ml import Pipeline\n",
    "from pyspark.ml.classification import LogisticRegression\n",
    "\n",
    "from sklearn.metrics import f1_score, accuracy_score, precision_score, recall_score\n"
   ]
  },
  {
   "cell_type": "code",
   "execution_count": 2,
   "id": "12870699",
   "metadata": {},
   "outputs": [
    {
     "name": "stderr",
     "output_type": "stream",
     "text": [
      "Setting default log level to \"WARN\".\n",
      "To adjust logging level use sc.setLogLevel(newLevel). For SparkR, use setLogLevel(newLevel).\n"
     ]
    },
    {
     "name": "stdout",
     "output_type": "stream",
     "text": [
      "22/12/11 14:42:43 WARN NativeCodeLoader: Unable to load native-hadoop library for your platform... using builtin-java classes where applicable\n"
     ]
    }
   ],
   "source": [
    "spark = (SparkSession.builder\n",
    "                  .appName('MLBD Comment Classification')\n",
    "                  .enableHiveSupport()\n",
    "                  .config(\"spark.executor.memory\", \"6G\")\n",
    "                  .config(\"spark.driver.memory\",\"18G\")\n",
    "                  .config(\"spark.executor.cores\",\"7\")\n",
    "                  .config(\"spark.python.worker.memory\",\"6G\")\n",
    "                  .config(\"spark.driver.maxResultSize\",\"0\")\n",
    "                  .config(\"spark.sql.crossJoin.enabled\", \"true\")\n",
    "                  .config(\"spark.serializer\",\"org.apache.spark.serializer.KryoSerializer\")\n",
    "                  .config(\"spark.default.parallelism\",\"2\")\n",
    "                  .getOrCreate())"
   ]
  },
  {
   "cell_type": "code",
   "execution_count": 5,
   "id": "872c7af4",
   "metadata": {},
   "outputs": [],
   "source": [
    "df = pd.read_csv('./hw4/train.csv')\n",
    "df.comment_text.fillna(\"\", inplace=True)"
   ]
  },
  {
   "cell_type": "code",
   "execution_count": 49,
   "id": "5638368d",
   "metadata": {},
   "outputs": [],
   "source": [
    "train_pd = df.sample(frac=0.75,random_state=42)\n",
    "test_pd = df.drop(train_pd.index)"
   ]
  },
  {
   "cell_type": "code",
   "execution_count": 50,
   "id": "b1629d8a",
   "metadata": {},
   "outputs": [],
   "source": [
    "train, test = spark.createDataFrame(train_pd), spark.createDataFrame(test_pd)"
   ]
  },
  {
   "cell_type": "code",
   "execution_count": 9,
   "id": "1875e967",
   "metadata": {},
   "outputs": [],
   "source": [
    "with open('./hw4/stop_words.txt') as file:\n",
    "    stop_words = list(map(lambda x: x.replace('\"', '').strip(), file.readline().split(\",\")))"
   ]
  },
  {
   "cell_type": "code",
   "execution_count": 51,
   "id": "ec0b1a74",
   "metadata": {},
   "outputs": [],
   "source": [
    "tokenizer = RegexTokenizer(inputCol=\"comment_text\", outputCol=\"words\", pattern=\"\\\\W\")"
   ]
  },
  {
   "cell_type": "code",
   "execution_count": 52,
   "id": "5fc17b90",
   "metadata": {},
   "outputs": [
    {
     "name": "stdout",
     "output_type": "stream",
     "text": [
      "22/12/11 14:59:23 WARN StopWordsRemover: Default locale set was [en_BY]; however, it was not found in available locales in JVM, falling back to en_US locale. Set param `locale` in order to respect another locale.\n"
     ]
    }
   ],
   "source": [
    "stop_words_remover = StopWordsRemover(inputCol=\"words\", outputCol=\"filtered\").setStopWords(stop_words)"
   ]
  },
  {
   "cell_type": "code",
   "execution_count": 53,
   "id": "093ba80f",
   "metadata": {},
   "outputs": [],
   "source": [
    "hashingTF = HashingTF(inputCol=\"filtered\", outputCol=\"filtered_hashed\")"
   ]
  },
  {
   "cell_type": "code",
   "execution_count": 54,
   "id": "283cb713",
   "metadata": {},
   "outputs": [],
   "source": [
    "idf = IDF(inputCol=\"filtered_hashed\", outputCol=\"features\")"
   ]
  },
  {
   "cell_type": "code",
   "execution_count": 55,
   "id": "03b4391c",
   "metadata": {},
   "outputs": [
    {
     "name": "stdout",
     "output_type": "stream",
     "text": [
      "22/12/11 14:59:24 WARN TaskSetManager: Stage 424 contains a task of very large size (25197 KiB). The maximum recommended task size is 1000 KiB.\n"
     ]
    },
    {
     "name": "stderr",
     "output_type": "stream",
     "text": [
      "                                                                                \r"
     ]
    }
   ],
   "source": [
    "pipeline = Pipeline(stages=[tokenizer, stop_words_remover, hashingTF, idf])\n",
    "pipeline_fit = pipeline.fit(train)\n",
    "\n",
    "dataset = pipeline_fit.transform(train)"
   ]
  },
  {
   "cell_type": "code",
   "execution_count": 56,
   "id": "fdc6cb38",
   "metadata": {},
   "outputs": [
    {
     "name": "stdout",
     "output_type": "stream",
     "text": [
      "22/12/11 14:59:29 WARN DAGScheduler: Broadcasting large task binary with size 4.1 MiB\n",
      "22/12/11 14:59:29 WARN TaskSetManager: Stage 425 contains a task of very large size (25197 KiB). The maximum recommended task size is 1000 KiB.\n"
     ]
    },
    {
     "name": "stderr",
     "output_type": "stream",
     "text": [
      "\r",
      "[Stage 425:>                                                        (0 + 1) / 1]\r"
     ]
    },
    {
     "name": "stdout",
     "output_type": "stream",
     "text": [
      "22/12/11 14:59:33 WARN PythonRunner: Detected deadlock while completing task 0.0 in stage 425 (TID 746): Attempting to kill Python Worker\n"
     ]
    },
    {
     "name": "stderr",
     "output_type": "stream",
     "text": [
      "\r",
      "                                                                                \r"
     ]
    },
    {
     "data": {
      "text/plain": [
       "[Row(features=SparseVector(262144, {37521: 5.7213, 62312: 7.1493, 76792: 9.4953, 92032: 3.9228, 109753: 4.1504, 120328: 6.0296, 134257: 8.109, 142437: 8.0037, 161102: 4.5049, 168503: 15.958, 186022: 5.9921, 194979: 5.0593, 200010: 10.594, 214718: 7.4585, 224040: 4.3595, 229412: 9.0535, 229821: 6.8174, 231185: 8.6015, 231304: 6.6886, 246215: 6.8804}))]"
      ]
     },
     "execution_count": 56,
     "metadata": {},
     "output_type": "execute_result"
    }
   ],
   "source": [
    "dataset.select(\"features\").head(1)"
   ]
  },
  {
   "cell_type": "code",
   "execution_count": 57,
   "id": "238f33bc",
   "metadata": {},
   "outputs": [],
   "source": [
    "regParam = 0.1"
   ]
  },
  {
   "cell_type": "code",
   "execution_count": 58,
   "id": "bf6b5302",
   "metadata": {},
   "outputs": [],
   "source": [
    "dataset_test = pipeline_fit.transform(test)"
   ]
  },
  {
   "cell_type": "code",
   "execution_count": 63,
   "id": "717646c2",
   "metadata": {},
   "outputs": [
    {
     "name": "stdout",
     "output_type": "stream",
     "text": [
      "22/12/11 15:03:39 WARN DAGScheduler: Broadcasting large task binary with size 4.1 MiB\n",
      "22/12/11 15:03:39 WARN TaskSetManager: Stage 868 contains a task of very large size (25197 KiB). The maximum recommended task size is 1000 KiB.\n",
      "22/12/11 15:03:40 WARN TaskSetManager: Stage 869 contains a task of very large size (8395 KiB). The maximum recommended task size is 1000 KiB.\n"
     ]
    },
    {
     "name": "stderr",
     "output_type": "stream",
     "text": [
      "\r",
      "[Stage 868:>                                                        (0 + 2) / 2]\r",
      "\r",
      "                                                                                \r"
     ]
    },
    {
     "name": "stdout",
     "output_type": "stream",
     "text": [
      "22/12/11 15:03:40 WARN DAGScheduler: Broadcasting large task binary with size 4.1 MiB\n",
      "22/12/11 15:03:40 WARN TaskSetManager: Stage 870 contains a task of very large size (25197 KiB). The maximum recommended task size is 1000 KiB.\n"
     ]
    },
    {
     "name": "stderr",
     "output_type": "stream",
     "text": [
      "\r",
      "[Stage 869:>                                                        (0 + 1) / 1]\r",
      "\r",
      "                                                                                \r"
     ]
    },
    {
     "name": "stdout",
     "output_type": "stream",
     "text": [
      "22/12/11 15:03:41 WARN DAGScheduler: Broadcasting large task binary with size 4.1 MiB\n",
      "22/12/11 15:03:41 WARN TaskSetManager: Stage 871 contains a task of very large size (25197 KiB). The maximum recommended task size is 1000 KiB.\n",
      "22/12/11 15:03:41 WARN DAGScheduler: Broadcasting large task binary with size 4.1 MiB\n",
      "22/12/11 15:03:42 WARN TaskSetManager: Stage 872 contains a task of very large size (25197 KiB). The maximum recommended task size is 1000 KiB.\n"
     ]
    },
    {
     "name": "stderr",
     "output_type": "stream",
     "text": [
      "\r",
      "[Stage 869:>                                                        (0 + 1) / 1]\r",
      "\r",
      "                                                                                \r"
     ]
    },
    {
     "name": "stdout",
     "output_type": "stream",
     "text": [
      "22/12/11 15:03:42 WARN DAGScheduler: Broadcasting large task binary with size 4.1 MiB\n",
      "22/12/11 15:03:42 WARN TaskSetManager: Stage 873 contains a task of very large size (25197 KiB). The maximum recommended task size is 1000 KiB.\n"
     ]
    },
    {
     "name": "stderr",
     "output_type": "stream",
     "text": [
      "\r",
      "[Stage 869:>                                                        (0 + 1) / 1]\r",
      "\r",
      "                                                                                \r"
     ]
    },
    {
     "name": "stdout",
     "output_type": "stream",
     "text": [
      "22/12/11 15:03:43 WARN DAGScheduler: Broadcasting large task binary with size 4.1 MiB\n",
      "22/12/11 15:03:43 WARN TaskSetManager: Stage 874 contains a task of very large size (25197 KiB). The maximum recommended task size is 1000 KiB.\n"
     ]
    },
    {
     "name": "stderr",
     "output_type": "stream",
     "text": [
      "\r",
      "[Stage 869:>                                                        (0 + 1) / 1]\r",
      "\r",
      "                                                                                \r"
     ]
    },
    {
     "name": "stdout",
     "output_type": "stream",
     "text": [
      "22/12/11 15:03:44 WARN DAGScheduler: Broadcasting large task binary with size 4.1 MiB\n",
      "22/12/11 15:03:44 WARN TaskSetManager: Stage 875 contains a task of very large size (25197 KiB). The maximum recommended task size is 1000 KiB.\n",
      "22/12/11 15:03:44 WARN PythonRunner: Detected deadlock while completing task 0.0 in stage 869 (TID 1551): Attempting to kill Python Worker\n"
     ]
    },
    {
     "data": {
      "text/plain": [
       "Row(id='00025465d4725e87')"
      ]
     },
     "execution_count": 63,
     "metadata": {},
     "output_type": "execute_result"
    },
    {
     "name": "stdout",
     "output_type": "stream",
     "text": [
      "22/12/11 15:03:44 WARN DAGScheduler: Broadcasting large task binary with size 4.1 MiB\n",
      "22/12/11 15:03:44 WARN TaskSetManager: Stage 876 contains a task of very large size (25197 KiB). The maximum recommended task size is 1000 KiB.\n",
      "22/12/11 15:03:45 WARN DAGScheduler: Broadcasting large task binary with size 4.1 MiB\n",
      "22/12/11 15:03:45 WARN TaskSetManager: Stage 877 contains a task of very large size (25197 KiB). The maximum recommended task size is 1000 KiB.\n",
      "22/12/11 15:03:46 WARN DAGScheduler: Broadcasting large task binary with size 4.1 MiB\n",
      "22/12/11 15:03:46 WARN TaskSetManager: Stage 878 contains a task of very large size (25197 KiB). The maximum recommended task size is 1000 KiB.\n"
     ]
    },
    {
     "name": "stderr",
     "output_type": "stream",
     "text": [
      "\r",
      "[Stage 878:============================>                            (1 + 1) / 2]\r",
      "\r",
      "                                                                                \r"
     ]
    },
    {
     "name": "stdout",
     "output_type": "stream",
     "text": [
      "22/12/11 15:03:46 WARN DAGScheduler: Broadcasting large task binary with size 4.1 MiB\n",
      "22/12/11 15:03:47 WARN TaskSetManager: Stage 879 contains a task of very large size (25197 KiB). The maximum recommended task size is 1000 KiB.\n"
     ]
    },
    {
     "name": "stderr",
     "output_type": "stream",
     "text": [
      "\r",
      "[Stage 879:============================>                            (1 + 1) / 2]\r",
      "\r",
      "                                                                                \r"
     ]
    },
    {
     "name": "stdout",
     "output_type": "stream",
     "text": [
      "22/12/11 15:03:47 WARN DAGScheduler: Broadcasting large task binary with size 4.1 MiB\n",
      "22/12/11 15:03:47 WARN TaskSetManager: Stage 880 contains a task of very large size (25197 KiB). The maximum recommended task size is 1000 KiB.\n",
      "22/12/11 15:03:48 WARN DAGScheduler: Broadcasting large task binary with size 4.1 MiB\n",
      "22/12/11 15:03:48 WARN TaskSetManager: Stage 881 contains a task of very large size (25197 KiB). The maximum recommended task size is 1000 KiB.\n"
     ]
    },
    {
     "name": "stderr",
     "output_type": "stream",
     "text": [
      "\r",
      "[Stage 881:>                                                        (0 + 2) / 2]\r",
      "\r",
      "                                                                                \r"
     ]
    },
    {
     "name": "stdout",
     "output_type": "stream",
     "text": [
      "22/12/11 15:03:49 WARN DAGScheduler: Broadcasting large task binary with size 4.1 MiB\n",
      "22/12/11 15:03:49 WARN TaskSetManager: Stage 882 contains a task of very large size (25197 KiB). The maximum recommended task size is 1000 KiB.\n"
     ]
    },
    {
     "name": "stderr",
     "output_type": "stream",
     "text": [
      "\r",
      "[Stage 882:>                                                        (0 + 2) / 2]\r",
      "\r",
      "                                                                                \r"
     ]
    },
    {
     "name": "stdout",
     "output_type": "stream",
     "text": [
      "22/12/11 15:03:50 WARN DAGScheduler: Broadcasting large task binary with size 4.1 MiB\n"
     ]
    },
    {
     "name": "stderr",
     "output_type": "stream",
     "text": [
      "\r",
      "[Stage 883:>                                                        (0 + 0) / 2]\r"
     ]
    },
    {
     "name": "stdout",
     "output_type": "stream",
     "text": [
      "22/12/11 15:03:51 WARN TaskSetManager: Stage 883 contains a task of very large size (25197 KiB). The maximum recommended task size is 1000 KiB.\n"
     ]
    },
    {
     "name": "stderr",
     "output_type": "stream",
     "text": [
      "                                                                                \r"
     ]
    },
    {
     "name": "stdout",
     "output_type": "stream",
     "text": [
      "22/12/11 15:03:52 WARN DAGScheduler: Broadcasting large task binary with size 4.1 MiB\n",
      "22/12/11 15:03:52 WARN TaskSetManager: Stage 884 contains a task of very large size (25197 KiB). The maximum recommended task size is 1000 KiB.\n"
     ]
    },
    {
     "name": "stderr",
     "output_type": "stream",
     "text": [
      "\r",
      "[Stage 884:>                                                        (0 + 2) / 2]\r",
      "\r",
      "                                                                                \r"
     ]
    },
    {
     "name": "stdout",
     "output_type": "stream",
     "text": [
      "22/12/11 15:03:53 WARN DAGScheduler: Broadcasting large task binary with size 4.1 MiB\n",
      "22/12/11 15:03:53 WARN TaskSetManager: Stage 885 contains a task of very large size (25197 KiB). The maximum recommended task size is 1000 KiB.\n"
     ]
    },
    {
     "name": "stderr",
     "output_type": "stream",
     "text": [
      "\r",
      "[Stage 885:>                                                        (0 + 2) / 2]\r",
      "\r",
      "                                                                                \r"
     ]
    }
   ],
   "source": [
    "test_res = test.select('id')\n",
    "test_res.head()"
   ]
  },
  {
   "cell_type": "code",
   "execution_count": 68,
   "id": "eb314495",
   "metadata": {},
   "outputs": [
    {
     "data": {
      "text/plain": [
       "['toxic', 'severe_toxic', 'obscene', 'threat', 'insult', 'identity_hate']"
      ]
     },
     "execution_count": 68,
     "metadata": {},
     "output_type": "execute_result"
    }
   ],
   "source": [
    "c"
   ]
  },
  {
   "cell_type": "code",
   "execution_count": 70,
   "id": "0bf59cdf",
   "metadata": {},
   "outputs": [
    {
     "name": "stdout",
     "output_type": "stream",
     "text": [
      "22/12/11 15:10:55 WARN DAGScheduler: Broadcasting large task binary with size 4.1 MiB\n",
      "22/12/11 15:10:55 WARN TaskSetManager: Stage 1216 contains a task of very large size (25197 KiB). The maximum recommended task size is 1000 KiB.\n"
     ]
    },
    {
     "name": "stderr",
     "output_type": "stream",
     "text": [
      "                                                                                \r"
     ]
    },
    {
     "name": "stdout",
     "output_type": "stream",
     "text": [
      "22/12/11 15:10:59 WARN DAGScheduler: Broadcasting large task binary with size 4.1 MiB\n",
      "22/12/11 15:10:59 WARN TaskSetManager: Stage 1217 contains a task of very large size (25197 KiB). The maximum recommended task size is 1000 KiB.\n"
     ]
    },
    {
     "name": "stderr",
     "output_type": "stream",
     "text": [
      "                                                                                \r"
     ]
    },
    {
     "name": "stdout",
     "output_type": "stream",
     "text": [
      "22/12/11 15:11:03 WARN DAGScheduler: Broadcasting large task binary with size 4.1 MiB\n",
      "22/12/11 15:11:03 WARN TaskSetManager: Stage 1218 contains a task of very large size (25197 KiB). The maximum recommended task size is 1000 KiB.\n",
      "22/12/11 15:11:04 WARN DAGScheduler: Broadcasting large task binary with size 4.1 MiB\n",
      "22/12/11 15:11:04 WARN TaskSetManager: Stage 1219 contains a task of very large size (25197 KiB). The maximum recommended task size is 1000 KiB.\n",
      "22/12/11 15:11:04 WARN DAGScheduler: Broadcasting large task binary with size 4.1 MiB\n",
      "22/12/11 15:11:04 WARN TaskSetManager: Stage 1220 contains a task of very large size (25197 KiB). The maximum recommended task size is 1000 KiB.\n",
      "22/12/11 15:11:04 WARN DAGScheduler: Broadcasting large task binary with size 4.1 MiB\n",
      "22/12/11 15:11:04 WARN TaskSetManager: Stage 1221 contains a task of very large size (25197 KiB). The maximum recommended task size is 1000 KiB.\n",
      "22/12/11 15:11:04 WARN DAGScheduler: Broadcasting large task binary with size 4.1 MiB\n",
      "22/12/11 15:11:04 WARN TaskSetManager: Stage 1222 contains a task of very large size (25197 KiB). The maximum recommended task size is 1000 KiB.\n",
      "22/12/11 15:11:04 WARN DAGScheduler: Broadcasting large task binary with size 4.1 MiB\n",
      "22/12/11 15:11:04 WARN TaskSetManager: Stage 1223 contains a task of very large size (25197 KiB). The maximum recommended task size is 1000 KiB.\n",
      "22/12/11 15:11:05 WARN DAGScheduler: Broadcasting large task binary with size 4.1 MiB\n",
      "22/12/11 15:11:05 WARN TaskSetManager: Stage 1224 contains a task of very large size (25197 KiB). The maximum recommended task size is 1000 KiB.\n",
      "22/12/11 15:11:05 WARN DAGScheduler: Broadcasting large task binary with size 4.1 MiB\n",
      "22/12/11 15:11:05 WARN TaskSetManager: Stage 1225 contains a task of very large size (25197 KiB). The maximum recommended task size is 1000 KiB.\n",
      "22/12/11 15:11:05 WARN DAGScheduler: Broadcasting large task binary with size 4.1 MiB\n",
      "22/12/11 15:11:05 WARN TaskSetManager: Stage 1226 contains a task of very large size (25197 KiB). The maximum recommended task size is 1000 KiB.\n",
      "22/12/11 15:11:05 WARN DAGScheduler: Broadcasting large task binary with size 4.1 MiB\n",
      "22/12/11 15:11:06 WARN TaskSetManager: Stage 1227 contains a task of very large size (25197 KiB). The maximum recommended task size is 1000 KiB.\n",
      "22/12/11 15:11:06 WARN DAGScheduler: Broadcasting large task binary with size 4.1 MiB\n",
      "22/12/11 15:11:06 WARN TaskSetManager: Stage 1228 contains a task of very large size (25197 KiB). The maximum recommended task size is 1000 KiB.\n",
      "22/12/11 15:11:06 WARN DAGScheduler: Broadcasting large task binary with size 4.1 MiB\n",
      "22/12/11 15:11:06 WARN TaskSetManager: Stage 1229 contains a task of very large size (25197 KiB). The maximum recommended task size is 1000 KiB.\n",
      "22/12/11 15:11:06 WARN DAGScheduler: Broadcasting large task binary with size 4.1 MiB\n",
      "22/12/11 15:11:06 WARN TaskSetManager: Stage 1230 contains a task of very large size (25197 KiB). The maximum recommended task size is 1000 KiB.\n",
      "22/12/11 15:11:06 WARN DAGScheduler: Broadcasting large task binary with size 4.1 MiB\n",
      "22/12/11 15:11:06 WARN TaskSetManager: Stage 1231 contains a task of very large size (25197 KiB). The maximum recommended task size is 1000 KiB.\n",
      "22/12/11 15:11:06 WARN DAGScheduler: Broadcasting large task binary with size 4.1 MiB\n",
      "22/12/11 15:11:06 WARN TaskSetManager: Stage 1232 contains a task of very large size (25197 KiB). The maximum recommended task size is 1000 KiB.\n",
      "22/12/11 15:11:07 WARN DAGScheduler: Broadcasting large task binary with size 4.1 MiB\n",
      "22/12/11 15:11:07 WARN TaskSetManager: Stage 1233 contains a task of very large size (25197 KiB). The maximum recommended task size is 1000 KiB.\n",
      "22/12/11 15:11:07 WARN DAGScheduler: Broadcasting large task binary with size 4.1 MiB\n",
      "22/12/11 15:11:07 WARN TaskSetManager: Stage 1234 contains a task of very large size (25197 KiB). The maximum recommended task size is 1000 KiB.\n",
      "22/12/11 15:11:07 WARN DAGScheduler: Broadcasting large task binary with size 4.1 MiB\n",
      "22/12/11 15:11:07 WARN TaskSetManager: Stage 1235 contains a task of very large size (25197 KiB). The maximum recommended task size is 1000 KiB.\n",
      "22/12/11 15:11:07 WARN DAGScheduler: Broadcasting large task binary with size 4.1 MiB\n",
      "22/12/11 15:11:07 WARN TaskSetManager: Stage 1236 contains a task of very large size (25197 KiB). The maximum recommended task size is 1000 KiB.\n",
      "22/12/11 15:11:07 WARN DAGScheduler: Broadcasting large task binary with size 4.1 MiB\n",
      "22/12/11 15:11:08 WARN TaskSetManager: Stage 1237 contains a task of very large size (25197 KiB). The maximum recommended task size is 1000 KiB.\n",
      "22/12/11 15:11:08 WARN DAGScheduler: Broadcasting large task binary with size 4.1 MiB\n",
      "22/12/11 15:11:08 WARN TaskSetManager: Stage 1238 contains a task of very large size (25197 KiB). The maximum recommended task size is 1000 KiB.\n",
      "22/12/11 15:11:08 WARN DAGScheduler: Broadcasting large task binary with size 4.1 MiB\n",
      "22/12/11 15:11:08 WARN TaskSetManager: Stage 1239 contains a task of very large size (25197 KiB). The maximum recommended task size is 1000 KiB.\n",
      "22/12/11 15:11:08 WARN DAGScheduler: Broadcasting large task binary with size 4.1 MiB\n",
      "22/12/11 15:11:08 WARN TaskSetManager: Stage 1240 contains a task of very large size (25197 KiB). The maximum recommended task size is 1000 KiB.\n",
      "22/12/11 15:11:08 WARN DAGScheduler: Broadcasting large task binary with size 4.1 MiB\n",
      "22/12/11 15:11:08 WARN TaskSetManager: Stage 1241 contains a task of very large size (25197 KiB). The maximum recommended task size is 1000 KiB.\n",
      "22/12/11 15:11:08 WARN DAGScheduler: Broadcasting large task binary with size 4.1 MiB\n",
      "22/12/11 15:11:08 WARN TaskSetManager: Stage 1242 contains a task of very large size (25197 KiB). The maximum recommended task size is 1000 KiB.\n",
      "22/12/11 15:11:09 WARN DAGScheduler: Broadcasting large task binary with size 4.1 MiB\n",
      "22/12/11 15:11:09 WARN TaskSetManager: Stage 1243 contains a task of very large size (25197 KiB). The maximum recommended task size is 1000 KiB.\n",
      "22/12/11 15:11:09 WARN DAGScheduler: Broadcasting large task binary with size 4.1 MiB\n",
      "22/12/11 15:11:09 WARN TaskSetManager: Stage 1244 contains a task of very large size (25197 KiB). The maximum recommended task size is 1000 KiB.\n",
      "22/12/11 15:11:09 WARN DAGScheduler: Broadcasting large task binary with size 4.1 MiB\n",
      "22/12/11 15:11:09 WARN TaskSetManager: Stage 1245 contains a task of very large size (25197 KiB). The maximum recommended task size is 1000 KiB.\n",
      "22/12/11 15:11:09 WARN DAGScheduler: Broadcasting large task binary with size 4.1 MiB\n",
      "22/12/11 15:11:09 WARN TaskSetManager: Stage 1246 contains a task of very large size (25197 KiB). The maximum recommended task size is 1000 KiB.\n",
      "22/12/11 15:11:09 WARN DAGScheduler: Broadcasting large task binary with size 4.1 MiB\n",
      "22/12/11 15:11:09 WARN TaskSetManager: Stage 1247 contains a task of very large size (25197 KiB). The maximum recommended task size is 1000 KiB.\n",
      "22/12/11 15:11:09 WARN DAGScheduler: Broadcasting large task binary with size 4.1 MiB\n",
      "22/12/11 15:11:09 WARN TaskSetManager: Stage 1248 contains a task of very large size (25197 KiB). The maximum recommended task size is 1000 KiB.\n",
      "22/12/11 15:11:10 WARN DAGScheduler: Broadcasting large task binary with size 4.1 MiB\n",
      "22/12/11 15:11:10 WARN TaskSetManager: Stage 1249 contains a task of very large size (25197 KiB). The maximum recommended task size is 1000 KiB.\n",
      "22/12/11 15:11:10 WARN DAGScheduler: Broadcasting large task binary with size 4.1 MiB\n",
      "22/12/11 15:11:10 WARN TaskSetManager: Stage 1250 contains a task of very large size (25197 KiB). The maximum recommended task size is 1000 KiB.\n",
      "22/12/11 15:11:10 WARN DAGScheduler: Broadcasting large task binary with size 4.1 MiB\n",
      "22/12/11 15:11:10 WARN TaskSetManager: Stage 1251 contains a task of very large size (25197 KiB). The maximum recommended task size is 1000 KiB.\n",
      "22/12/11 15:11:10 WARN DAGScheduler: Broadcasting large task binary with size 4.1 MiB\n",
      "22/12/11 15:11:10 WARN TaskSetManager: Stage 1252 contains a task of very large size (25197 KiB). The maximum recommended task size is 1000 KiB.\n",
      "22/12/11 15:11:10 WARN DAGScheduler: Broadcasting large task binary with size 4.1 MiB\n",
      "22/12/11 15:11:10 WARN TaskSetManager: Stage 1253 contains a task of very large size (25197 KiB). The maximum recommended task size is 1000 KiB.\n"
     ]
    },
    {
     "name": "stdout",
     "output_type": "stream",
     "text": [
      "22/12/11 15:11:11 WARN DAGScheduler: Broadcasting large task binary with size 4.1 MiB\n",
      "22/12/11 15:11:11 WARN TaskSetManager: Stage 1254 contains a task of very large size (25197 KiB). The maximum recommended task size is 1000 KiB.\n",
      "22/12/11 15:11:11 WARN DAGScheduler: Broadcasting large task binary with size 4.1 MiB\n",
      "22/12/11 15:11:11 WARN TaskSetManager: Stage 1255 contains a task of very large size (25197 KiB). The maximum recommended task size is 1000 KiB.\n",
      "22/12/11 15:11:11 WARN DAGScheduler: Broadcasting large task binary with size 4.1 MiB\n",
      "22/12/11 15:11:11 WARN TaskSetManager: Stage 1256 contains a task of very large size (25197 KiB). The maximum recommended task size is 1000 KiB.\n",
      "22/12/11 15:11:11 WARN DAGScheduler: Broadcasting large task binary with size 4.1 MiB\n",
      "22/12/11 15:11:11 WARN TaskSetManager: Stage 1257 contains a task of very large size (25197 KiB). The maximum recommended task size is 1000 KiB.\n",
      "22/12/11 15:11:11 WARN DAGScheduler: Broadcasting large task binary with size 4.1 MiB\n",
      "22/12/11 15:11:11 WARN TaskSetManager: Stage 1258 contains a task of very large size (25197 KiB). The maximum recommended task size is 1000 KiB.\n",
      "22/12/11 15:11:12 WARN DAGScheduler: Broadcasting large task binary with size 4.1 MiB\n",
      "22/12/11 15:11:12 WARN TaskSetManager: Stage 1259 contains a task of very large size (25197 KiB). The maximum recommended task size is 1000 KiB.\n",
      "22/12/11 15:11:12 WARN DAGScheduler: Broadcasting large task binary with size 4.1 MiB\n",
      "22/12/11 15:11:12 WARN TaskSetManager: Stage 1260 contains a task of very large size (25197 KiB). The maximum recommended task size is 1000 KiB.\n",
      "22/12/11 15:11:12 WARN DAGScheduler: Broadcasting large task binary with size 4.1 MiB\n",
      "22/12/11 15:11:12 WARN TaskSetManager: Stage 1261 contains a task of very large size (25197 KiB). The maximum recommended task size is 1000 KiB.\n",
      "22/12/11 15:11:12 WARN DAGScheduler: Broadcasting large task binary with size 4.1 MiB\n",
      "22/12/11 15:11:12 WARN TaskSetManager: Stage 1262 contains a task of very large size (25197 KiB). The maximum recommended task size is 1000 KiB.\n",
      "22/12/11 15:11:12 WARN DAGScheduler: Broadcasting large task binary with size 4.1 MiB\n",
      "22/12/11 15:11:12 WARN TaskSetManager: Stage 1263 contains a task of very large size (25197 KiB). The maximum recommended task size is 1000 KiB.\n",
      "22/12/11 15:11:12 WARN DAGScheduler: Broadcasting large task binary with size 4.1 MiB\n",
      "22/12/11 15:11:12 WARN TaskSetManager: Stage 1264 contains a task of very large size (25197 KiB). The maximum recommended task size is 1000 KiB.\n",
      "22/12/11 15:11:12 WARN DAGScheduler: Broadcasting large task binary with size 4.1 MiB\n",
      "22/12/11 15:11:13 WARN TaskSetManager: Stage 1265 contains a task of very large size (25197 KiB). The maximum recommended task size is 1000 KiB.\n",
      "22/12/11 15:11:13 WARN DAGScheduler: Broadcasting large task binary with size 4.1 MiB\n",
      "22/12/11 15:11:13 WARN TaskSetManager: Stage 1266 contains a task of very large size (25197 KiB). The maximum recommended task size is 1000 KiB.\n",
      "22/12/11 15:11:13 WARN DAGScheduler: Broadcasting large task binary with size 4.1 MiB\n",
      "22/12/11 15:11:13 WARN TaskSetManager: Stage 1267 contains a task of very large size (25197 KiB). The maximum recommended task size is 1000 KiB.\n",
      "22/12/11 15:11:13 WARN TaskSetManager: Stage 1268 contains a task of very large size (8395 KiB). The maximum recommended task size is 1000 KiB.\n",
      "22/12/11 15:11:13 WARN DAGScheduler: Broadcasting large task binary with size 5.4 MiB\n",
      "22/12/11 15:11:13 WARN TaskSetManager: Stage 1269 contains a task of very large size (8395 KiB). The maximum recommended task size is 1000 KiB.\n",
      "22/12/11 15:11:13 WARN DAGScheduler: Broadcasting large task binary with size 5.4 MiB\n",
      "22/12/11 15:11:13 WARN TaskSetManager: Stage 1270 contains a task of very large size (8395 KiB). The maximum recommended task size is 1000 KiB.\n",
      "22/12/11 15:11:13 WARN DAGScheduler: Broadcasting large task binary with size 5.4 MiB\n",
      "22/12/11 15:11:13 WARN TaskSetManager: Stage 1271 contains a task of very large size (8395 KiB). The maximum recommended task size is 1000 KiB.\n",
      "22/12/11 15:11:13 WARN DAGScheduler: Broadcasting large task binary with size 5.4 MiB\n",
      "22/12/11 15:11:14 WARN DAGScheduler: Broadcasting large task binary with size 5.4 MiB\n",
      "22/12/11 15:11:14 WARN DAGScheduler: Broadcasting large task binary with size 5.4 MiB\n",
      "22/12/11 15:11:14 WARN TaskSetManager: Stage 1272 contains a task of very large size (8395 KiB). The maximum recommended task size is 1000 KiB.\n"
     ]
    },
    {
     "name": "stderr",
     "output_type": "stream",
     "text": [
      "[Stage 1269:> (0 + 2) / 2][Stage 1270:> (0 + 2) / 2][Stage 1271:> (0 + 2) / 2]2]\r"
     ]
    },
    {
     "name": "stdout",
     "output_type": "stream",
     "text": [
      "22/12/11 15:11:18 WARN TaskSetManager: Stage 1273 contains a task of very large size (8395 KiB). The maximum recommended task size is 1000 KiB.\n",
      "22/12/11 15:11:18 WARN TaskSetManager: Stage 1274 contains a task of very large size (8395 KiB). The maximum recommended task size is 1000 KiB.\n"
     ]
    },
    {
     "name": "stderr",
     "output_type": "stream",
     "text": [
      "                                                                                \r"
     ]
    },
    {
     "name": "stdout",
     "output_type": "stream",
     "text": [
      "+----------------+-----+------------+-------+------+------+-------------+\n",
      "|              id|toxic|severe_toxic|obscene|threat|insult|identity_hate|\n",
      "+----------------+-----+------------+-------+------+------+-------------+\n",
      "|002264ea4d5f2887|  0.0|         0.0|    0.0|   0.0|   0.0|          0.0|\n",
      "|0310c62027c1cc81|  0.0|         0.0|    0.0|   0.0|   0.0|          0.0|\n",
      "|03effbaf048d353d|  0.0|         0.0|    0.0|   0.0|   0.0|          0.0|\n",
      "|03f1f91ce9efe2c4|  0.0|         0.0|    0.0|   0.0|   0.0|          0.0|\n",
      "|04d0cce9eb0667a8|  0.0|         0.0|    0.0|   0.0|   0.0|          0.0|\n",
      "+----------------+-----+------------+-------+------+------+-------------+\n",
      "only showing top 5 rows\n",
      "\n"
     ]
    }
   ],
   "source": [
    "for col in cols_to_predict:\n",
    "    logreg = LogisticRegression(featuresCol='features', labelCol=col, regParam=regParam)\n",
    "    model = logreg.fit(dataset)\n",
    "    res = model.transform(dataset_test)\n",
    "    test_res = test_res.join(res.select('id', 'prediction'), on=\"id\")\n",
    "    test_res = test_res.withColumnRenamed(\"prediction\", col)\n",
    "    test_res.show(5)"
   ]
  },
  {
   "cell_type": "code",
   "execution_count": 71,
   "id": "4eaae419",
   "metadata": {},
   "outputs": [
    {
     "name": "stdout",
     "output_type": "stream",
     "text": [
      "22/12/11 15:12:10 WARN TaskSetManager: Stage 1289 contains a task of very large size (8395 KiB). The maximum recommended task size is 1000 KiB.\n",
      "22/12/11 15:12:10 WARN DAGScheduler: Broadcasting large task binary with size 5.4 MiB\n",
      "22/12/11 15:12:10 WARN TaskSetManager: Stage 1290 contains a task of very large size (8395 KiB). The maximum recommended task size is 1000 KiB.\n",
      "22/12/11 15:12:10 WARN DAGScheduler: Broadcasting large task binary with size 5.4 MiB\n",
      "22/12/11 15:12:10 WARN TaskSetManager: Stage 1291 contains a task of very large size (8395 KiB). The maximum recommended task size is 1000 KiB.\n",
      "22/12/11 15:12:10 WARN DAGScheduler: Broadcasting large task binary with size 5.4 MiB\n",
      "22/12/11 15:12:10 WARN DAGScheduler: Broadcasting large task binary with size 5.4 MiB\n",
      "22/12/11 15:12:10 WARN TaskSetManager: Stage 1292 contains a task of very large size (8395 KiB). The maximum recommended task size is 1000 KiB.\n",
      "22/12/11 15:12:11 WARN DAGScheduler: Broadcasting large task binary with size 5.4 MiB\n",
      "22/12/11 15:12:11 WARN DAGScheduler: Broadcasting large task binary with size 5.4 MiB\n",
      "22/12/11 15:12:11 WARN TaskSetManager: Stage 1293 contains a task of very large size (8395 KiB). The maximum recommended task size is 1000 KiB.\n"
     ]
    },
    {
     "name": "stderr",
     "output_type": "stream",
     "text": [
      "\r",
      "[Stage 1290:> (0 + 2) / 2][Stage 1291:> (0 + 2) / 2][Stage 1292:> (0 + 2) / 2]\r"
     ]
    },
    {
     "name": "stdout",
     "output_type": "stream",
     "text": [
      "22/12/11 15:12:14 WARN TaskSetManager: Stage 1294 contains a task of very large size (8395 KiB). The maximum recommended task size is 1000 KiB.\n",
      "22/12/11 15:12:14 WARN TaskSetManager: Stage 1295 contains a task of very large size (8395 KiB). The maximum recommended task size is 1000 KiB.\n"
     ]
    },
    {
     "name": "stderr",
     "output_type": "stream",
     "text": [
      "                                                                                \r"
     ]
    }
   ],
   "source": [
    "test_res_pd = test_res.toPandas()"
   ]
  },
  {
   "cell_type": "code",
   "execution_count": 72,
   "id": "99c2bacf",
   "metadata": {},
   "outputs": [
    {
     "data": {
      "text/html": [
       "<div>\n",
       "<style scoped>\n",
       "    .dataframe tbody tr th:only-of-type {\n",
       "        vertical-align: middle;\n",
       "    }\n",
       "\n",
       "    .dataframe tbody tr th {\n",
       "        vertical-align: top;\n",
       "    }\n",
       "\n",
       "    .dataframe thead th {\n",
       "        text-align: right;\n",
       "    }\n",
       "</style>\n",
       "<table border=\"1\" class=\"dataframe\">\n",
       "  <thead>\n",
       "    <tr style=\"text-align: right;\">\n",
       "      <th></th>\n",
       "      <th>id</th>\n",
       "      <th>toxic</th>\n",
       "      <th>severe_toxic</th>\n",
       "      <th>obscene</th>\n",
       "      <th>threat</th>\n",
       "      <th>insult</th>\n",
       "      <th>identity_hate</th>\n",
       "    </tr>\n",
       "  </thead>\n",
       "  <tbody>\n",
       "    <tr>\n",
       "      <th>0</th>\n",
       "      <td>002264ea4d5f2887</td>\n",
       "      <td>0.0</td>\n",
       "      <td>0.0</td>\n",
       "      <td>0.0</td>\n",
       "      <td>0.0</td>\n",
       "      <td>0.0</td>\n",
       "      <td>0.0</td>\n",
       "    </tr>\n",
       "    <tr>\n",
       "      <th>1</th>\n",
       "      <td>0310c62027c1cc81</td>\n",
       "      <td>0.0</td>\n",
       "      <td>0.0</td>\n",
       "      <td>0.0</td>\n",
       "      <td>0.0</td>\n",
       "      <td>0.0</td>\n",
       "      <td>0.0</td>\n",
       "    </tr>\n",
       "    <tr>\n",
       "      <th>2</th>\n",
       "      <td>03effbaf048d353d</td>\n",
       "      <td>0.0</td>\n",
       "      <td>0.0</td>\n",
       "      <td>0.0</td>\n",
       "      <td>0.0</td>\n",
       "      <td>0.0</td>\n",
       "      <td>0.0</td>\n",
       "    </tr>\n",
       "    <tr>\n",
       "      <th>3</th>\n",
       "      <td>03f1f91ce9efe2c4</td>\n",
       "      <td>0.0</td>\n",
       "      <td>0.0</td>\n",
       "      <td>0.0</td>\n",
       "      <td>0.0</td>\n",
       "      <td>0.0</td>\n",
       "      <td>0.0</td>\n",
       "    </tr>\n",
       "    <tr>\n",
       "      <th>4</th>\n",
       "      <td>04d0cce9eb0667a8</td>\n",
       "      <td>0.0</td>\n",
       "      <td>0.0</td>\n",
       "      <td>0.0</td>\n",
       "      <td>0.0</td>\n",
       "      <td>0.0</td>\n",
       "      <td>0.0</td>\n",
       "    </tr>\n",
       "    <tr>\n",
       "      <th>...</th>\n",
       "      <td>...</td>\n",
       "      <td>...</td>\n",
       "      <td>...</td>\n",
       "      <td>...</td>\n",
       "      <td>...</td>\n",
       "      <td>...</td>\n",
       "      <td>...</td>\n",
       "    </tr>\n",
       "    <tr>\n",
       "      <th>39888</th>\n",
       "      <td>ae4d2effbdb0f8fc</td>\n",
       "      <td>0.0</td>\n",
       "      <td>0.0</td>\n",
       "      <td>0.0</td>\n",
       "      <td>0.0</td>\n",
       "      <td>0.0</td>\n",
       "      <td>0.0</td>\n",
       "    </tr>\n",
       "    <tr>\n",
       "      <th>39889</th>\n",
       "      <td>b437244bf9f0ffb5</td>\n",
       "      <td>1.0</td>\n",
       "      <td>0.0</td>\n",
       "      <td>0.0</td>\n",
       "      <td>0.0</td>\n",
       "      <td>0.0</td>\n",
       "      <td>0.0</td>\n",
       "    </tr>\n",
       "    <tr>\n",
       "      <th>39890</th>\n",
       "      <td>d43a518f105302fe</td>\n",
       "      <td>0.0</td>\n",
       "      <td>0.0</td>\n",
       "      <td>0.0</td>\n",
       "      <td>0.0</td>\n",
       "      <td>0.0</td>\n",
       "      <td>0.0</td>\n",
       "    </tr>\n",
       "    <tr>\n",
       "      <th>39891</th>\n",
       "      <td>fb57e4559f38e03b</td>\n",
       "      <td>0.0</td>\n",
       "      <td>0.0</td>\n",
       "      <td>0.0</td>\n",
       "      <td>0.0</td>\n",
       "      <td>0.0</td>\n",
       "      <td>0.0</td>\n",
       "    </tr>\n",
       "    <tr>\n",
       "      <th>39892</th>\n",
       "      <td>fc155f20e1298b35</td>\n",
       "      <td>0.0</td>\n",
       "      <td>0.0</td>\n",
       "      <td>0.0</td>\n",
       "      <td>0.0</td>\n",
       "      <td>0.0</td>\n",
       "      <td>0.0</td>\n",
       "    </tr>\n",
       "  </tbody>\n",
       "</table>\n",
       "<p>39893 rows × 7 columns</p>\n",
       "</div>"
      ],
      "text/plain": [
       "                     id  toxic  severe_toxic  obscene  threat  insult  \\\n",
       "0      002264ea4d5f2887    0.0           0.0      0.0     0.0     0.0   \n",
       "1      0310c62027c1cc81    0.0           0.0      0.0     0.0     0.0   \n",
       "2      03effbaf048d353d    0.0           0.0      0.0     0.0     0.0   \n",
       "3      03f1f91ce9efe2c4    0.0           0.0      0.0     0.0     0.0   \n",
       "4      04d0cce9eb0667a8    0.0           0.0      0.0     0.0     0.0   \n",
       "...                 ...    ...           ...      ...     ...     ...   \n",
       "39888  ae4d2effbdb0f8fc    0.0           0.0      0.0     0.0     0.0   \n",
       "39889  b437244bf9f0ffb5    1.0           0.0      0.0     0.0     0.0   \n",
       "39890  d43a518f105302fe    0.0           0.0      0.0     0.0     0.0   \n",
       "39891  fb57e4559f38e03b    0.0           0.0      0.0     0.0     0.0   \n",
       "39892  fc155f20e1298b35    0.0           0.0      0.0     0.0     0.0   \n",
       "\n",
       "       identity_hate  \n",
       "0                0.0  \n",
       "1                0.0  \n",
       "2                0.0  \n",
       "3                0.0  \n",
       "4                0.0  \n",
       "...              ...  \n",
       "39888            0.0  \n",
       "39889            0.0  \n",
       "39890            0.0  \n",
       "39891            0.0  \n",
       "39892            0.0  \n",
       "\n",
       "[39893 rows x 7 columns]"
      ]
     },
     "execution_count": 72,
     "metadata": {},
     "output_type": "execute_result"
    }
   ],
   "source": [
    "test_res_pd"
   ]
  },
  {
   "cell_type": "code",
   "execution_count": 73,
   "id": "d089e116",
   "metadata": {},
   "outputs": [],
   "source": [
    "test_res_pd = test_res_pd.sort_values(by=['id'])"
   ]
  },
  {
   "cell_type": "code",
   "execution_count": 74,
   "id": "c29bad6f",
   "metadata": {},
   "outputs": [],
   "source": [
    "c"
   ]
  },
  {
   "cell_type": "code",
   "execution_count": 75,
   "id": "49182575",
   "metadata": {},
   "outputs": [],
   "source": [
    "test_res_pd.toxic = test_res_pd.toxic.astype(int)\n",
    "test_res_pd.severe_toxic = test_res_pd.severe_toxic.astype(int)\n",
    "test_res_pd.obscene = test_res_pd.obscene.astype(int)\n",
    "test_res_pd.threat = test_res_pd.threat.astype(int)\n",
    "test_res_pd.insult = test_res_pd.insult.astype(int)\n",
    "test_res_pd.identity_hate = test_res_pd.identity_hate.astype(int)"
   ]
  },
  {
   "cell_type": "code",
   "execution_count": 76,
   "id": "be372b02",
   "metadata": {},
   "outputs": [
    {
     "data": {
      "text/html": [
       "<div>\n",
       "<style scoped>\n",
       "    .dataframe tbody tr th:only-of-type {\n",
       "        vertical-align: middle;\n",
       "    }\n",
       "\n",
       "    .dataframe tbody tr th {\n",
       "        vertical-align: top;\n",
       "    }\n",
       "\n",
       "    .dataframe thead th {\n",
       "        text-align: right;\n",
       "    }\n",
       "</style>\n",
       "<table border=\"1\" class=\"dataframe\">\n",
       "  <thead>\n",
       "    <tr style=\"text-align: right;\">\n",
       "      <th></th>\n",
       "      <th>id</th>\n",
       "      <th>toxic</th>\n",
       "      <th>severe_toxic</th>\n",
       "      <th>obscene</th>\n",
       "      <th>threat</th>\n",
       "      <th>insult</th>\n",
       "      <th>identity_hate</th>\n",
       "    </tr>\n",
       "  </thead>\n",
       "  <tbody>\n",
       "    <tr>\n",
       "      <th>36098</th>\n",
       "      <td>00013fa6fb6ef643</td>\n",
       "      <td>0</td>\n",
       "      <td>0</td>\n",
       "      <td>0</td>\n",
       "      <td>0</td>\n",
       "      <td>0</td>\n",
       "      <td>0</td>\n",
       "    </tr>\n",
       "    <tr>\n",
       "      <th>11656</th>\n",
       "      <td>00025465d4725e87</td>\n",
       "      <td>0</td>\n",
       "      <td>0</td>\n",
       "      <td>0</td>\n",
       "      <td>0</td>\n",
       "      <td>0</td>\n",
       "      <td>0</td>\n",
       "    </tr>\n",
       "    <tr>\n",
       "      <th>35243</th>\n",
       "      <td>0002eeaf4c0cdf35</td>\n",
       "      <td>0</td>\n",
       "      <td>0</td>\n",
       "      <td>0</td>\n",
       "      <td>0</td>\n",
       "      <td>0</td>\n",
       "      <td>0</td>\n",
       "    </tr>\n",
       "    <tr>\n",
       "      <th>18272</th>\n",
       "      <td>00040093b2687caa</td>\n",
       "      <td>0</td>\n",
       "      <td>0</td>\n",
       "      <td>0</td>\n",
       "      <td>0</td>\n",
       "      <td>0</td>\n",
       "      <td>0</td>\n",
       "    </tr>\n",
       "    <tr>\n",
       "      <th>3678</th>\n",
       "      <td>0005300084f90edc</td>\n",
       "      <td>0</td>\n",
       "      <td>0</td>\n",
       "      <td>0</td>\n",
       "      <td>0</td>\n",
       "      <td>0</td>\n",
       "      <td>0</td>\n",
       "    </tr>\n",
       "    <tr>\n",
       "      <th>...</th>\n",
       "      <td>...</td>\n",
       "      <td>...</td>\n",
       "      <td>...</td>\n",
       "      <td>...</td>\n",
       "      <td>...</td>\n",
       "      <td>...</td>\n",
       "      <td>...</td>\n",
       "    </tr>\n",
       "    <tr>\n",
       "      <th>27058</th>\n",
       "      <td>fff5d08a356a9fde</td>\n",
       "      <td>0</td>\n",
       "      <td>0</td>\n",
       "      <td>0</td>\n",
       "      <td>0</td>\n",
       "      <td>0</td>\n",
       "      <td>0</td>\n",
       "    </tr>\n",
       "    <tr>\n",
       "      <th>29825</th>\n",
       "      <td>fff880e2b149dc13</td>\n",
       "      <td>0</td>\n",
       "      <td>0</td>\n",
       "      <td>0</td>\n",
       "      <td>0</td>\n",
       "      <td>0</td>\n",
       "      <td>0</td>\n",
       "    </tr>\n",
       "    <tr>\n",
       "      <th>21592</th>\n",
       "      <td>fff90f6920245ab8</td>\n",
       "      <td>0</td>\n",
       "      <td>0</td>\n",
       "      <td>0</td>\n",
       "      <td>0</td>\n",
       "      <td>0</td>\n",
       "      <td>0</td>\n",
       "    </tr>\n",
       "    <tr>\n",
       "      <th>20232</th>\n",
       "      <td>ffff3a700c54e047</td>\n",
       "      <td>0</td>\n",
       "      <td>0</td>\n",
       "      <td>0</td>\n",
       "      <td>0</td>\n",
       "      <td>0</td>\n",
       "      <td>0</td>\n",
       "    </tr>\n",
       "    <tr>\n",
       "      <th>29097</th>\n",
       "      <td>ffffc2f890bb6fb5</td>\n",
       "      <td>0</td>\n",
       "      <td>0</td>\n",
       "      <td>0</td>\n",
       "      <td>0</td>\n",
       "      <td>0</td>\n",
       "      <td>0</td>\n",
       "    </tr>\n",
       "  </tbody>\n",
       "</table>\n",
       "<p>39893 rows × 7 columns</p>\n",
       "</div>"
      ],
      "text/plain": [
       "                     id  toxic  severe_toxic  obscene  threat  insult  \\\n",
       "36098  00013fa6fb6ef643      0             0        0       0       0   \n",
       "11656  00025465d4725e87      0             0        0       0       0   \n",
       "35243  0002eeaf4c0cdf35      0             0        0       0       0   \n",
       "18272  00040093b2687caa      0             0        0       0       0   \n",
       "3678   0005300084f90edc      0             0        0       0       0   \n",
       "...                 ...    ...           ...      ...     ...     ...   \n",
       "27058  fff5d08a356a9fde      0             0        0       0       0   \n",
       "29825  fff880e2b149dc13      0             0        0       0       0   \n",
       "21592  fff90f6920245ab8      0             0        0       0       0   \n",
       "20232  ffff3a700c54e047      0             0        0       0       0   \n",
       "29097  ffffc2f890bb6fb5      0             0        0       0       0   \n",
       "\n",
       "       identity_hate  \n",
       "36098              0  \n",
       "11656              0  \n",
       "35243              0  \n",
       "18272              0  \n",
       "3678               0  \n",
       "...              ...  \n",
       "27058              0  \n",
       "29825              0  \n",
       "21592              0  \n",
       "20232              0  \n",
       "29097              0  \n",
       "\n",
       "[39893 rows x 7 columns]"
      ]
     },
     "execution_count": 76,
     "metadata": {},
     "output_type": "execute_result"
    }
   ],
   "source": [
    "test_res_pd"
   ]
  },
  {
   "cell_type": "code",
   "execution_count": 77,
   "id": "9fc53403",
   "metadata": {},
   "outputs": [
    {
     "data": {
      "text/html": [
       "<div>\n",
       "<style scoped>\n",
       "    .dataframe tbody tr th:only-of-type {\n",
       "        vertical-align: middle;\n",
       "    }\n",
       "\n",
       "    .dataframe tbody tr th {\n",
       "        vertical-align: top;\n",
       "    }\n",
       "\n",
       "    .dataframe thead th {\n",
       "        text-align: right;\n",
       "    }\n",
       "</style>\n",
       "<table border=\"1\" class=\"dataframe\">\n",
       "  <thead>\n",
       "    <tr style=\"text-align: right;\">\n",
       "      <th></th>\n",
       "      <th>id</th>\n",
       "      <th>comment_text</th>\n",
       "      <th>toxic</th>\n",
       "      <th>severe_toxic</th>\n",
       "      <th>obscene</th>\n",
       "      <th>threat</th>\n",
       "      <th>insult</th>\n",
       "      <th>identity_hate</th>\n",
       "    </tr>\n",
       "  </thead>\n",
       "  <tbody>\n",
       "    <tr>\n",
       "      <th>95737</th>\n",
       "      <td>00013fa6fb6ef643</td>\n",
       "      <td>Wehwalt, FTR, I'm not objecting to text about ...</td>\n",
       "      <td>0</td>\n",
       "      <td>0</td>\n",
       "      <td>0</td>\n",
       "      <td>0</td>\n",
       "      <td>0</td>\n",
       "      <td>0</td>\n",
       "    </tr>\n",
       "    <tr>\n",
       "      <th>5</th>\n",
       "      <td>00025465d4725e87</td>\n",
       "      <td>\"\\n\\nCongratulations from me as well, use the ...</td>\n",
       "      <td>0</td>\n",
       "      <td>0</td>\n",
       "      <td>0</td>\n",
       "      <td>0</td>\n",
       "      <td>0</td>\n",
       "      <td>0</td>\n",
       "    </tr>\n",
       "    <tr>\n",
       "      <th>95739</th>\n",
       "      <td>0002eeaf4c0cdf35</td>\n",
       "      <td>But isnt it against the rules to edit if you a...</td>\n",
       "      <td>0</td>\n",
       "      <td>0</td>\n",
       "      <td>0</td>\n",
       "      <td>0</td>\n",
       "      <td>0</td>\n",
       "      <td>0</td>\n",
       "    </tr>\n",
       "    <tr>\n",
       "      <th>9</th>\n",
       "      <td>00040093b2687caa</td>\n",
       "      <td>alignment on this subject and which are contra...</td>\n",
       "      <td>0</td>\n",
       "      <td>0</td>\n",
       "      <td>0</td>\n",
       "      <td>0</td>\n",
       "      <td>0</td>\n",
       "      <td>0</td>\n",
       "    </tr>\n",
       "    <tr>\n",
       "      <th>10</th>\n",
       "      <td>0005300084f90edc</td>\n",
       "      <td>\"\\nFair use rationale for Image:Wonju.jpg\\n\\nT...</td>\n",
       "      <td>0</td>\n",
       "      <td>0</td>\n",
       "      <td>0</td>\n",
       "      <td>0</td>\n",
       "      <td>0</td>\n",
       "      <td>0</td>\n",
       "    </tr>\n",
       "    <tr>\n",
       "      <th>...</th>\n",
       "      <td>...</td>\n",
       "      <td>...</td>\n",
       "      <td>...</td>\n",
       "      <td>...</td>\n",
       "      <td>...</td>\n",
       "      <td>...</td>\n",
       "      <td>...</td>\n",
       "      <td>...</td>\n",
       "    </tr>\n",
       "    <tr>\n",
       "      <th>95719</th>\n",
       "      <td>fff5d08a356a9fde</td>\n",
       "      <td>Expansion \\n\\nI can handle the expansion, give...</td>\n",
       "      <td>0</td>\n",
       "      <td>0</td>\n",
       "      <td>0</td>\n",
       "      <td>0</td>\n",
       "      <td>0</td>\n",
       "      <td>0</td>\n",
       "    </tr>\n",
       "    <tr>\n",
       "      <th>95725</th>\n",
       "      <td>fff880e2b149dc13</td>\n",
       "      <td>February 2006 (UTC))\\n\\nWell if you would just...</td>\n",
       "      <td>0</td>\n",
       "      <td>0</td>\n",
       "      <td>0</td>\n",
       "      <td>0</td>\n",
       "      <td>0</td>\n",
       "      <td>0</td>\n",
       "    </tr>\n",
       "    <tr>\n",
       "      <th>143604</th>\n",
       "      <td>fff90f6920245ab8</td>\n",
       "      <td>How about edit the broken links of Incident at...</td>\n",
       "      <td>0</td>\n",
       "      <td>0</td>\n",
       "      <td>0</td>\n",
       "      <td>0</td>\n",
       "      <td>0</td>\n",
       "      <td>0</td>\n",
       "    </tr>\n",
       "    <tr>\n",
       "      <th>143606</th>\n",
       "      <td>ffff3a700c54e047</td>\n",
       "      <td>\"\\n\\nI am glad I can amuse you. Perhaps your t...</td>\n",
       "      <td>0</td>\n",
       "      <td>0</td>\n",
       "      <td>0</td>\n",
       "      <td>0</td>\n",
       "      <td>0</td>\n",
       "      <td>0</td>\n",
       "    </tr>\n",
       "    <tr>\n",
       "      <th>95736</th>\n",
       "      <td>ffffc2f890bb6fb5</td>\n",
       "      <td>\"\\n\\n interesting page \\n\\nThere's some good i...</td>\n",
       "      <td>0</td>\n",
       "      <td>0</td>\n",
       "      <td>0</td>\n",
       "      <td>0</td>\n",
       "      <td>0</td>\n",
       "      <td>0</td>\n",
       "    </tr>\n",
       "  </tbody>\n",
       "</table>\n",
       "<p>39893 rows × 8 columns</p>\n",
       "</div>"
      ],
      "text/plain": [
       "                      id                                       comment_text  \\\n",
       "95737   00013fa6fb6ef643  Wehwalt, FTR, I'm not objecting to text about ...   \n",
       "5       00025465d4725e87  \"\\n\\nCongratulations from me as well, use the ...   \n",
       "95739   0002eeaf4c0cdf35  But isnt it against the rules to edit if you a...   \n",
       "9       00040093b2687caa  alignment on this subject and which are contra...   \n",
       "10      0005300084f90edc  \"\\nFair use rationale for Image:Wonju.jpg\\n\\nT...   \n",
       "...                  ...                                                ...   \n",
       "95719   fff5d08a356a9fde  Expansion \\n\\nI can handle the expansion, give...   \n",
       "95725   fff880e2b149dc13  February 2006 (UTC))\\n\\nWell if you would just...   \n",
       "143604  fff90f6920245ab8  How about edit the broken links of Incident at...   \n",
       "143606  ffff3a700c54e047  \"\\n\\nI am glad I can amuse you. Perhaps your t...   \n",
       "95736   ffffc2f890bb6fb5  \"\\n\\n interesting page \\n\\nThere's some good i...   \n",
       "\n",
       "        toxic  severe_toxic  obscene  threat  insult  identity_hate  \n",
       "95737       0             0        0       0       0              0  \n",
       "5           0             0        0       0       0              0  \n",
       "95739       0             0        0       0       0              0  \n",
       "9           0             0        0       0       0              0  \n",
       "10          0             0        0       0       0              0  \n",
       "...       ...           ...      ...     ...     ...            ...  \n",
       "95719       0             0        0       0       0              0  \n",
       "95725       0             0        0       0       0              0  \n",
       "143604      0             0        0       0       0              0  \n",
       "143606      0             0        0       0       0              0  \n",
       "95736       0             0        0       0       0              0  \n",
       "\n",
       "[39893 rows x 8 columns]"
      ]
     },
     "execution_count": 77,
     "metadata": {},
     "output_type": "execute_result"
    }
   ],
   "source": [
    "test_res_real"
   ]
  },
  {
   "cell_type": "code",
   "execution_count": 78,
   "id": "cf6cbd96",
   "metadata": {},
   "outputs": [
    {
     "name": "stdout",
     "output_type": "stream",
     "text": [
      "0.2571669477234402\n",
      "0.7151230949589683\n",
      "0.15677203803649448\n",
      "0.9116637003985661\n"
     ]
    }
   ],
   "source": [
    "print(f1_score(test_res_pd.toxic, test_res_real.toxic))\n",
    "print(recall_score(test_res_pd.toxic, test_res_real.toxic))\n",
    "print(precision_score(test_res_pd.toxic, test_res_real.toxic))\n",
    "print(accuracy_score(test_res_pd.toxic, test_res_real.toxic))"
   ]
  },
  {
   "cell_type": "code",
   "execution_count": 79,
   "id": "d1b34fd9",
   "metadata": {},
   "outputs": [
    {
     "name": "stdout",
     "output_type": "stream",
     "text": [
      "0.1032258064516129\n",
      "0.43636363636363634\n",
      "0.05853658536585366\n",
      "0.9895470383275261\n"
     ]
    }
   ],
   "source": [
    "print(f1_score(test_res_pd.severe_toxic, test_res_real.severe_toxic))\n",
    "print(recall_score(test_res_pd.severe_toxic, test_res_real.severe_toxic))\n",
    "print(precision_score(test_res_pd.severe_toxic, test_res_real.severe_toxic))\n",
    "print(accuracy_score(test_res_pd.severe_toxic, test_res_real.severe_toxic))"
   ]
  },
  {
   "cell_type": "code",
   "execution_count": 80,
   "id": "7e356173",
   "metadata": {},
   "outputs": [
    {
     "name": "stdout",
     "output_type": "stream",
     "text": [
      "0.17730496453900707\n",
      "0.596816976127321\n",
      "0.10411846367422489\n",
      "0.9476599904745193\n"
     ]
    }
   ],
   "source": [
    "print(f1_score(test_res_pd.obscene, test_res_real.obscene))\n",
    "print(recall_score(test_res_pd.obscene, test_res_real.obscene))\n",
    "print(precision_score(test_res_pd.obscene, test_res_real.obscene))\n",
    "print(accuracy_score(test_res_pd.obscene, test_res_real.obscene))"
   ]
  },
  {
   "cell_type": "code",
   "execution_count": 81,
   "id": "fcfaf939",
   "metadata": {},
   "outputs": [
    {
     "name": "stdout",
     "output_type": "stream",
     "text": [
      "0.08108108108108109\n",
      "0.3157894736842105\n",
      "0.046511627906976744\n",
      "0.9965908806056201\n"
     ]
    }
   ],
   "source": [
    "print(f1_score(test_res_pd.threat, test_res_real.threat))\n",
    "print(recall_score(test_res_pd.threat, test_res_real.threat))\n",
    "print(precision_score(test_res_pd.threat, test_res_real.threat))\n",
    "print(accuracy_score(test_res_pd.threat, test_res_real.threat))"
   ]
  },
  {
   "cell_type": "code",
   "execution_count": 82,
   "id": "cb8c7eb9",
   "metadata": {},
   "outputs": [
    {
     "name": "stdout",
     "output_type": "stream",
     "text": [
      "0.019753086419753086\n",
      "0.09523809523809523\n",
      "0.011019283746556474\n",
      "0.990048379414935\n"
     ]
    }
   ],
   "source": [
    "print(f1_score(test_res_pd.identity_hate, test_res_real.identity_hate))\n",
    "print(recall_score(test_res_pd.identity_hate, test_res_real.identity_hate))\n",
    "print(precision_score(test_res_pd.identity_hate, test_res_real.identity_hate))\n",
    "print(accuracy_score(test_res_pd.identity_hate, test_res_real.identity_hate))"
   ]
  },
  {
   "cell_type": "code",
   "execution_count": null,
   "id": "4f1b42cd",
   "metadata": {},
   "outputs": [],
   "source": []
  },
  {
   "cell_type": "code",
   "execution_count": null,
   "id": "60ea0df9",
   "metadata": {},
   "outputs": [],
   "source": []
  },
  {
   "cell_type": "code",
   "execution_count": null,
   "id": "1ad610d7",
   "metadata": {},
   "outputs": [],
   "source": []
  }
 ],
 "metadata": {
  "kernelspec": {
   "display_name": "Python 3 (ipykernel)",
   "language": "python",
   "name": "python3"
  },
  "language_info": {
   "codemirror_mode": {
    "name": "ipython",
    "version": 3
   },
   "file_extension": ".py",
   "mimetype": "text/x-python",
   "name": "python",
   "nbconvert_exporter": "python",
   "pygments_lexer": "ipython3",
   "version": "3.10.8"
  }
 },
 "nbformat": 4,
 "nbformat_minor": 5
}
