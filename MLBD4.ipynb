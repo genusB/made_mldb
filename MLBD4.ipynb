{
 "cells": [
  {
   "cell_type": "code",
   "execution_count": 26,
   "id": "86709179",
   "metadata": {},
   "outputs": [],
   "source": [
    "import warnings\n",
    "warnings.simplefilter(action='ignore', category=FutureWarning)\n",
    "\n",
    "import pandas as pd\n",
    "from pyspark.sql import SparkSession\n",
    "import pyspark.sql.functions as F\n",
    "import pyspark.sql.types as T\n",
    "from pyspark.ml.feature import RegexTokenizer, StopWordsRemover, HashingTF, IDF\n",
    "from pyspark.ml import Pipeline\n",
    "from pyspark.ml.classification import LogisticRegression\n",
    "\n",
    "from sklearn.metrics import f1_score"
   ]
  },
  {
   "cell_type": "code",
   "execution_count": 2,
   "id": "12870699",
   "metadata": {},
   "outputs": [
    {
     "name": "stderr",
     "output_type": "stream",
     "text": [
      "Setting default log level to \"WARN\".\n",
      "To adjust logging level use sc.setLogLevel(newLevel). For SparkR, use setLogLevel(newLevel).\n"
     ]
    },
    {
     "name": "stdout",
     "output_type": "stream",
     "text": [
      "22/12/10 19:13:45 WARN NativeCodeLoader: Unable to load native-hadoop library for your platform... using builtin-java classes where applicable\n"
     ]
    }
   ],
   "source": [
    "spark = (SparkSession.builder\n",
    "                  .appName('MLBD Comment Classification')\n",
    "                  .enableHiveSupport()\n",
    "                  .config(\"spark.executor.memory\", \"6G\")\n",
    "                  .config(\"spark.driver.memory\",\"18G\")\n",
    "                  .config(\"spark.executor.cores\",\"7\")\n",
    "                  .config(\"spark.python.worker.memory\",\"6G\")\n",
    "                  .config(\"spark.driver.maxResultSize\",\"0\")\n",
    "                  .config(\"spark.sql.crossJoin.enabled\", \"true\")\n",
    "                  .config(\"spark.serializer\",\"org.apache.spark.serializer.KryoSerializer\")\n",
    "                  .config(\"spark.default.parallelism\",\"2\")\n",
    "                  .getOrCreate())"
   ]
  },
  {
   "cell_type": "code",
   "execution_count": 3,
   "id": "872c7af4",
   "metadata": {},
   "outputs": [],
   "source": [
    "df = pd.read_csv('./train.csv')\n",
    "df.comment_text.fillna(\"\", inplace=True)"
   ]
  },
  {
   "cell_type": "code",
   "execution_count": 4,
   "id": "afc2d637",
   "metadata": {},
   "outputs": [],
   "source": [
    "percent = int(len(df) * 0.75)"
   ]
  },
  {
   "cell_type": "code",
   "execution_count": 5,
   "id": "c9d20a6b",
   "metadata": {},
   "outputs": [],
   "source": [
    "train, test = spark.createDataFrame(df.iloc[:percent]), spark.createDataFrame(df.iloc[percent:])"
   ]
  },
  {
   "cell_type": "code",
   "execution_count": 6,
   "id": "1875e967",
   "metadata": {},
   "outputs": [],
   "source": [
    "with open('./stop_words.txt') as file:\n",
    "    stop_words = list(map(lambda x: x.replace('\"', '').strip(), file.readline().split(\",\")))"
   ]
  },
  {
   "cell_type": "code",
   "execution_count": 7,
   "id": "ec0b1a74",
   "metadata": {},
   "outputs": [],
   "source": [
    "tokenizer = RegexTokenizer(inputCol=\"comment_text\", outputCol=\"words\", pattern=\"\\\\W\")"
   ]
  },
  {
   "cell_type": "code",
   "execution_count": 8,
   "id": "5fc17b90",
   "metadata": {},
   "outputs": [
    {
     "name": "stdout",
     "output_type": "stream",
     "text": [
      "22/12/10 19:13:58 WARN StopWordsRemover: Default locale set was [en_BY]; however, it was not found in available locales in JVM, falling back to en_US locale. Set param `locale` in order to respect another locale.\n"
     ]
    }
   ],
   "source": [
    "stop_words_remover = StopWordsRemover(inputCol=\"words\", outputCol=\"filtered\").setStopWords(stop_words)"
   ]
  },
  {
   "cell_type": "code",
   "execution_count": 9,
   "id": "093ba80f",
   "metadata": {},
   "outputs": [],
   "source": [
    "hashingTF = HashingTF(inputCol=\"filtered\", outputCol=\"filtered_hashed\")"
   ]
  },
  {
   "cell_type": "code",
   "execution_count": 10,
   "id": "283cb713",
   "metadata": {},
   "outputs": [],
   "source": [
    "idf = IDF(inputCol=\"filtered_hashed\", outputCol=\"features\")"
   ]
  },
  {
   "cell_type": "code",
   "execution_count": 11,
   "id": "03b4391c",
   "metadata": {},
   "outputs": [
    {
     "name": "stderr",
     "output_type": "stream",
     "text": [
      "\r",
      "[Stage 0:>                                                          (0 + 0) / 2]\r"
     ]
    },
    {
     "name": "stdout",
     "output_type": "stream",
     "text": [
      "22/12/10 19:14:00 WARN TaskSetManager: Stage 0 contains a task of very large size (25385 KiB). The maximum recommended task size is 1000 KiB.\n"
     ]
    },
    {
     "name": "stderr",
     "output_type": "stream",
     "text": [
      "                                                                                \r"
     ]
    }
   ],
   "source": [
    "pipeline = Pipeline(stages=[tokenizer, stop_words_remover, hashingTF, idf])\n",
    "pipeline_fit = pipeline.fit(train)\n",
    "\n",
    "dataset = pipeline_fit.transform(train)"
   ]
  },
  {
   "cell_type": "code",
   "execution_count": 12,
   "id": "fdc6cb38",
   "metadata": {},
   "outputs": [
    {
     "name": "stdout",
     "output_type": "stream",
     "text": [
      "22/12/10 19:14:04 WARN DAGScheduler: Broadcasting large task binary with size 4.1 MiB\n",
      "22/12/10 19:14:04 WARN TaskSetManager: Stage 1 contains a task of very large size (25385 KiB). The maximum recommended task size is 1000 KiB.\n"
     ]
    },
    {
     "name": "stderr",
     "output_type": "stream",
     "text": [
      "\r",
      "[Stage 1:>                                                          (0 + 1) / 1]\r"
     ]
    },
    {
     "name": "stdout",
     "output_type": "stream",
     "text": [
      "22/12/10 19:14:08 WARN PythonRunner: Detected deadlock while completing task 0.0 in stage 1 (TID 2): Attempting to kill Python Worker\n"
     ]
    },
    {
     "name": "stderr",
     "output_type": "stream",
     "text": [
      "\r",
      "                                                                                \r"
     ]
    },
    {
     "data": {
      "text/plain": [
       "[Row(features=SparseVector(262144, {6240: 8.5145, 10214: 6.233, 11680: 4.7144, 23032: 4.851, 25000: 5.4047, 26144: 3.5575, 37479: 5.9755, 66299: 7.5982, 68213: 8.4345, 72125: 1.7795, 77971: 7.3618, 79300: 6.3647, 103863: 6.605, 110510: 5.3808, 146687: 6.3647, 151751: 8.648, 154643: 3.9257, 167363: 6.3794, 190344: 5.1943, 213145: 6.8723, 223402: 3.0647, 229137: 4.2037}))]"
      ]
     },
     "execution_count": 12,
     "metadata": {},
     "output_type": "execute_result"
    }
   ],
   "source": [
    "dataset.select(\"features\").head(1)"
   ]
  },
  {
   "cell_type": "code",
   "execution_count": 13,
   "id": "238f33bc",
   "metadata": {},
   "outputs": [],
   "source": [
    "regParam = 0.1"
   ]
  },
  {
   "cell_type": "code",
   "execution_count": 14,
   "id": "bf6b5302",
   "metadata": {},
   "outputs": [],
   "source": [
    "dataset_test = pipeline_fit.transform(test)"
   ]
  },
  {
   "cell_type": "code",
   "execution_count": 15,
   "id": "717646c2",
   "metadata": {},
   "outputs": [
    {
     "name": "stdout",
     "output_type": "stream",
     "text": [
      "22/12/10 19:14:10 WARN TaskSetManager: Stage 2 contains a task of very large size (8263 KiB). The maximum recommended task size is 1000 KiB.\n"
     ]
    },
    {
     "name": "stderr",
     "output_type": "stream",
     "text": [
      "\r",
      "[Stage 2:>                                                          (0 + 1) / 1]\r"
     ]
    },
    {
     "name": "stdout",
     "output_type": "stream",
     "text": [
      "22/12/10 19:14:14 WARN PythonRunner: Detected deadlock while completing task 0.0 in stage 2 (TID 3): Attempting to kill Python Worker\n"
     ]
    },
    {
     "name": "stderr",
     "output_type": "stream",
     "text": [
      "\r",
      "                                                                                \r"
     ]
    },
    {
     "data": {
      "text/plain": [
       "Row(id='7fe13f3ea7605f02')"
      ]
     },
     "execution_count": 15,
     "metadata": {},
     "output_type": "execute_result"
    }
   ],
   "source": [
    "test_res = test.select('id')\n",
    "test_res.head()"
   ]
  },
  {
   "cell_type": "code",
   "execution_count": 16,
   "id": "eb314495",
   "metadata": {},
   "outputs": [],
   "source": [
    "cols_to_predict = [i for i in train.columns if i not in ['id', 'comment_text']]"
   ]
  },
  {
   "cell_type": "code",
   "execution_count": 17,
   "id": "0bf59cdf",
   "metadata": {},
   "outputs": [
    {
     "name": "stdout",
     "output_type": "stream",
     "text": [
      "22/12/10 19:14:17 WARN DAGScheduler: Broadcasting large task binary with size 4.1 MiB\n",
      "22/12/10 19:14:17 WARN TaskSetManager: Stage 3 contains a task of very large size (25385 KiB). The maximum recommended task size is 1000 KiB.\n"
     ]
    },
    {
     "name": "stderr",
     "output_type": "stream",
     "text": [
      "                                                                                \r"
     ]
    },
    {
     "name": "stdout",
     "output_type": "stream",
     "text": [
      "22/12/10 19:14:20 WARN InstanceBuilder$JavaBLAS: Failed to load implementation from:dev.ludovic.netlib.blas.VectorBLAS\n",
      "22/12/10 19:14:20 WARN DAGScheduler: Broadcasting large task binary with size 4.1 MiB\n",
      "22/12/10 19:14:20 WARN TaskSetManager: Stage 4 contains a task of very large size (25385 KiB). The maximum recommended task size is 1000 KiB.\n"
     ]
    },
    {
     "name": "stderr",
     "output_type": "stream",
     "text": [
      "\r",
      "[Stage 4:>                                                          (0 + 2) / 2]\r"
     ]
    },
    {
     "name": "stdout",
     "output_type": "stream",
     "text": [
      "22/12/10 19:14:22 WARN InstanceBuilder$NativeBLAS: Failed to load implementation from:dev.ludovic.netlib.blas.JNIBLAS\n",
      "22/12/10 19:14:22 WARN InstanceBuilder$NativeBLAS: Failed to load implementation from:dev.ludovic.netlib.blas.ForeignLinkerBLAS\n",
      "22/12/10 19:14:22 WARN BLAS: Failed to load implementation from: com.github.fommil.netlib.NativeSystemBLAS\n",
      "22/12/10 19:14:22 WARN BLAS: Failed to load implementation from: com.github.fommil.netlib.NativeRefBLAS\n",
      "22/12/10 19:14:22 WARN DAGScheduler: Broadcasting large task binary with size 4.1 MiB\n",
      "22/12/10 19:14:22 WARN TaskSetManager: Stage 5 contains a task of very large size (25385 KiB). The maximum recommended task size is 1000 KiB.\n"
     ]
    },
    {
     "name": "stderr",
     "output_type": "stream",
     "text": [
      "\r",
      "                                                                                \r"
     ]
    },
    {
     "name": "stdout",
     "output_type": "stream",
     "text": [
      "22/12/10 19:14:23 WARN DAGScheduler: Broadcasting large task binary with size 4.1 MiB\n",
      "22/12/10 19:14:23 WARN TaskSetManager: Stage 6 contains a task of very large size (25385 KiB). The maximum recommended task size is 1000 KiB.\n",
      "22/12/10 19:14:23 WARN DAGScheduler: Broadcasting large task binary with size 4.1 MiB\n",
      "22/12/10 19:14:23 WARN TaskSetManager: Stage 7 contains a task of very large size (25385 KiB). The maximum recommended task size is 1000 KiB.\n",
      "22/12/10 19:14:23 WARN DAGScheduler: Broadcasting large task binary with size 4.1 MiB\n",
      "22/12/10 19:14:23 WARN TaskSetManager: Stage 8 contains a task of very large size (25385 KiB). The maximum recommended task size is 1000 KiB.\n",
      "22/12/10 19:14:23 WARN DAGScheduler: Broadcasting large task binary with size 4.1 MiB\n",
      "22/12/10 19:14:23 WARN TaskSetManager: Stage 9 contains a task of very large size (25385 KiB). The maximum recommended task size is 1000 KiB.\n",
      "22/12/10 19:14:23 WARN DAGScheduler: Broadcasting large task binary with size 4.1 MiB\n",
      "22/12/10 19:14:23 WARN TaskSetManager: Stage 10 contains a task of very large size (25385 KiB). The maximum recommended task size is 1000 KiB.\n",
      "22/12/10 19:14:23 WARN DAGScheduler: Broadcasting large task binary with size 4.1 MiB\n",
      "22/12/10 19:14:23 WARN TaskSetManager: Stage 11 contains a task of very large size (25385 KiB). The maximum recommended task size is 1000 KiB.\n",
      "22/12/10 19:14:23 WARN DAGScheduler: Broadcasting large task binary with size 4.1 MiB\n",
      "22/12/10 19:14:23 WARN TaskSetManager: Stage 12 contains a task of very large size (25385 KiB). The maximum recommended task size is 1000 KiB.\n",
      "22/12/10 19:14:23 WARN DAGScheduler: Broadcasting large task binary with size 4.1 MiB\n",
      "22/12/10 19:14:23 WARN TaskSetManager: Stage 13 contains a task of very large size (25385 KiB). The maximum recommended task size is 1000 KiB.\n",
      "22/12/10 19:14:23 WARN DAGScheduler: Broadcasting large task binary with size 4.1 MiB\n",
      "22/12/10 19:14:23 WARN TaskSetManager: Stage 14 contains a task of very large size (25385 KiB). The maximum recommended task size is 1000 KiB.\n",
      "22/12/10 19:14:24 WARN DAGScheduler: Broadcasting large task binary with size 4.1 MiB\n",
      "22/12/10 19:14:24 WARN TaskSetManager: Stage 15 contains a task of very large size (25385 KiB). The maximum recommended task size is 1000 KiB.\n",
      "22/12/10 19:14:24 WARN DAGScheduler: Broadcasting large task binary with size 4.1 MiB\n",
      "22/12/10 19:14:24 WARN TaskSetManager: Stage 16 contains a task of very large size (25385 KiB). The maximum recommended task size is 1000 KiB.\n",
      "22/12/10 19:14:24 WARN DAGScheduler: Broadcasting large task binary with size 4.1 MiB\n",
      "22/12/10 19:14:24 WARN TaskSetManager: Stage 17 contains a task of very large size (25385 KiB). The maximum recommended task size is 1000 KiB.\n",
      "22/12/10 19:14:24 WARN DAGScheduler: Broadcasting large task binary with size 4.1 MiB\n",
      "22/12/10 19:14:24 WARN TaskSetManager: Stage 18 contains a task of very large size (25385 KiB). The maximum recommended task size is 1000 KiB.\n",
      "22/12/10 19:14:24 WARN DAGScheduler: Broadcasting large task binary with size 4.1 MiB\n",
      "22/12/10 19:14:24 WARN TaskSetManager: Stage 19 contains a task of very large size (25385 KiB). The maximum recommended task size is 1000 KiB.\n",
      "22/12/10 19:14:24 WARN DAGScheduler: Broadcasting large task binary with size 4.1 MiB\n",
      "22/12/10 19:14:24 WARN TaskSetManager: Stage 20 contains a task of very large size (25385 KiB). The maximum recommended task size is 1000 KiB.\n",
      "22/12/10 19:14:24 WARN DAGScheduler: Broadcasting large task binary with size 4.1 MiB\n",
      "22/12/10 19:14:24 WARN TaskSetManager: Stage 21 contains a task of very large size (25385 KiB). The maximum recommended task size is 1000 KiB.\n",
      "22/12/10 19:14:24 WARN DAGScheduler: Broadcasting large task binary with size 4.1 MiB\n",
      "22/12/10 19:14:24 WARN TaskSetManager: Stage 22 contains a task of very large size (25385 KiB). The maximum recommended task size is 1000 KiB.\n",
      "22/12/10 19:14:24 WARN DAGScheduler: Broadcasting large task binary with size 4.1 MiB\n",
      "22/12/10 19:14:24 WARN TaskSetManager: Stage 23 contains a task of very large size (25385 KiB). The maximum recommended task size is 1000 KiB.\n",
      "22/12/10 19:14:24 WARN DAGScheduler: Broadcasting large task binary with size 4.1 MiB\n",
      "22/12/10 19:14:24 WARN TaskSetManager: Stage 24 contains a task of very large size (25385 KiB). The maximum recommended task size is 1000 KiB.\n",
      "22/12/10 19:14:24 WARN DAGScheduler: Broadcasting large task binary with size 4.1 MiB\n",
      "22/12/10 19:14:24 WARN TaskSetManager: Stage 25 contains a task of very large size (25385 KiB). The maximum recommended task size is 1000 KiB.\n",
      "22/12/10 19:14:24 WARN DAGScheduler: Broadcasting large task binary with size 4.1 MiB\n",
      "22/12/10 19:14:24 WARN TaskSetManager: Stage 26 contains a task of very large size (25385 KiB). The maximum recommended task size is 1000 KiB.\n",
      "22/12/10 19:14:25 WARN DAGScheduler: Broadcasting large task binary with size 4.1 MiB\n",
      "22/12/10 19:14:25 WARN TaskSetManager: Stage 27 contains a task of very large size (25385 KiB). The maximum recommended task size is 1000 KiB.\n",
      "22/12/10 19:14:25 WARN DAGScheduler: Broadcasting large task binary with size 4.1 MiB\n",
      "22/12/10 19:14:25 WARN TaskSetManager: Stage 28 contains a task of very large size (25385 KiB). The maximum recommended task size is 1000 KiB.\n",
      "22/12/10 19:14:25 WARN DAGScheduler: Broadcasting large task binary with size 4.1 MiB\n",
      "22/12/10 19:14:25 WARN TaskSetManager: Stage 29 contains a task of very large size (25385 KiB). The maximum recommended task size is 1000 KiB.\n",
      "22/12/10 19:14:25 WARN DAGScheduler: Broadcasting large task binary with size 4.1 MiB\n",
      "22/12/10 19:14:25 WARN TaskSetManager: Stage 30 contains a task of very large size (25385 KiB). The maximum recommended task size is 1000 KiB.\n",
      "22/12/10 19:14:25 WARN DAGScheduler: Broadcasting large task binary with size 4.1 MiB\n",
      "22/12/10 19:14:25 WARN TaskSetManager: Stage 31 contains a task of very large size (25385 KiB). The maximum recommended task size is 1000 KiB.\n",
      "22/12/10 19:14:25 WARN DAGScheduler: Broadcasting large task binary with size 4.1 MiB\n",
      "22/12/10 19:14:25 WARN TaskSetManager: Stage 32 contains a task of very large size (25385 KiB). The maximum recommended task size is 1000 KiB.\n",
      "22/12/10 19:14:25 WARN DAGScheduler: Broadcasting large task binary with size 4.1 MiB\n",
      "22/12/10 19:14:26 WARN TaskSetManager: Stage 33 contains a task of very large size (25385 KiB). The maximum recommended task size is 1000 KiB.\n",
      "22/12/10 19:14:26 WARN DAGScheduler: Broadcasting large task binary with size 4.1 MiB\n",
      "22/12/10 19:14:26 WARN TaskSetManager: Stage 34 contains a task of very large size (25385 KiB). The maximum recommended task size is 1000 KiB.\n",
      "22/12/10 19:14:26 WARN DAGScheduler: Broadcasting large task binary with size 4.1 MiB\n",
      "22/12/10 19:14:26 WARN TaskSetManager: Stage 35 contains a task of very large size (25385 KiB). The maximum recommended task size is 1000 KiB.\n",
      "22/12/10 19:14:26 WARN DAGScheduler: Broadcasting large task binary with size 4.1 MiB\n",
      "22/12/10 19:14:26 WARN TaskSetManager: Stage 36 contains a task of very large size (25385 KiB). The maximum recommended task size is 1000 KiB.\n",
      "22/12/10 19:14:26 WARN DAGScheduler: Broadcasting large task binary with size 4.1 MiB\n",
      "22/12/10 19:14:26 WARN TaskSetManager: Stage 37 contains a task of very large size (25385 KiB). The maximum recommended task size is 1000 KiB.\n",
      "22/12/10 19:14:26 WARN DAGScheduler: Broadcasting large task binary with size 4.1 MiB\n",
      "22/12/10 19:14:26 WARN TaskSetManager: Stage 38 contains a task of very large size (25385 KiB). The maximum recommended task size is 1000 KiB.\n",
      "22/12/10 19:14:26 WARN DAGScheduler: Broadcasting large task binary with size 4.1 MiB\n",
      "22/12/10 19:14:26 WARN TaskSetManager: Stage 39 contains a task of very large size (25385 KiB). The maximum recommended task size is 1000 KiB.\n",
      "22/12/10 19:14:27 WARN DAGScheduler: Broadcasting large task binary with size 4.1 MiB\n",
      "22/12/10 19:14:27 WARN TaskSetManager: Stage 40 contains a task of very large size (25385 KiB). The maximum recommended task size is 1000 KiB.\n",
      "22/12/10 19:14:27 WARN DAGScheduler: Broadcasting large task binary with size 4.1 MiB\n",
      "22/12/10 19:14:27 WARN TaskSetManager: Stage 41 contains a task of very large size (25385 KiB). The maximum recommended task size is 1000 KiB.\n"
     ]
    },
    {
     "name": "stdout",
     "output_type": "stream",
     "text": [
      "22/12/10 19:14:27 WARN DAGScheduler: Broadcasting large task binary with size 4.1 MiB\n",
      "22/12/10 19:14:27 WARN TaskSetManager: Stage 42 contains a task of very large size (25385 KiB). The maximum recommended task size is 1000 KiB.\n",
      "22/12/10 19:14:27 WARN DAGScheduler: Broadcasting large task binary with size 4.1 MiB\n",
      "22/12/10 19:14:27 WARN TaskSetManager: Stage 43 contains a task of very large size (25385 KiB). The maximum recommended task size is 1000 KiB.\n",
      "22/12/10 19:14:27 WARN DAGScheduler: Broadcasting large task binary with size 4.1 MiB\n",
      "22/12/10 19:14:27 WARN TaskSetManager: Stage 44 contains a task of very large size (25385 KiB). The maximum recommended task size is 1000 KiB.\n",
      "22/12/10 19:14:28 WARN DAGScheduler: Broadcasting large task binary with size 4.1 MiB\n",
      "22/12/10 19:14:28 WARN TaskSetManager: Stage 45 contains a task of very large size (25385 KiB). The maximum recommended task size is 1000 KiB.\n",
      "22/12/10 19:14:28 WARN DAGScheduler: Broadcasting large task binary with size 4.1 MiB\n",
      "22/12/10 19:14:28 WARN TaskSetManager: Stage 46 contains a task of very large size (25385 KiB). The maximum recommended task size is 1000 KiB.\n",
      "22/12/10 19:14:28 WARN DAGScheduler: Broadcasting large task binary with size 4.1 MiB\n",
      "22/12/10 19:14:28 WARN TaskSetManager: Stage 47 contains a task of very large size (25385 KiB). The maximum recommended task size is 1000 KiB.\n",
      "22/12/10 19:14:28 WARN DAGScheduler: Broadcasting large task binary with size 4.1 MiB\n",
      "22/12/10 19:14:28 WARN TaskSetManager: Stage 48 contains a task of very large size (25385 KiB). The maximum recommended task size is 1000 KiB.\n",
      "22/12/10 19:14:28 WARN DAGScheduler: Broadcasting large task binary with size 4.1 MiB\n",
      "22/12/10 19:14:28 WARN TaskSetManager: Stage 49 contains a task of very large size (25385 KiB). The maximum recommended task size is 1000 KiB.\n",
      "22/12/10 19:14:28 WARN DAGScheduler: Broadcasting large task binary with size 4.1 MiB\n",
      "22/12/10 19:14:28 WARN TaskSetManager: Stage 50 contains a task of very large size (25385 KiB). The maximum recommended task size is 1000 KiB.\n",
      "22/12/10 19:14:29 WARN DAGScheduler: Broadcasting large task binary with size 4.1 MiB\n",
      "22/12/10 19:14:29 WARN TaskSetManager: Stage 51 contains a task of very large size (25385 KiB). The maximum recommended task size is 1000 KiB.\n",
      "22/12/10 19:14:29 WARN DAGScheduler: Broadcasting large task binary with size 4.1 MiB\n",
      "22/12/10 19:14:29 WARN TaskSetManager: Stage 52 contains a task of very large size (25385 KiB). The maximum recommended task size is 1000 KiB.\n",
      "22/12/10 19:14:29 WARN DAGScheduler: Broadcasting large task binary with size 4.1 MiB\n",
      "22/12/10 19:14:29 WARN TaskSetManager: Stage 53 contains a task of very large size (25385 KiB). The maximum recommended task size is 1000 KiB.\n",
      "22/12/10 19:14:29 WARN DAGScheduler: Broadcasting large task binary with size 4.1 MiB\n",
      "22/12/10 19:14:29 WARN TaskSetManager: Stage 54 contains a task of very large size (25385 KiB). The maximum recommended task size is 1000 KiB.\n",
      "22/12/10 19:14:29 WARN DAGScheduler: Broadcasting large task binary with size 4.1 MiB\n",
      "22/12/10 19:14:29 WARN TaskSetManager: Stage 55 contains a task of very large size (25385 KiB). The maximum recommended task size is 1000 KiB.\n",
      "22/12/10 19:14:29 WARN DAGScheduler: Broadcasting large task binary with size 4.1 MiB\n",
      "22/12/10 19:14:29 WARN TaskSetManager: Stage 56 contains a task of very large size (25385 KiB). The maximum recommended task size is 1000 KiB.\n",
      "22/12/10 19:14:30 WARN TaskSetManager: Stage 57 contains a task of very large size (8263 KiB). The maximum recommended task size is 1000 KiB.\n",
      "22/12/10 19:14:30 WARN DAGScheduler: Broadcasting large task binary with size 5.4 MiB\n",
      "22/12/10 19:14:30 WARN TaskSetManager: Stage 58 contains a task of very large size (8263 KiB). The maximum recommended task size is 1000 KiB.\n"
     ]
    },
    {
     "name": "stderr",
     "output_type": "stream",
     "text": [
      "                                                                                \r"
     ]
    },
    {
     "name": "stdout",
     "output_type": "stream",
     "text": [
      "+----------------+-----+\n",
      "|              id|toxic|\n",
      "+----------------+-----+\n",
      "|805d0ddb7e79b173|  0.0|\n",
      "|80fb26ac41c0a3e0|  0.0|\n",
      "|81de7451eafefeb3|  0.0|\n",
      "|82c3fd5493e4873e|  1.0|\n",
      "|83a835e1c77f1ab8|  0.0|\n",
      "+----------------+-----+\n",
      "only showing top 5 rows\n",
      "\n",
      "22/12/10 19:14:32 WARN DAGScheduler: Broadcasting large task binary with size 4.1 MiB\n",
      "22/12/10 19:14:32 WARN TaskSetManager: Stage 63 contains a task of very large size (25385 KiB). The maximum recommended task size is 1000 KiB.\n"
     ]
    },
    {
     "name": "stderr",
     "output_type": "stream",
     "text": [
      "                                                                                \r"
     ]
    },
    {
     "name": "stdout",
     "output_type": "stream",
     "text": [
      "22/12/10 19:14:36 WARN DAGScheduler: Broadcasting large task binary with size 4.1 MiB\n",
      "22/12/10 19:14:36 WARN TaskSetManager: Stage 64 contains a task of very large size (25385 KiB). The maximum recommended task size is 1000 KiB.\n"
     ]
    },
    {
     "name": "stderr",
     "output_type": "stream",
     "text": [
      "                                                                                \r"
     ]
    },
    {
     "name": "stdout",
     "output_type": "stream",
     "text": [
      "22/12/10 19:14:45 WARN DAGScheduler: Broadcasting large task binary with size 4.1 MiB\n",
      "22/12/10 19:14:45 WARN TaskSetManager: Stage 65 contains a task of very large size (25385 KiB). The maximum recommended task size is 1000 KiB.\n",
      "22/12/10 19:14:45 WARN DAGScheduler: Broadcasting large task binary with size 4.1 MiB\n",
      "22/12/10 19:14:45 WARN TaskSetManager: Stage 66 contains a task of very large size (25385 KiB). The maximum recommended task size is 1000 KiB.\n",
      "22/12/10 19:14:45 WARN DAGScheduler: Broadcasting large task binary with size 4.1 MiB\n",
      "22/12/10 19:14:45 WARN TaskSetManager: Stage 67 contains a task of very large size (25385 KiB). The maximum recommended task size is 1000 KiB.\n",
      "22/12/10 19:14:46 WARN DAGScheduler: Broadcasting large task binary with size 4.1 MiB\n",
      "22/12/10 19:14:46 WARN TaskSetManager: Stage 68 contains a task of very large size (25385 KiB). The maximum recommended task size is 1000 KiB.\n",
      "22/12/10 19:14:46 WARN DAGScheduler: Broadcasting large task binary with size 4.1 MiB\n",
      "22/12/10 19:14:46 WARN TaskSetManager: Stage 69 contains a task of very large size (25385 KiB). The maximum recommended task size is 1000 KiB.\n",
      "22/12/10 19:14:46 WARN DAGScheduler: Broadcasting large task binary with size 4.1 MiB\n",
      "22/12/10 19:14:46 WARN TaskSetManager: Stage 70 contains a task of very large size (25385 KiB). The maximum recommended task size is 1000 KiB.\n",
      "22/12/10 19:14:46 WARN DAGScheduler: Broadcasting large task binary with size 4.1 MiB\n",
      "22/12/10 19:14:46 WARN TaskSetManager: Stage 71 contains a task of very large size (25385 KiB). The maximum recommended task size is 1000 KiB.\n",
      "22/12/10 19:14:46 WARN DAGScheduler: Broadcasting large task binary with size 4.1 MiB\n",
      "22/12/10 19:14:46 WARN TaskSetManager: Stage 72 contains a task of very large size (25385 KiB). The maximum recommended task size is 1000 KiB.\n",
      "22/12/10 19:14:47 WARN DAGScheduler: Broadcasting large task binary with size 4.1 MiB\n",
      "22/12/10 19:14:47 WARN TaskSetManager: Stage 73 contains a task of very large size (25385 KiB). The maximum recommended task size is 1000 KiB.\n",
      "22/12/10 19:14:47 WARN DAGScheduler: Broadcasting large task binary with size 4.1 MiB\n",
      "22/12/10 19:14:47 WARN TaskSetManager: Stage 74 contains a task of very large size (25385 KiB). The maximum recommended task size is 1000 KiB.\n",
      "22/12/10 19:14:47 WARN DAGScheduler: Broadcasting large task binary with size 4.1 MiB\n",
      "22/12/10 19:14:47 WARN TaskSetManager: Stage 75 contains a task of very large size (25385 KiB). The maximum recommended task size is 1000 KiB.\n",
      "22/12/10 19:14:47 WARN DAGScheduler: Broadcasting large task binary with size 4.1 MiB\n",
      "22/12/10 19:14:47 WARN TaskSetManager: Stage 76 contains a task of very large size (25385 KiB). The maximum recommended task size is 1000 KiB.\n",
      "22/12/10 19:14:47 WARN DAGScheduler: Broadcasting large task binary with size 4.1 MiB\n",
      "22/12/10 19:14:47 WARN TaskSetManager: Stage 77 contains a task of very large size (25385 KiB). The maximum recommended task size is 1000 KiB.\n",
      "22/12/10 19:14:47 WARN DAGScheduler: Broadcasting large task binary with size 4.1 MiB\n",
      "22/12/10 19:14:47 WARN TaskSetManager: Stage 78 contains a task of very large size (25385 KiB). The maximum recommended task size is 1000 KiB.\n",
      "22/12/10 19:14:48 WARN DAGScheduler: Broadcasting large task binary with size 4.1 MiB\n",
      "22/12/10 19:14:48 WARN TaskSetManager: Stage 79 contains a task of very large size (25385 KiB). The maximum recommended task size is 1000 KiB.\n",
      "22/12/10 19:14:48 WARN DAGScheduler: Broadcasting large task binary with size 4.1 MiB\n",
      "22/12/10 19:14:48 WARN TaskSetManager: Stage 80 contains a task of very large size (25385 KiB). The maximum recommended task size is 1000 KiB.\n",
      "22/12/10 19:14:48 WARN DAGScheduler: Broadcasting large task binary with size 4.1 MiB\n",
      "22/12/10 19:14:48 WARN TaskSetManager: Stage 81 contains a task of very large size (25385 KiB). The maximum recommended task size is 1000 KiB.\n",
      "22/12/10 19:14:48 WARN DAGScheduler: Broadcasting large task binary with size 4.1 MiB\n",
      "22/12/10 19:14:48 WARN TaskSetManager: Stage 82 contains a task of very large size (25385 KiB). The maximum recommended task size is 1000 KiB.\n",
      "22/12/10 19:14:48 WARN DAGScheduler: Broadcasting large task binary with size 4.1 MiB\n",
      "22/12/10 19:14:48 WARN TaskSetManager: Stage 83 contains a task of very large size (25385 KiB). The maximum recommended task size is 1000 KiB.\n",
      "22/12/10 19:14:48 WARN DAGScheduler: Broadcasting large task binary with size 4.1 MiB\n",
      "22/12/10 19:14:48 WARN TaskSetManager: Stage 84 contains a task of very large size (25385 KiB). The maximum recommended task size is 1000 KiB.\n",
      "22/12/10 19:14:49 WARN DAGScheduler: Broadcasting large task binary with size 4.1 MiB\n",
      "22/12/10 19:14:49 WARN TaskSetManager: Stage 85 contains a task of very large size (25385 KiB). The maximum recommended task size is 1000 KiB.\n",
      "22/12/10 19:14:49 WARN DAGScheduler: Broadcasting large task binary with size 4.1 MiB\n",
      "22/12/10 19:14:49 WARN TaskSetManager: Stage 86 contains a task of very large size (25385 KiB). The maximum recommended task size is 1000 KiB.\n",
      "22/12/10 19:14:49 WARN DAGScheduler: Broadcasting large task binary with size 4.1 MiB\n",
      "22/12/10 19:14:49 WARN TaskSetManager: Stage 87 contains a task of very large size (25385 KiB). The maximum recommended task size is 1000 KiB.\n",
      "22/12/10 19:14:49 WARN DAGScheduler: Broadcasting large task binary with size 4.1 MiB\n",
      "22/12/10 19:14:49 WARN TaskSetManager: Stage 88 contains a task of very large size (25385 KiB). The maximum recommended task size is 1000 KiB.\n",
      "22/12/10 19:14:49 WARN DAGScheduler: Broadcasting large task binary with size 4.1 MiB\n",
      "22/12/10 19:14:49 WARN TaskSetManager: Stage 89 contains a task of very large size (25385 KiB). The maximum recommended task size is 1000 KiB.\n",
      "22/12/10 19:14:49 WARN DAGScheduler: Broadcasting large task binary with size 4.1 MiB\n",
      "22/12/10 19:14:49 WARN TaskSetManager: Stage 90 contains a task of very large size (25385 KiB). The maximum recommended task size is 1000 KiB.\n",
      "22/12/10 19:14:50 WARN DAGScheduler: Broadcasting large task binary with size 4.1 MiB\n",
      "22/12/10 19:14:50 WARN TaskSetManager: Stage 91 contains a task of very large size (25385 KiB). The maximum recommended task size is 1000 KiB.\n",
      "22/12/10 19:14:50 WARN DAGScheduler: Broadcasting large task binary with size 4.1 MiB\n",
      "22/12/10 19:14:50 WARN TaskSetManager: Stage 92 contains a task of very large size (25385 KiB). The maximum recommended task size is 1000 KiB.\n",
      "22/12/10 19:14:50 WARN DAGScheduler: Broadcasting large task binary with size 4.1 MiB\n",
      "22/12/10 19:14:50 WARN TaskSetManager: Stage 93 contains a task of very large size (25385 KiB). The maximum recommended task size is 1000 KiB.\n",
      "22/12/10 19:14:50 WARN DAGScheduler: Broadcasting large task binary with size 4.1 MiB\n",
      "22/12/10 19:14:50 WARN TaskSetManager: Stage 94 contains a task of very large size (25385 KiB). The maximum recommended task size is 1000 KiB.\n",
      "22/12/10 19:14:50 WARN DAGScheduler: Broadcasting large task binary with size 4.1 MiB\n",
      "22/12/10 19:14:50 WARN TaskSetManager: Stage 95 contains a task of very large size (25385 KiB). The maximum recommended task size is 1000 KiB.\n",
      "22/12/10 19:14:50 WARN DAGScheduler: Broadcasting large task binary with size 4.1 MiB\n",
      "22/12/10 19:14:50 WARN TaskSetManager: Stage 96 contains a task of very large size (25385 KiB). The maximum recommended task size is 1000 KiB.\n",
      "22/12/10 19:14:51 WARN DAGScheduler: Broadcasting large task binary with size 4.1 MiB\n",
      "22/12/10 19:14:51 WARN TaskSetManager: Stage 97 contains a task of very large size (25385 KiB). The maximum recommended task size is 1000 KiB.\n",
      "22/12/10 19:14:51 WARN DAGScheduler: Broadcasting large task binary with size 4.1 MiB\n",
      "22/12/10 19:14:51 WARN TaskSetManager: Stage 98 contains a task of very large size (25385 KiB). The maximum recommended task size is 1000 KiB.\n",
      "22/12/10 19:14:51 WARN DAGScheduler: Broadcasting large task binary with size 4.1 MiB\n",
      "22/12/10 19:14:51 WARN TaskSetManager: Stage 99 contains a task of very large size (25385 KiB). The maximum recommended task size is 1000 KiB.\n",
      "22/12/10 19:14:51 WARN DAGScheduler: Broadcasting large task binary with size 4.1 MiB\n",
      "22/12/10 19:14:51 WARN TaskSetManager: Stage 100 contains a task of very large size (25385 KiB). The maximum recommended task size is 1000 KiB.\n"
     ]
    },
    {
     "name": "stdout",
     "output_type": "stream",
     "text": [
      "22/12/10 19:14:51 WARN DAGScheduler: Broadcasting large task binary with size 4.1 MiB\n",
      "22/12/10 19:14:51 WARN TaskSetManager: Stage 101 contains a task of very large size (25385 KiB). The maximum recommended task size is 1000 KiB.\n",
      "22/12/10 19:14:51 WARN DAGScheduler: Broadcasting large task binary with size 4.1 MiB\n",
      "22/12/10 19:14:51 WARN TaskSetManager: Stage 102 contains a task of very large size (25385 KiB). The maximum recommended task size is 1000 KiB.\n",
      "22/12/10 19:14:52 WARN DAGScheduler: Broadcasting large task binary with size 4.1 MiB\n",
      "22/12/10 19:14:52 WARN TaskSetManager: Stage 103 contains a task of very large size (25385 KiB). The maximum recommended task size is 1000 KiB.\n",
      "22/12/10 19:14:52 WARN DAGScheduler: Broadcasting large task binary with size 4.1 MiB\n",
      "22/12/10 19:14:52 WARN TaskSetManager: Stage 104 contains a task of very large size (25385 KiB). The maximum recommended task size is 1000 KiB.\n",
      "22/12/10 19:14:52 WARN DAGScheduler: Broadcasting large task binary with size 4.1 MiB\n",
      "22/12/10 19:14:52 WARN TaskSetManager: Stage 105 contains a task of very large size (25385 KiB). The maximum recommended task size is 1000 KiB.\n",
      "22/12/10 19:14:52 WARN DAGScheduler: Broadcasting large task binary with size 4.1 MiB\n",
      "22/12/10 19:14:52 WARN TaskSetManager: Stage 106 contains a task of very large size (25385 KiB). The maximum recommended task size is 1000 KiB.\n",
      "22/12/10 19:14:52 WARN DAGScheduler: Broadcasting large task binary with size 4.1 MiB\n",
      "22/12/10 19:14:52 WARN TaskSetManager: Stage 107 contains a task of very large size (25385 KiB). The maximum recommended task size is 1000 KiB.\n",
      "22/12/10 19:14:52 WARN DAGScheduler: Broadcasting large task binary with size 4.1 MiB\n",
      "22/12/10 19:14:52 WARN TaskSetManager: Stage 108 contains a task of very large size (25385 KiB). The maximum recommended task size is 1000 KiB.\n",
      "22/12/10 19:14:52 WARN DAGScheduler: Broadcasting large task binary with size 4.1 MiB\n",
      "22/12/10 19:14:53 WARN TaskSetManager: Stage 109 contains a task of very large size (25385 KiB). The maximum recommended task size is 1000 KiB.\n",
      "22/12/10 19:14:53 WARN DAGScheduler: Broadcasting large task binary with size 4.1 MiB\n",
      "22/12/10 19:14:53 WARN TaskSetManager: Stage 110 contains a task of very large size (25385 KiB). The maximum recommended task size is 1000 KiB.\n",
      "22/12/10 19:14:53 WARN DAGScheduler: Broadcasting large task binary with size 4.1 MiB\n",
      "22/12/10 19:14:53 WARN TaskSetManager: Stage 111 contains a task of very large size (25385 KiB). The maximum recommended task size is 1000 KiB.\n",
      "22/12/10 19:14:53 WARN DAGScheduler: Broadcasting large task binary with size 4.1 MiB\n",
      "22/12/10 19:14:53 WARN TaskSetManager: Stage 112 contains a task of very large size (25385 KiB). The maximum recommended task size is 1000 KiB.\n",
      "22/12/10 19:14:53 WARN DAGScheduler: Broadcasting large task binary with size 4.1 MiB\n",
      "22/12/10 19:14:53 WARN TaskSetManager: Stage 113 contains a task of very large size (25385 KiB). The maximum recommended task size is 1000 KiB.\n",
      "22/12/10 19:14:53 WARN DAGScheduler: Broadcasting large task binary with size 4.1 MiB\n",
      "22/12/10 19:14:53 WARN TaskSetManager: Stage 114 contains a task of very large size (25385 KiB). The maximum recommended task size is 1000 KiB.\n",
      "22/12/10 19:14:53 WARN DAGScheduler: Broadcasting large task binary with size 4.1 MiB\n",
      "22/12/10 19:14:53 WARN TaskSetManager: Stage 115 contains a task of very large size (25385 KiB). The maximum recommended task size is 1000 KiB.\n",
      "22/12/10 19:14:54 WARN TaskSetManager: Stage 116 contains a task of very large size (8263 KiB). The maximum recommended task size is 1000 KiB.\n",
      "22/12/10 19:14:54 WARN DAGScheduler: Broadcasting large task binary with size 5.4 MiB\n",
      "22/12/10 19:14:54 WARN TaskSetManager: Stage 117 contains a task of very large size (8263 KiB). The maximum recommended task size is 1000 KiB.\n",
      "22/12/10 19:14:54 WARN DAGScheduler: Broadcasting large task binary with size 5.4 MiB\n",
      "22/12/10 19:14:54 WARN TaskSetManager: Stage 118 contains a task of very large size (8263 KiB). The maximum recommended task size is 1000 KiB.\n"
     ]
    },
    {
     "name": "stderr",
     "output_type": "stream",
     "text": [
      "                                                                                \r"
     ]
    },
    {
     "name": "stdout",
     "output_type": "stream",
     "text": [
      "+----------------+-----+------------+\n",
      "|              id|toxic|severe_toxic|\n",
      "+----------------+-----+------------+\n",
      "|805d0ddb7e79b173|  0.0|         0.0|\n",
      "|80fb26ac41c0a3e0|  0.0|         0.0|\n",
      "|81de7451eafefeb3|  0.0|         0.0|\n",
      "|82c3fd5493e4873e|  1.0|         0.0|\n",
      "|83a835e1c77f1ab8|  0.0|         0.0|\n",
      "+----------------+-----+------------+\n",
      "only showing top 5 rows\n",
      "\n",
      "22/12/10 19:14:57 WARN DAGScheduler: Broadcasting large task binary with size 4.1 MiB\n",
      "22/12/10 19:14:57 WARN TaskSetManager: Stage 125 contains a task of very large size (25385 KiB). The maximum recommended task size is 1000 KiB.\n"
     ]
    },
    {
     "name": "stderr",
     "output_type": "stream",
     "text": [
      "                                                                                \r"
     ]
    },
    {
     "name": "stdout",
     "output_type": "stream",
     "text": [
      "22/12/10 19:15:01 WARN DAGScheduler: Broadcasting large task binary with size 4.1 MiB\n",
      "22/12/10 19:15:01 WARN TaskSetManager: Stage 126 contains a task of very large size (25385 KiB). The maximum recommended task size is 1000 KiB.\n"
     ]
    },
    {
     "name": "stderr",
     "output_type": "stream",
     "text": [
      "                                                                                \r"
     ]
    },
    {
     "name": "stdout",
     "output_type": "stream",
     "text": [
      "22/12/10 19:15:05 WARN DAGScheduler: Broadcasting large task binary with size 4.1 MiB\n",
      "22/12/10 19:15:05 WARN TaskSetManager: Stage 127 contains a task of very large size (25385 KiB). The maximum recommended task size is 1000 KiB.\n",
      "22/12/10 19:15:05 WARN DAGScheduler: Broadcasting large task binary with size 4.1 MiB\n",
      "22/12/10 19:15:05 WARN TaskSetManager: Stage 128 contains a task of very large size (25385 KiB). The maximum recommended task size is 1000 KiB.\n",
      "22/12/10 19:15:05 WARN DAGScheduler: Broadcasting large task binary with size 4.1 MiB\n",
      "22/12/10 19:15:05 WARN TaskSetManager: Stage 129 contains a task of very large size (25385 KiB). The maximum recommended task size is 1000 KiB.\n",
      "22/12/10 19:15:05 WARN DAGScheduler: Broadcasting large task binary with size 4.1 MiB\n",
      "22/12/10 19:15:05 WARN TaskSetManager: Stage 130 contains a task of very large size (25385 KiB). The maximum recommended task size is 1000 KiB.\n",
      "22/12/10 19:15:05 WARN DAGScheduler: Broadcasting large task binary with size 4.1 MiB\n",
      "22/12/10 19:15:05 WARN TaskSetManager: Stage 131 contains a task of very large size (25385 KiB). The maximum recommended task size is 1000 KiB.\n",
      "22/12/10 19:15:05 WARN DAGScheduler: Broadcasting large task binary with size 4.1 MiB\n",
      "22/12/10 19:15:05 WARN TaskSetManager: Stage 132 contains a task of very large size (25385 KiB). The maximum recommended task size is 1000 KiB.\n",
      "22/12/10 19:15:06 WARN DAGScheduler: Broadcasting large task binary with size 4.1 MiB\n",
      "22/12/10 19:15:06 WARN TaskSetManager: Stage 133 contains a task of very large size (25385 KiB). The maximum recommended task size is 1000 KiB.\n",
      "22/12/10 19:15:06 WARN DAGScheduler: Broadcasting large task binary with size 4.1 MiB\n",
      "22/12/10 19:15:06 WARN TaskSetManager: Stage 134 contains a task of very large size (25385 KiB). The maximum recommended task size is 1000 KiB.\n",
      "22/12/10 19:15:06 WARN DAGScheduler: Broadcasting large task binary with size 4.1 MiB\n",
      "22/12/10 19:15:06 WARN TaskSetManager: Stage 135 contains a task of very large size (25385 KiB). The maximum recommended task size is 1000 KiB.\n",
      "22/12/10 19:15:06 WARN DAGScheduler: Broadcasting large task binary with size 4.1 MiB\n",
      "22/12/10 19:15:06 WARN TaskSetManager: Stage 136 contains a task of very large size (25385 KiB). The maximum recommended task size is 1000 KiB.\n",
      "22/12/10 19:15:06 WARN DAGScheduler: Broadcasting large task binary with size 4.1 MiB\n",
      "22/12/10 19:15:06 WARN TaskSetManager: Stage 137 contains a task of very large size (25385 KiB). The maximum recommended task size is 1000 KiB.\n",
      "22/12/10 19:15:06 WARN DAGScheduler: Broadcasting large task binary with size 4.1 MiB\n",
      "22/12/10 19:15:06 WARN TaskSetManager: Stage 138 contains a task of very large size (25385 KiB). The maximum recommended task size is 1000 KiB.\n",
      "22/12/10 19:15:07 WARN DAGScheduler: Broadcasting large task binary with size 4.1 MiB\n",
      "22/12/10 19:15:07 WARN TaskSetManager: Stage 139 contains a task of very large size (25385 KiB). The maximum recommended task size is 1000 KiB.\n",
      "22/12/10 19:15:07 WARN DAGScheduler: Broadcasting large task binary with size 4.1 MiB\n",
      "22/12/10 19:15:07 WARN TaskSetManager: Stage 140 contains a task of very large size (25385 KiB). The maximum recommended task size is 1000 KiB.\n",
      "22/12/10 19:15:07 WARN DAGScheduler: Broadcasting large task binary with size 4.1 MiB\n",
      "22/12/10 19:15:07 WARN TaskSetManager: Stage 141 contains a task of very large size (25385 KiB). The maximum recommended task size is 1000 KiB.\n",
      "22/12/10 19:15:07 WARN DAGScheduler: Broadcasting large task binary with size 4.1 MiB\n",
      "22/12/10 19:15:07 WARN TaskSetManager: Stage 142 contains a task of very large size (25385 KiB). The maximum recommended task size is 1000 KiB.\n",
      "22/12/10 19:15:07 WARN DAGScheduler: Broadcasting large task binary with size 4.1 MiB\n",
      "22/12/10 19:15:07 WARN TaskSetManager: Stage 143 contains a task of very large size (25385 KiB). The maximum recommended task size is 1000 KiB.\n",
      "22/12/10 19:15:08 WARN DAGScheduler: Broadcasting large task binary with size 4.1 MiB\n",
      "22/12/10 19:15:08 WARN TaskSetManager: Stage 144 contains a task of very large size (25385 KiB). The maximum recommended task size is 1000 KiB.\n",
      "22/12/10 19:15:08 WARN DAGScheduler: Broadcasting large task binary with size 4.1 MiB\n",
      "22/12/10 19:15:08 WARN TaskSetManager: Stage 145 contains a task of very large size (25385 KiB). The maximum recommended task size is 1000 KiB.\n",
      "22/12/10 19:15:08 WARN DAGScheduler: Broadcasting large task binary with size 4.1 MiB\n",
      "22/12/10 19:15:08 WARN TaskSetManager: Stage 146 contains a task of very large size (25385 KiB). The maximum recommended task size is 1000 KiB.\n",
      "22/12/10 19:15:08 WARN DAGScheduler: Broadcasting large task binary with size 4.1 MiB\n",
      "22/12/10 19:15:08 WARN TaskSetManager: Stage 147 contains a task of very large size (25385 KiB). The maximum recommended task size is 1000 KiB.\n",
      "22/12/10 19:15:08 WARN DAGScheduler: Broadcasting large task binary with size 4.1 MiB\n",
      "22/12/10 19:15:08 WARN TaskSetManager: Stage 148 contains a task of very large size (25385 KiB). The maximum recommended task size is 1000 KiB.\n",
      "22/12/10 19:15:08 WARN DAGScheduler: Broadcasting large task binary with size 4.1 MiB\n",
      "22/12/10 19:15:08 WARN TaskSetManager: Stage 149 contains a task of very large size (25385 KiB). The maximum recommended task size is 1000 KiB.\n",
      "22/12/10 19:15:09 WARN DAGScheduler: Broadcasting large task binary with size 4.1 MiB\n",
      "22/12/10 19:15:09 WARN TaskSetManager: Stage 150 contains a task of very large size (25385 KiB). The maximum recommended task size is 1000 KiB.\n",
      "22/12/10 19:15:09 WARN DAGScheduler: Broadcasting large task binary with size 4.1 MiB\n",
      "22/12/10 19:15:09 WARN TaskSetManager: Stage 151 contains a task of very large size (25385 KiB). The maximum recommended task size is 1000 KiB.\n",
      "22/12/10 19:15:09 WARN DAGScheduler: Broadcasting large task binary with size 4.1 MiB\n",
      "22/12/10 19:15:09 WARN TaskSetManager: Stage 152 contains a task of very large size (25385 KiB). The maximum recommended task size is 1000 KiB.\n",
      "22/12/10 19:15:09 WARN DAGScheduler: Broadcasting large task binary with size 4.1 MiB\n",
      "22/12/10 19:15:09 WARN TaskSetManager: Stage 153 contains a task of very large size (25385 KiB). The maximum recommended task size is 1000 KiB.\n",
      "22/12/10 19:15:09 WARN DAGScheduler: Broadcasting large task binary with size 4.1 MiB\n",
      "22/12/10 19:15:09 WARN TaskSetManager: Stage 154 contains a task of very large size (25385 KiB). The maximum recommended task size is 1000 KiB.\n",
      "22/12/10 19:15:09 WARN DAGScheduler: Broadcasting large task binary with size 4.1 MiB\n",
      "22/12/10 19:15:09 WARN TaskSetManager: Stage 155 contains a task of very large size (25385 KiB). The maximum recommended task size is 1000 KiB.\n",
      "22/12/10 19:15:10 WARN DAGScheduler: Broadcasting large task binary with size 4.1 MiB\n",
      "22/12/10 19:15:10 WARN TaskSetManager: Stage 156 contains a task of very large size (25385 KiB). The maximum recommended task size is 1000 KiB.\n",
      "22/12/10 19:15:10 WARN DAGScheduler: Broadcasting large task binary with size 4.1 MiB\n",
      "22/12/10 19:15:10 WARN TaskSetManager: Stage 157 contains a task of very large size (25385 KiB). The maximum recommended task size is 1000 KiB.\n",
      "22/12/10 19:15:10 WARN DAGScheduler: Broadcasting large task binary with size 4.1 MiB\n",
      "22/12/10 19:15:10 WARN TaskSetManager: Stage 158 contains a task of very large size (25385 KiB). The maximum recommended task size is 1000 KiB.\n",
      "22/12/10 19:15:10 WARN DAGScheduler: Broadcasting large task binary with size 4.1 MiB\n",
      "22/12/10 19:15:10 WARN TaskSetManager: Stage 159 contains a task of very large size (25385 KiB). The maximum recommended task size is 1000 KiB.\n",
      "22/12/10 19:15:10 WARN DAGScheduler: Broadcasting large task binary with size 4.1 MiB\n",
      "22/12/10 19:15:10 WARN TaskSetManager: Stage 160 contains a task of very large size (25385 KiB). The maximum recommended task size is 1000 KiB.\n",
      "22/12/10 19:15:10 WARN DAGScheduler: Broadcasting large task binary with size 4.1 MiB\n",
      "22/12/10 19:15:10 WARN TaskSetManager: Stage 161 contains a task of very large size (25385 KiB). The maximum recommended task size is 1000 KiB.\n",
      "22/12/10 19:15:11 WARN DAGScheduler: Broadcasting large task binary with size 4.1 MiB\n",
      "22/12/10 19:15:11 WARN TaskSetManager: Stage 162 contains a task of very large size (25385 KiB). The maximum recommended task size is 1000 KiB.\n",
      "22/12/10 19:15:11 WARN DAGScheduler: Broadcasting large task binary with size 4.1 MiB\n",
      "22/12/10 19:15:11 WARN TaskSetManager: Stage 163 contains a task of very large size (25385 KiB). The maximum recommended task size is 1000 KiB.\n"
     ]
    },
    {
     "name": "stdout",
     "output_type": "stream",
     "text": [
      "22/12/10 19:15:11 WARN DAGScheduler: Broadcasting large task binary with size 4.1 MiB\n",
      "22/12/10 19:15:11 WARN TaskSetManager: Stage 164 contains a task of very large size (25385 KiB). The maximum recommended task size is 1000 KiB.\n",
      "22/12/10 19:15:11 WARN DAGScheduler: Broadcasting large task binary with size 4.1 MiB\n",
      "22/12/10 19:15:11 WARN TaskSetManager: Stage 165 contains a task of very large size (25385 KiB). The maximum recommended task size is 1000 KiB.\n",
      "22/12/10 19:15:11 WARN DAGScheduler: Broadcasting large task binary with size 4.1 MiB\n",
      "22/12/10 19:15:11 WARN TaskSetManager: Stage 166 contains a task of very large size (25385 KiB). The maximum recommended task size is 1000 KiB.\n",
      "22/12/10 19:15:12 WARN DAGScheduler: Broadcasting large task binary with size 4.1 MiB\n",
      "22/12/10 19:15:12 WARN TaskSetManager: Stage 167 contains a task of very large size (25385 KiB). The maximum recommended task size is 1000 KiB.\n",
      "22/12/10 19:15:12 WARN DAGScheduler: Broadcasting large task binary with size 4.1 MiB\n",
      "22/12/10 19:15:12 WARN TaskSetManager: Stage 168 contains a task of very large size (25385 KiB). The maximum recommended task size is 1000 KiB.\n",
      "22/12/10 19:15:12 WARN DAGScheduler: Broadcasting large task binary with size 4.1 MiB\n",
      "22/12/10 19:15:12 WARN TaskSetManager: Stage 169 contains a task of very large size (25385 KiB). The maximum recommended task size is 1000 KiB.\n",
      "22/12/10 19:15:12 WARN DAGScheduler: Broadcasting large task binary with size 4.1 MiB\n",
      "22/12/10 19:15:12 WARN TaskSetManager: Stage 170 contains a task of very large size (25385 KiB). The maximum recommended task size is 1000 KiB.\n",
      "22/12/10 19:15:12 WARN DAGScheduler: Broadcasting large task binary with size 4.1 MiB\n",
      "22/12/10 19:15:12 WARN TaskSetManager: Stage 171 contains a task of very large size (25385 KiB). The maximum recommended task size is 1000 KiB.\n",
      "22/12/10 19:15:12 WARN DAGScheduler: Broadcasting large task binary with size 4.1 MiB\n",
      "22/12/10 19:15:12 WARN TaskSetManager: Stage 172 contains a task of very large size (25385 KiB). The maximum recommended task size is 1000 KiB.\n",
      "22/12/10 19:15:13 WARN DAGScheduler: Broadcasting large task binary with size 4.1 MiB\n",
      "22/12/10 19:15:13 WARN TaskSetManager: Stage 173 contains a task of very large size (25385 KiB). The maximum recommended task size is 1000 KiB.\n",
      "22/12/10 19:15:13 WARN DAGScheduler: Broadcasting large task binary with size 4.1 MiB\n",
      "22/12/10 19:15:13 WARN TaskSetManager: Stage 174 contains a task of very large size (25385 KiB). The maximum recommended task size is 1000 KiB.\n",
      "22/12/10 19:15:13 WARN DAGScheduler: Broadcasting large task binary with size 4.1 MiB\n",
      "22/12/10 19:15:13 WARN TaskSetManager: Stage 175 contains a task of very large size (25385 KiB). The maximum recommended task size is 1000 KiB.\n",
      "22/12/10 19:15:13 WARN DAGScheduler: Broadcasting large task binary with size 4.1 MiB\n",
      "22/12/10 19:15:13 WARN TaskSetManager: Stage 176 contains a task of very large size (25385 KiB). The maximum recommended task size is 1000 KiB.\n",
      "22/12/10 19:15:13 WARN DAGScheduler: Broadcasting large task binary with size 4.1 MiB\n",
      "22/12/10 19:15:13 WARN TaskSetManager: Stage 177 contains a task of very large size (25385 KiB). The maximum recommended task size is 1000 KiB.\n",
      "22/12/10 19:15:14 WARN DAGScheduler: Broadcasting large task binary with size 4.1 MiB\n",
      "22/12/10 19:15:14 WARN TaskSetManager: Stage 178 contains a task of very large size (25385 KiB). The maximum recommended task size is 1000 KiB.\n",
      "22/12/10 19:15:14 WARN DAGScheduler: Broadcasting large task binary with size 4.1 MiB\n",
      "22/12/10 19:15:14 WARN TaskSetManager: Stage 179 contains a task of very large size (25385 KiB). The maximum recommended task size is 1000 KiB.\n",
      "22/12/10 19:15:14 WARN DAGScheduler: Broadcasting large task binary with size 4.1 MiB\n",
      "22/12/10 19:15:14 WARN TaskSetManager: Stage 180 contains a task of very large size (25385 KiB). The maximum recommended task size is 1000 KiB.\n",
      "22/12/10 19:15:14 WARN DAGScheduler: Broadcasting large task binary with size 4.1 MiB\n",
      "22/12/10 19:15:14 WARN TaskSetManager: Stage 181 contains a task of very large size (25385 KiB). The maximum recommended task size is 1000 KiB.\n",
      "22/12/10 19:15:14 WARN DAGScheduler: Broadcasting large task binary with size 4.1 MiB\n",
      "22/12/10 19:15:14 WARN TaskSetManager: Stage 182 contains a task of very large size (25385 KiB). The maximum recommended task size is 1000 KiB.\n",
      "22/12/10 19:15:14 WARN DAGScheduler: Broadcasting large task binary with size 4.1 MiB\n",
      "22/12/10 19:15:14 WARN TaskSetManager: Stage 183 contains a task of very large size (25385 KiB). The maximum recommended task size is 1000 KiB.\n",
      "22/12/10 19:15:15 WARN DAGScheduler: Broadcasting large task binary with size 4.1 MiB\n",
      "22/12/10 19:15:15 WARN TaskSetManager: Stage 184 contains a task of very large size (25385 KiB). The maximum recommended task size is 1000 KiB.\n",
      "22/12/10 19:15:15 WARN TaskSetManager: Stage 185 contains a task of very large size (8263 KiB). The maximum recommended task size is 1000 KiB.\n",
      "22/12/10 19:15:15 WARN DAGScheduler: Broadcasting large task binary with size 5.4 MiB\n",
      "22/12/10 19:15:15 WARN TaskSetManager: Stage 186 contains a task of very large size (8263 KiB). The maximum recommended task size is 1000 KiB.\n",
      "22/12/10 19:15:15 WARN DAGScheduler: Broadcasting large task binary with size 5.4 MiB\n",
      "22/12/10 19:15:15 WARN DAGScheduler: Broadcasting large task binary with size 5.4 MiB\n",
      "22/12/10 19:15:15 WARN TaskSetManager: Stage 187 contains a task of very large size (8263 KiB). The maximum recommended task size is 1000 KiB.\n",
      "22/12/10 19:15:15 WARN TaskSetManager: Stage 188 contains a task of very large size (8263 KiB). The maximum recommended task size is 1000 KiB.\n"
     ]
    },
    {
     "name": "stderr",
     "output_type": "stream",
     "text": [
      "                                                                                \r"
     ]
    },
    {
     "name": "stdout",
     "output_type": "stream",
     "text": [
      "+----------------+-----+------------+-------+\n",
      "|              id|toxic|severe_toxic|obscene|\n",
      "+----------------+-----+------------+-------+\n",
      "|805d0ddb7e79b173|  0.0|         0.0|    0.0|\n",
      "|80fb26ac41c0a3e0|  0.0|         0.0|    0.0|\n",
      "|81de7451eafefeb3|  0.0|         0.0|    0.0|\n",
      "|82c3fd5493e4873e|  1.0|         0.0|    1.0|\n",
      "|83a835e1c77f1ab8|  0.0|         0.0|    0.0|\n",
      "+----------------+-----+------------+-------+\n",
      "only showing top 5 rows\n",
      "\n",
      "22/12/10 19:15:20 WARN DAGScheduler: Broadcasting large task binary with size 4.1 MiB\n",
      "22/12/10 19:15:20 WARN TaskSetManager: Stage 197 contains a task of very large size (25385 KiB). The maximum recommended task size is 1000 KiB.\n"
     ]
    },
    {
     "name": "stderr",
     "output_type": "stream",
     "text": [
      "                                                                                \r"
     ]
    },
    {
     "name": "stdout",
     "output_type": "stream",
     "text": [
      "22/12/10 19:15:24 WARN DAGScheduler: Broadcasting large task binary with size 4.1 MiB\n",
      "22/12/10 19:15:24 WARN TaskSetManager: Stage 198 contains a task of very large size (25385 KiB). The maximum recommended task size is 1000 KiB.\n"
     ]
    },
    {
     "name": "stderr",
     "output_type": "stream",
     "text": [
      "                                                                                \r"
     ]
    },
    {
     "name": "stdout",
     "output_type": "stream",
     "text": [
      "22/12/10 19:15:28 WARN DAGScheduler: Broadcasting large task binary with size 4.1 MiB\n",
      "22/12/10 19:15:28 WARN TaskSetManager: Stage 199 contains a task of very large size (25385 KiB). The maximum recommended task size is 1000 KiB.\n",
      "22/12/10 19:15:29 WARN DAGScheduler: Broadcasting large task binary with size 4.1 MiB\n",
      "22/12/10 19:15:29 WARN TaskSetManager: Stage 200 contains a task of very large size (25385 KiB). The maximum recommended task size is 1000 KiB.\n",
      "22/12/10 19:15:29 WARN DAGScheduler: Broadcasting large task binary with size 4.1 MiB\n",
      "22/12/10 19:15:29 WARN TaskSetManager: Stage 201 contains a task of very large size (25385 KiB). The maximum recommended task size is 1000 KiB.\n",
      "22/12/10 19:15:29 WARN DAGScheduler: Broadcasting large task binary with size 4.1 MiB\n",
      "22/12/10 19:15:29 WARN TaskSetManager: Stage 202 contains a task of very large size (25385 KiB). The maximum recommended task size is 1000 KiB.\n",
      "22/12/10 19:15:29 WARN DAGScheduler: Broadcasting large task binary with size 4.1 MiB\n",
      "22/12/10 19:15:29 WARN TaskSetManager: Stage 203 contains a task of very large size (25385 KiB). The maximum recommended task size is 1000 KiB.\n",
      "22/12/10 19:15:29 WARN DAGScheduler: Broadcasting large task binary with size 4.1 MiB\n",
      "22/12/10 19:15:29 WARN TaskSetManager: Stage 204 contains a task of very large size (25385 KiB). The maximum recommended task size is 1000 KiB.\n",
      "22/12/10 19:15:30 WARN DAGScheduler: Broadcasting large task binary with size 4.1 MiB\n",
      "22/12/10 19:15:30 WARN TaskSetManager: Stage 205 contains a task of very large size (25385 KiB). The maximum recommended task size is 1000 KiB.\n",
      "22/12/10 19:15:30 WARN DAGScheduler: Broadcasting large task binary with size 4.1 MiB\n",
      "22/12/10 19:15:30 WARN TaskSetManager: Stage 206 contains a task of very large size (25385 KiB). The maximum recommended task size is 1000 KiB.\n",
      "22/12/10 19:15:30 WARN DAGScheduler: Broadcasting large task binary with size 4.1 MiB\n",
      "22/12/10 19:15:30 WARN TaskSetManager: Stage 207 contains a task of very large size (25385 KiB). The maximum recommended task size is 1000 KiB.\n",
      "22/12/10 19:15:30 WARN DAGScheduler: Broadcasting large task binary with size 4.1 MiB\n",
      "22/12/10 19:15:30 WARN TaskSetManager: Stage 208 contains a task of very large size (25385 KiB). The maximum recommended task size is 1000 KiB.\n",
      "22/12/10 19:15:30 WARN DAGScheduler: Broadcasting large task binary with size 4.1 MiB\n",
      "22/12/10 19:15:30 WARN TaskSetManager: Stage 209 contains a task of very large size (25385 KiB). The maximum recommended task size is 1000 KiB.\n",
      "22/12/10 19:15:31 WARN DAGScheduler: Broadcasting large task binary with size 4.1 MiB\n",
      "22/12/10 19:15:31 WARN TaskSetManager: Stage 210 contains a task of very large size (25385 KiB). The maximum recommended task size is 1000 KiB.\n",
      "22/12/10 19:15:31 WARN DAGScheduler: Broadcasting large task binary with size 4.1 MiB\n",
      "22/12/10 19:15:31 WARN TaskSetManager: Stage 211 contains a task of very large size (25385 KiB). The maximum recommended task size is 1000 KiB.\n",
      "22/12/10 19:15:31 WARN DAGScheduler: Broadcasting large task binary with size 4.1 MiB\n",
      "22/12/10 19:15:31 WARN TaskSetManager: Stage 212 contains a task of very large size (25385 KiB). The maximum recommended task size is 1000 KiB.\n",
      "22/12/10 19:15:31 WARN DAGScheduler: Broadcasting large task binary with size 4.1 MiB\n",
      "22/12/10 19:15:31 WARN TaskSetManager: Stage 213 contains a task of very large size (25385 KiB). The maximum recommended task size is 1000 KiB.\n",
      "22/12/10 19:15:31 WARN DAGScheduler: Broadcasting large task binary with size 4.1 MiB\n",
      "22/12/10 19:15:31 WARN TaskSetManager: Stage 214 contains a task of very large size (25385 KiB). The maximum recommended task size is 1000 KiB.\n",
      "22/12/10 19:15:32 WARN DAGScheduler: Broadcasting large task binary with size 4.1 MiB\n",
      "22/12/10 19:15:32 WARN TaskSetManager: Stage 215 contains a task of very large size (25385 KiB). The maximum recommended task size is 1000 KiB.\n",
      "22/12/10 19:15:32 WARN DAGScheduler: Broadcasting large task binary with size 4.1 MiB\n",
      "22/12/10 19:15:32 WARN TaskSetManager: Stage 216 contains a task of very large size (25385 KiB). The maximum recommended task size is 1000 KiB.\n",
      "22/12/10 19:15:32 WARN DAGScheduler: Broadcasting large task binary with size 4.1 MiB\n",
      "22/12/10 19:15:32 WARN TaskSetManager: Stage 217 contains a task of very large size (25385 KiB). The maximum recommended task size is 1000 KiB.\n",
      "22/12/10 19:15:32 WARN DAGScheduler: Broadcasting large task binary with size 4.1 MiB\n",
      "22/12/10 19:15:32 WARN TaskSetManager: Stage 218 contains a task of very large size (25385 KiB). The maximum recommended task size is 1000 KiB.\n",
      "22/12/10 19:15:32 WARN DAGScheduler: Broadcasting large task binary with size 4.1 MiB\n",
      "22/12/10 19:15:32 WARN TaskSetManager: Stage 219 contains a task of very large size (25385 KiB). The maximum recommended task size is 1000 KiB.\n",
      "22/12/10 19:15:33 WARN DAGScheduler: Broadcasting large task binary with size 4.1 MiB\n",
      "22/12/10 19:15:33 WARN TaskSetManager: Stage 220 contains a task of very large size (25385 KiB). The maximum recommended task size is 1000 KiB.\n",
      "22/12/10 19:15:33 WARN DAGScheduler: Broadcasting large task binary with size 4.1 MiB\n",
      "22/12/10 19:15:33 WARN TaskSetManager: Stage 221 contains a task of very large size (25385 KiB). The maximum recommended task size is 1000 KiB.\n",
      "22/12/10 19:15:33 WARN DAGScheduler: Broadcasting large task binary with size 4.1 MiB\n",
      "22/12/10 19:15:33 WARN TaskSetManager: Stage 222 contains a task of very large size (25385 KiB). The maximum recommended task size is 1000 KiB.\n",
      "22/12/10 19:15:33 WARN DAGScheduler: Broadcasting large task binary with size 4.1 MiB\n",
      "22/12/10 19:15:33 WARN TaskSetManager: Stage 223 contains a task of very large size (25385 KiB). The maximum recommended task size is 1000 KiB.\n",
      "22/12/10 19:15:33 WARN DAGScheduler: Broadcasting large task binary with size 4.1 MiB\n",
      "22/12/10 19:15:33 WARN TaskSetManager: Stage 224 contains a task of very large size (25385 KiB). The maximum recommended task size is 1000 KiB.\n",
      "22/12/10 19:15:33 WARN DAGScheduler: Broadcasting large task binary with size 4.1 MiB\n",
      "22/12/10 19:15:33 WARN TaskSetManager: Stage 225 contains a task of very large size (25385 KiB). The maximum recommended task size is 1000 KiB.\n",
      "22/12/10 19:15:34 WARN DAGScheduler: Broadcasting large task binary with size 4.1 MiB\n",
      "22/12/10 19:15:34 WARN TaskSetManager: Stage 226 contains a task of very large size (25385 KiB). The maximum recommended task size is 1000 KiB.\n",
      "22/12/10 19:15:34 WARN DAGScheduler: Broadcasting large task binary with size 4.1 MiB\n",
      "22/12/10 19:15:34 WARN TaskSetManager: Stage 227 contains a task of very large size (25385 KiB). The maximum recommended task size is 1000 KiB.\n",
      "22/12/10 19:15:34 WARN DAGScheduler: Broadcasting large task binary with size 4.1 MiB\n",
      "22/12/10 19:15:34 WARN TaskSetManager: Stage 228 contains a task of very large size (25385 KiB). The maximum recommended task size is 1000 KiB.\n",
      "22/12/10 19:15:34 WARN DAGScheduler: Broadcasting large task binary with size 4.1 MiB\n",
      "22/12/10 19:15:34 WARN TaskSetManager: Stage 229 contains a task of very large size (25385 KiB). The maximum recommended task size is 1000 KiB.\n",
      "22/12/10 19:15:34 WARN DAGScheduler: Broadcasting large task binary with size 4.1 MiB\n",
      "22/12/10 19:15:34 WARN TaskSetManager: Stage 230 contains a task of very large size (25385 KiB). The maximum recommended task size is 1000 KiB.\n",
      "22/12/10 19:15:35 WARN DAGScheduler: Broadcasting large task binary with size 4.1 MiB\n",
      "22/12/10 19:15:35 WARN TaskSetManager: Stage 231 contains a task of very large size (25385 KiB). The maximum recommended task size is 1000 KiB.\n",
      "22/12/10 19:15:35 WARN DAGScheduler: Broadcasting large task binary with size 4.1 MiB\n",
      "22/12/10 19:15:35 WARN TaskSetManager: Stage 232 contains a task of very large size (25385 KiB). The maximum recommended task size is 1000 KiB.\n",
      "22/12/10 19:15:35 WARN DAGScheduler: Broadcasting large task binary with size 4.1 MiB\n",
      "22/12/10 19:15:35 WARN TaskSetManager: Stage 233 contains a task of very large size (25385 KiB). The maximum recommended task size is 1000 KiB.\n",
      "22/12/10 19:15:35 WARN DAGScheduler: Broadcasting large task binary with size 4.1 MiB\n",
      "22/12/10 19:15:35 WARN TaskSetManager: Stage 234 contains a task of very large size (25385 KiB). The maximum recommended task size is 1000 KiB.\n"
     ]
    },
    {
     "name": "stdout",
     "output_type": "stream",
     "text": [
      "22/12/10 19:15:35 WARN DAGScheduler: Broadcasting large task binary with size 4.1 MiB\n",
      "22/12/10 19:15:35 WARN TaskSetManager: Stage 235 contains a task of very large size (25385 KiB). The maximum recommended task size is 1000 KiB.\n",
      "22/12/10 19:15:35 WARN DAGScheduler: Broadcasting large task binary with size 4.1 MiB\n",
      "22/12/10 19:15:35 WARN TaskSetManager: Stage 236 contains a task of very large size (25385 KiB). The maximum recommended task size is 1000 KiB.\n",
      "22/12/10 19:15:36 WARN DAGScheduler: Broadcasting large task binary with size 4.1 MiB\n",
      "22/12/10 19:15:36 WARN TaskSetManager: Stage 237 contains a task of very large size (25385 KiB). The maximum recommended task size is 1000 KiB.\n",
      "22/12/10 19:15:36 WARN DAGScheduler: Broadcasting large task binary with size 4.1 MiB\n",
      "22/12/10 19:15:36 WARN TaskSetManager: Stage 238 contains a task of very large size (25385 KiB). The maximum recommended task size is 1000 KiB.\n",
      "22/12/10 19:15:36 WARN DAGScheduler: Broadcasting large task binary with size 4.1 MiB\n",
      "22/12/10 19:15:36 WARN TaskSetManager: Stage 239 contains a task of very large size (25385 KiB). The maximum recommended task size is 1000 KiB.\n",
      "22/12/10 19:15:36 WARN DAGScheduler: Broadcasting large task binary with size 5.4 MiB\n",
      "22/12/10 19:15:36 WARN TaskSetManager: Stage 240 contains a task of very large size (8263 KiB). The maximum recommended task size is 1000 KiB.\n",
      "22/12/10 19:15:36 WARN TaskSetManager: Stage 241 contains a task of very large size (8263 KiB). The maximum recommended task size is 1000 KiB.\n",
      "22/12/10 19:15:36 WARN DAGScheduler: Broadcasting large task binary with size 5.4 MiB\n",
      "22/12/10 19:15:37 WARN DAGScheduler: Broadcasting large task binary with size 5.4 MiB\n",
      "22/12/10 19:15:37 WARN TaskSetManager: Stage 242 contains a task of very large size (8263 KiB). The maximum recommended task size is 1000 KiB.\n",
      "22/12/10 19:15:37 WARN TaskSetManager: Stage 243 contains a task of very large size (8263 KiB). The maximum recommended task size is 1000 KiB.\n",
      "22/12/10 19:15:37 WARN DAGScheduler: Broadcasting large task binary with size 5.4 MiB\n"
     ]
    },
    {
     "name": "stderr",
     "output_type": "stream",
     "text": [
      "\r",
      "[Stage 240:>                (0 + 2) / 2][Stage 241:>                (0 + 2) / 2]\r",
      "\r",
      "[Stage 240:>  (0 + 2) / 2][Stage 241:>  (0 + 2) / 2][Stage 242:>  (0 + 2) / 2]\r"
     ]
    },
    {
     "name": "stdout",
     "output_type": "stream",
     "text": [
      "22/12/10 19:15:37 WARN TaskSetManager: Stage 244 contains a task of very large size (8263 KiB). The maximum recommended task size is 1000 KiB.\n"
     ]
    },
    {
     "name": "stderr",
     "output_type": "stream",
     "text": [
      "                                                                                \r"
     ]
    },
    {
     "name": "stdout",
     "output_type": "stream",
     "text": [
      "+----------------+-----+------------+-------+------+\n",
      "|              id|toxic|severe_toxic|obscene|threat|\n",
      "+----------------+-----+------------+-------+------+\n",
      "|805d0ddb7e79b173|  0.0|         0.0|    0.0|   0.0|\n",
      "|80fb26ac41c0a3e0|  0.0|         0.0|    0.0|   0.0|\n",
      "|81de7451eafefeb3|  0.0|         0.0|    0.0|   0.0|\n",
      "|82c3fd5493e4873e|  1.0|         0.0|    1.0|   0.0|\n",
      "|83a835e1c77f1ab8|  0.0|         0.0|    0.0|   0.0|\n",
      "+----------------+-----+------------+-------+------+\n",
      "only showing top 5 rows\n",
      "\n",
      "22/12/10 19:15:43 WARN DAGScheduler: Broadcasting large task binary with size 4.1 MiB\n",
      "22/12/10 19:15:44 WARN TaskSetManager: Stage 255 contains a task of very large size (25385 KiB). The maximum recommended task size is 1000 KiB.\n"
     ]
    },
    {
     "name": "stderr",
     "output_type": "stream",
     "text": [
      "                                                                                \r"
     ]
    },
    {
     "name": "stdout",
     "output_type": "stream",
     "text": [
      "22/12/10 19:15:48 WARN DAGScheduler: Broadcasting large task binary with size 4.1 MiB\n",
      "22/12/10 19:15:48 WARN TaskSetManager: Stage 256 contains a task of very large size (25385 KiB). The maximum recommended task size is 1000 KiB.\n"
     ]
    },
    {
     "name": "stderr",
     "output_type": "stream",
     "text": [
      "                                                                                \r"
     ]
    },
    {
     "name": "stdout",
     "output_type": "stream",
     "text": [
      "22/12/10 19:15:56 WARN DAGScheduler: Broadcasting large task binary with size 4.1 MiB\n",
      "22/12/10 19:15:56 WARN TaskSetManager: Stage 257 contains a task of very large size (25385 KiB). The maximum recommended task size is 1000 KiB.\n",
      "22/12/10 19:15:56 WARN DAGScheduler: Broadcasting large task binary with size 4.1 MiB\n",
      "22/12/10 19:15:56 WARN TaskSetManager: Stage 258 contains a task of very large size (25385 KiB). The maximum recommended task size is 1000 KiB.\n",
      "22/12/10 19:15:57 WARN DAGScheduler: Broadcasting large task binary with size 4.1 MiB\n",
      "22/12/10 19:15:57 WARN TaskSetManager: Stage 259 contains a task of very large size (25385 KiB). The maximum recommended task size is 1000 KiB.\n",
      "22/12/10 19:15:57 WARN DAGScheduler: Broadcasting large task binary with size 4.1 MiB\n",
      "22/12/10 19:15:57 WARN TaskSetManager: Stage 260 contains a task of very large size (25385 KiB). The maximum recommended task size is 1000 KiB.\n",
      "22/12/10 19:15:57 WARN DAGScheduler: Broadcasting large task binary with size 4.1 MiB\n",
      "22/12/10 19:15:57 WARN TaskSetManager: Stage 261 contains a task of very large size (25385 KiB). The maximum recommended task size is 1000 KiB.\n",
      "22/12/10 19:15:57 WARN DAGScheduler: Broadcasting large task binary with size 4.1 MiB\n",
      "22/12/10 19:15:57 WARN TaskSetManager: Stage 262 contains a task of very large size (25385 KiB). The maximum recommended task size is 1000 KiB.\n",
      "22/12/10 19:15:57 WARN DAGScheduler: Broadcasting large task binary with size 4.1 MiB\n",
      "22/12/10 19:15:57 WARN TaskSetManager: Stage 263 contains a task of very large size (25385 KiB). The maximum recommended task size is 1000 KiB.\n",
      "22/12/10 19:15:57 WARN DAGScheduler: Broadcasting large task binary with size 4.1 MiB\n",
      "22/12/10 19:15:57 WARN TaskSetManager: Stage 264 contains a task of very large size (25385 KiB). The maximum recommended task size is 1000 KiB.\n",
      "22/12/10 19:15:57 WARN DAGScheduler: Broadcasting large task binary with size 4.1 MiB\n",
      "22/12/10 19:15:57 WARN TaskSetManager: Stage 265 contains a task of very large size (25385 KiB). The maximum recommended task size is 1000 KiB.\n",
      "22/12/10 19:15:57 WARN DAGScheduler: Broadcasting large task binary with size 4.1 MiB\n",
      "22/12/10 19:15:57 WARN TaskSetManager: Stage 266 contains a task of very large size (25385 KiB). The maximum recommended task size is 1000 KiB.\n",
      "22/12/10 19:15:58 WARN DAGScheduler: Broadcasting large task binary with size 4.1 MiB\n",
      "22/12/10 19:15:58 WARN TaskSetManager: Stage 267 contains a task of very large size (25385 KiB). The maximum recommended task size is 1000 KiB.\n",
      "22/12/10 19:15:58 WARN DAGScheduler: Broadcasting large task binary with size 4.1 MiB\n",
      "22/12/10 19:15:58 WARN TaskSetManager: Stage 268 contains a task of very large size (25385 KiB). The maximum recommended task size is 1000 KiB.\n",
      "22/12/10 19:15:58 WARN DAGScheduler: Broadcasting large task binary with size 4.1 MiB\n",
      "22/12/10 19:15:58 WARN TaskSetManager: Stage 269 contains a task of very large size (25385 KiB). The maximum recommended task size is 1000 KiB.\n",
      "22/12/10 19:15:58 WARN DAGScheduler: Broadcasting large task binary with size 4.1 MiB\n",
      "22/12/10 19:15:58 WARN TaskSetManager: Stage 270 contains a task of very large size (25385 KiB). The maximum recommended task size is 1000 KiB.\n",
      "22/12/10 19:15:58 WARN DAGScheduler: Broadcasting large task binary with size 4.1 MiB\n",
      "22/12/10 19:15:58 WARN TaskSetManager: Stage 271 contains a task of very large size (25385 KiB). The maximum recommended task size is 1000 KiB.\n",
      "22/12/10 19:15:58 WARN DAGScheduler: Broadcasting large task binary with size 4.1 MiB\n",
      "22/12/10 19:15:58 WARN TaskSetManager: Stage 272 contains a task of very large size (25385 KiB). The maximum recommended task size is 1000 KiB.\n",
      "22/12/10 19:15:58 WARN DAGScheduler: Broadcasting large task binary with size 4.1 MiB\n",
      "22/12/10 19:15:58 WARN TaskSetManager: Stage 273 contains a task of very large size (25385 KiB). The maximum recommended task size is 1000 KiB.\n",
      "22/12/10 19:15:58 WARN DAGScheduler: Broadcasting large task binary with size 4.1 MiB\n",
      "22/12/10 19:15:58 WARN TaskSetManager: Stage 274 contains a task of very large size (25385 KiB). The maximum recommended task size is 1000 KiB.\n",
      "22/12/10 19:15:58 WARN DAGScheduler: Broadcasting large task binary with size 4.1 MiB\n",
      "22/12/10 19:15:58 WARN TaskSetManager: Stage 275 contains a task of very large size (25385 KiB). The maximum recommended task size is 1000 KiB.\n",
      "22/12/10 19:15:58 WARN DAGScheduler: Broadcasting large task binary with size 4.1 MiB\n",
      "22/12/10 19:15:58 WARN TaskSetManager: Stage 276 contains a task of very large size (25385 KiB). The maximum recommended task size is 1000 KiB.\n",
      "22/12/10 19:15:58 WARN DAGScheduler: Broadcasting large task binary with size 4.1 MiB\n",
      "22/12/10 19:15:58 WARN TaskSetManager: Stage 277 contains a task of very large size (25385 KiB). The maximum recommended task size is 1000 KiB.\n",
      "22/12/10 19:15:58 WARN DAGScheduler: Broadcasting large task binary with size 4.1 MiB\n",
      "22/12/10 19:15:58 WARN TaskSetManager: Stage 278 contains a task of very large size (25385 KiB). The maximum recommended task size is 1000 KiB.\n",
      "22/12/10 19:15:58 WARN DAGScheduler: Broadcasting large task binary with size 4.1 MiB\n",
      "22/12/10 19:15:58 WARN TaskSetManager: Stage 279 contains a task of very large size (25385 KiB). The maximum recommended task size is 1000 KiB.\n",
      "22/12/10 19:15:59 WARN DAGScheduler: Broadcasting large task binary with size 4.1 MiB\n",
      "22/12/10 19:15:59 WARN TaskSetManager: Stage 280 contains a task of very large size (25385 KiB). The maximum recommended task size is 1000 KiB.\n",
      "22/12/10 19:15:59 WARN DAGScheduler: Broadcasting large task binary with size 4.1 MiB\n",
      "22/12/10 19:15:59 WARN TaskSetManager: Stage 281 contains a task of very large size (25385 KiB). The maximum recommended task size is 1000 KiB.\n",
      "22/12/10 19:15:59 WARN DAGScheduler: Broadcasting large task binary with size 4.1 MiB\n",
      "22/12/10 19:15:59 WARN TaskSetManager: Stage 282 contains a task of very large size (25385 KiB). The maximum recommended task size is 1000 KiB.\n",
      "22/12/10 19:15:59 WARN DAGScheduler: Broadcasting large task binary with size 4.1 MiB\n",
      "22/12/10 19:15:59 WARN TaskSetManager: Stage 283 contains a task of very large size (25385 KiB). The maximum recommended task size is 1000 KiB.\n",
      "22/12/10 19:15:59 WARN DAGScheduler: Broadcasting large task binary with size 4.1 MiB\n",
      "22/12/10 19:15:59 WARN TaskSetManager: Stage 284 contains a task of very large size (25385 KiB). The maximum recommended task size is 1000 KiB.\n",
      "22/12/10 19:15:59 WARN DAGScheduler: Broadcasting large task binary with size 4.1 MiB\n",
      "22/12/10 19:15:59 WARN TaskSetManager: Stage 285 contains a task of very large size (25385 KiB). The maximum recommended task size is 1000 KiB.\n",
      "22/12/10 19:15:59 WARN DAGScheduler: Broadcasting large task binary with size 4.1 MiB\n",
      "22/12/10 19:15:59 WARN TaskSetManager: Stage 286 contains a task of very large size (25385 KiB). The maximum recommended task size is 1000 KiB.\n",
      "22/12/10 19:15:59 WARN DAGScheduler: Broadcasting large task binary with size 4.1 MiB\n",
      "22/12/10 19:15:59 WARN TaskSetManager: Stage 287 contains a task of very large size (25385 KiB). The maximum recommended task size is 1000 KiB.\n",
      "22/12/10 19:15:59 WARN DAGScheduler: Broadcasting large task binary with size 4.1 MiB\n",
      "22/12/10 19:15:59 WARN TaskSetManager: Stage 288 contains a task of very large size (25385 KiB). The maximum recommended task size is 1000 KiB.\n",
      "22/12/10 19:15:59 WARN DAGScheduler: Broadcasting large task binary with size 4.1 MiB\n",
      "22/12/10 19:15:59 WARN TaskSetManager: Stage 289 contains a task of very large size (25385 KiB). The maximum recommended task size is 1000 KiB.\n",
      "22/12/10 19:16:00 WARN DAGScheduler: Broadcasting large task binary with size 4.1 MiB\n",
      "22/12/10 19:16:00 WARN TaskSetManager: Stage 290 contains a task of very large size (25385 KiB). The maximum recommended task size is 1000 KiB.\n",
      "22/12/10 19:16:00 WARN DAGScheduler: Broadcasting large task binary with size 4.1 MiB\n",
      "22/12/10 19:16:00 WARN TaskSetManager: Stage 291 contains a task of very large size (25385 KiB). The maximum recommended task size is 1000 KiB.\n",
      "22/12/10 19:16:00 WARN DAGScheduler: Broadcasting large task binary with size 4.1 MiB\n",
      "22/12/10 19:16:00 WARN TaskSetManager: Stage 292 contains a task of very large size (25385 KiB). The maximum recommended task size is 1000 KiB.\n"
     ]
    },
    {
     "name": "stdout",
     "output_type": "stream",
     "text": [
      "22/12/10 19:16:00 WARN DAGScheduler: Broadcasting large task binary with size 4.1 MiB\n",
      "22/12/10 19:16:00 WARN TaskSetManager: Stage 293 contains a task of very large size (25385 KiB). The maximum recommended task size is 1000 KiB.\n",
      "22/12/10 19:16:00 WARN DAGScheduler: Broadcasting large task binary with size 4.1 MiB\n",
      "22/12/10 19:16:00 WARN TaskSetManager: Stage 294 contains a task of very large size (25385 KiB). The maximum recommended task size is 1000 KiB.\n",
      "22/12/10 19:16:00 WARN DAGScheduler: Broadcasting large task binary with size 4.1 MiB\n",
      "22/12/10 19:16:00 WARN TaskSetManager: Stage 295 contains a task of very large size (25385 KiB). The maximum recommended task size is 1000 KiB.\n",
      "22/12/10 19:16:00 WARN DAGScheduler: Broadcasting large task binary with size 4.1 MiB\n",
      "22/12/10 19:16:00 WARN TaskSetManager: Stage 296 contains a task of very large size (25385 KiB). The maximum recommended task size is 1000 KiB.\n",
      "22/12/10 19:16:01 WARN DAGScheduler: Broadcasting large task binary with size 4.1 MiB\n",
      "22/12/10 19:16:01 WARN TaskSetManager: Stage 297 contains a task of very large size (25385 KiB). The maximum recommended task size is 1000 KiB.\n",
      "22/12/10 19:16:01 WARN DAGScheduler: Broadcasting large task binary with size 4.1 MiB\n",
      "22/12/10 19:16:01 WARN TaskSetManager: Stage 298 contains a task of very large size (25385 KiB). The maximum recommended task size is 1000 KiB.\n",
      "22/12/10 19:16:01 WARN DAGScheduler: Broadcasting large task binary with size 4.1 MiB\n",
      "22/12/10 19:16:01 WARN TaskSetManager: Stage 299 contains a task of very large size (25385 KiB). The maximum recommended task size is 1000 KiB.\n",
      "22/12/10 19:16:01 WARN DAGScheduler: Broadcasting large task binary with size 4.1 MiB\n",
      "22/12/10 19:16:01 WARN TaskSetManager: Stage 300 contains a task of very large size (25385 KiB). The maximum recommended task size is 1000 KiB.\n",
      "22/12/10 19:16:01 WARN DAGScheduler: Broadcasting large task binary with size 4.1 MiB\n",
      "22/12/10 19:16:01 WARN TaskSetManager: Stage 301 contains a task of very large size (25385 KiB). The maximum recommended task size is 1000 KiB.\n",
      "22/12/10 19:16:02 WARN DAGScheduler: Broadcasting large task binary with size 4.1 MiB\n",
      "22/12/10 19:16:02 WARN TaskSetManager: Stage 302 contains a task of very large size (25385 KiB). The maximum recommended task size is 1000 KiB.\n",
      "22/12/10 19:16:02 WARN DAGScheduler: Broadcasting large task binary with size 4.1 MiB\n",
      "22/12/10 19:16:02 WARN TaskSetManager: Stage 303 contains a task of very large size (25385 KiB). The maximum recommended task size is 1000 KiB.\n",
      "22/12/10 19:16:02 WARN DAGScheduler: Broadcasting large task binary with size 4.1 MiB\n",
      "22/12/10 19:16:02 WARN TaskSetManager: Stage 304 contains a task of very large size (25385 KiB). The maximum recommended task size is 1000 KiB.\n",
      "22/12/10 19:16:02 WARN DAGScheduler: Broadcasting large task binary with size 4.1 MiB\n",
      "22/12/10 19:16:02 WARN TaskSetManager: Stage 305 contains a task of very large size (25385 KiB). The maximum recommended task size is 1000 KiB.\n",
      "22/12/10 19:16:02 WARN DAGScheduler: Broadcasting large task binary with size 4.1 MiB\n",
      "22/12/10 19:16:02 WARN TaskSetManager: Stage 306 contains a task of very large size (25385 KiB). The maximum recommended task size is 1000 KiB.\n",
      "22/12/10 19:16:02 WARN DAGScheduler: Broadcasting large task binary with size 4.1 MiB\n",
      "22/12/10 19:16:02 WARN TaskSetManager: Stage 307 contains a task of very large size (25385 KiB). The maximum recommended task size is 1000 KiB.\n",
      "22/12/10 19:16:02 WARN DAGScheduler: Broadcasting large task binary with size 4.1 MiB\n",
      "22/12/10 19:16:02 WARN TaskSetManager: Stage 308 contains a task of very large size (25385 KiB). The maximum recommended task size is 1000 KiB.\n",
      "22/12/10 19:16:03 WARN DAGScheduler: Broadcasting large task binary with size 4.1 MiB\n",
      "22/12/10 19:16:03 WARN TaskSetManager: Stage 309 contains a task of very large size (25385 KiB). The maximum recommended task size is 1000 KiB.\n",
      "22/12/10 19:16:03 WARN DAGScheduler: Broadcasting large task binary with size 5.4 MiB\n",
      "22/12/10 19:16:03 WARN TaskSetManager: Stage 310 contains a task of very large size (8263 KiB). The maximum recommended task size is 1000 KiB.\n",
      "22/12/10 19:16:03 WARN TaskSetManager: Stage 311 contains a task of very large size (8263 KiB). The maximum recommended task size is 1000 KiB.\n",
      "22/12/10 19:16:03 WARN DAGScheduler: Broadcasting large task binary with size 5.4 MiB\n",
      "22/12/10 19:16:03 WARN DAGScheduler: Broadcasting large task binary with size 5.4 MiB\n",
      "22/12/10 19:16:03 WARN TaskSetManager: Stage 312 contains a task of very large size (8263 KiB). The maximum recommended task size is 1000 KiB.\n",
      "22/12/10 19:16:03 WARN TaskSetManager: Stage 313 contains a task of very large size (8263 KiB). The maximum recommended task size is 1000 KiB.\n",
      "22/12/10 19:16:03 WARN DAGScheduler: Broadcasting large task binary with size 5.4 MiB\n",
      "22/12/10 19:16:03 WARN DAGScheduler: Broadcasting large task binary with size 5.4 MiB\n"
     ]
    },
    {
     "name": "stderr",
     "output_type": "stream",
     "text": [
      "\r",
      "[Stage 310:>                (0 + 2) / 2][Stage 311:>                (0 + 2) / 2]\r",
      "\r",
      "[Stage 311:>  (0 + 2) / 2][Stage 312:>  (0 + 2) / 2][Stage 313:>  (0 + 2) / 2]\r"
     ]
    },
    {
     "name": "stdout",
     "output_type": "stream",
     "text": [
      "22/12/10 19:16:04 WARN TaskSetManager: Stage 314 contains a task of very large size (8263 KiB). The maximum recommended task size is 1000 KiB.\n",
      "22/12/10 19:16:08 WARN TaskSetManager: Stage 315 contains a task of very large size (8263 KiB). The maximum recommended task size is 1000 KiB.\n"
     ]
    },
    {
     "name": "stderr",
     "output_type": "stream",
     "text": [
      "                                                                                \r"
     ]
    },
    {
     "name": "stdout",
     "output_type": "stream",
     "text": [
      "+----------------+-----+------------+-------+------+------+\n",
      "|              id|toxic|severe_toxic|obscene|threat|insult|\n",
      "+----------------+-----+------------+-------+------+------+\n",
      "|805d0ddb7e79b173|  0.0|         0.0|    0.0|   0.0|   0.0|\n",
      "|80fb26ac41c0a3e0|  0.0|         0.0|    0.0|   0.0|   0.0|\n",
      "|81de7451eafefeb3|  0.0|         0.0|    0.0|   0.0|   0.0|\n",
      "|82c3fd5493e4873e|  1.0|         0.0|    1.0|   0.0|   1.0|\n",
      "|83a835e1c77f1ab8|  0.0|         0.0|    0.0|   0.0|   0.0|\n",
      "+----------------+-----+------------+-------+------+------+\n",
      "only showing top 5 rows\n",
      "\n",
      "22/12/10 19:16:10 WARN DAGScheduler: Broadcasting large task binary with size 4.1 MiB\n",
      "22/12/10 19:16:10 WARN TaskSetManager: Stage 328 contains a task of very large size (25385 KiB). The maximum recommended task size is 1000 KiB.\n"
     ]
    },
    {
     "name": "stderr",
     "output_type": "stream",
     "text": [
      "                                                                                \r"
     ]
    },
    {
     "name": "stdout",
     "output_type": "stream",
     "text": [
      "22/12/10 19:16:14 WARN DAGScheduler: Broadcasting large task binary with size 4.1 MiB\n",
      "22/12/10 19:16:14 WARN TaskSetManager: Stage 329 contains a task of very large size (25385 KiB). The maximum recommended task size is 1000 KiB.\n"
     ]
    },
    {
     "name": "stderr",
     "output_type": "stream",
     "text": [
      "                                                                                \r"
     ]
    },
    {
     "name": "stdout",
     "output_type": "stream",
     "text": [
      "22/12/10 19:16:18 WARN DAGScheduler: Broadcasting large task binary with size 4.1 MiB\n",
      "22/12/10 19:16:18 WARN TaskSetManager: Stage 330 contains a task of very large size (25385 KiB). The maximum recommended task size is 1000 KiB.\n",
      "22/12/10 19:16:18 WARN DAGScheduler: Broadcasting large task binary with size 4.1 MiB\n",
      "22/12/10 19:16:18 WARN TaskSetManager: Stage 331 contains a task of very large size (25385 KiB). The maximum recommended task size is 1000 KiB.\n",
      "22/12/10 19:16:18 WARN DAGScheduler: Broadcasting large task binary with size 4.1 MiB\n",
      "22/12/10 19:16:18 WARN TaskSetManager: Stage 332 contains a task of very large size (25385 KiB). The maximum recommended task size is 1000 KiB.\n",
      "22/12/10 19:16:18 WARN DAGScheduler: Broadcasting large task binary with size 4.1 MiB\n",
      "22/12/10 19:16:18 WARN TaskSetManager: Stage 333 contains a task of very large size (25385 KiB). The maximum recommended task size is 1000 KiB.\n",
      "22/12/10 19:16:18 WARN DAGScheduler: Broadcasting large task binary with size 4.1 MiB\n",
      "22/12/10 19:16:18 WARN TaskSetManager: Stage 334 contains a task of very large size (25385 KiB). The maximum recommended task size is 1000 KiB.\n",
      "22/12/10 19:16:19 WARN DAGScheduler: Broadcasting large task binary with size 4.1 MiB\n",
      "22/12/10 19:16:19 WARN TaskSetManager: Stage 335 contains a task of very large size (25385 KiB). The maximum recommended task size is 1000 KiB.\n",
      "22/12/10 19:16:19 WARN DAGScheduler: Broadcasting large task binary with size 4.1 MiB\n",
      "22/12/10 19:16:19 WARN TaskSetManager: Stage 336 contains a task of very large size (25385 KiB). The maximum recommended task size is 1000 KiB.\n",
      "22/12/10 19:16:19 WARN DAGScheduler: Broadcasting large task binary with size 4.1 MiB\n",
      "22/12/10 19:16:19 WARN TaskSetManager: Stage 337 contains a task of very large size (25385 KiB). The maximum recommended task size is 1000 KiB.\n",
      "22/12/10 19:16:19 WARN DAGScheduler: Broadcasting large task binary with size 4.1 MiB\n",
      "22/12/10 19:16:19 WARN TaskSetManager: Stage 338 contains a task of very large size (25385 KiB). The maximum recommended task size is 1000 KiB.\n",
      "22/12/10 19:16:19 WARN DAGScheduler: Broadcasting large task binary with size 4.1 MiB\n",
      "22/12/10 19:16:19 WARN TaskSetManager: Stage 339 contains a task of very large size (25385 KiB). The maximum recommended task size is 1000 KiB.\n",
      "22/12/10 19:16:19 WARN DAGScheduler: Broadcasting large task binary with size 4.1 MiB\n",
      "22/12/10 19:16:19 WARN TaskSetManager: Stage 340 contains a task of very large size (25385 KiB). The maximum recommended task size is 1000 KiB.\n",
      "22/12/10 19:16:19 WARN DAGScheduler: Broadcasting large task binary with size 4.1 MiB\n",
      "22/12/10 19:16:19 WARN TaskSetManager: Stage 341 contains a task of very large size (25385 KiB). The maximum recommended task size is 1000 KiB.\n",
      "22/12/10 19:16:19 WARN DAGScheduler: Broadcasting large task binary with size 4.1 MiB\n",
      "22/12/10 19:16:19 WARN TaskSetManager: Stage 342 contains a task of very large size (25385 KiB). The maximum recommended task size is 1000 KiB.\n",
      "22/12/10 19:16:19 WARN DAGScheduler: Broadcasting large task binary with size 4.1 MiB\n",
      "22/12/10 19:16:19 WARN TaskSetManager: Stage 343 contains a task of very large size (25385 KiB). The maximum recommended task size is 1000 KiB.\n",
      "22/12/10 19:16:19 WARN DAGScheduler: Broadcasting large task binary with size 4.1 MiB\n",
      "22/12/10 19:16:19 WARN TaskSetManager: Stage 344 contains a task of very large size (25385 KiB). The maximum recommended task size is 1000 KiB.\n",
      "22/12/10 19:16:19 WARN DAGScheduler: Broadcasting large task binary with size 4.1 MiB\n",
      "22/12/10 19:16:19 WARN TaskSetManager: Stage 345 contains a task of very large size (25385 KiB). The maximum recommended task size is 1000 KiB.\n",
      "22/12/10 19:16:19 WARN DAGScheduler: Broadcasting large task binary with size 4.1 MiB\n",
      "22/12/10 19:16:19 WARN TaskSetManager: Stage 346 contains a task of very large size (25385 KiB). The maximum recommended task size is 1000 KiB.\n",
      "22/12/10 19:16:19 WARN DAGScheduler: Broadcasting large task binary with size 4.1 MiB\n",
      "22/12/10 19:16:19 WARN TaskSetManager: Stage 347 contains a task of very large size (25385 KiB). The maximum recommended task size is 1000 KiB.\n",
      "22/12/10 19:16:19 WARN DAGScheduler: Broadcasting large task binary with size 4.1 MiB\n",
      "22/12/10 19:16:19 WARN TaskSetManager: Stage 348 contains a task of very large size (25385 KiB). The maximum recommended task size is 1000 KiB.\n",
      "22/12/10 19:16:19 WARN DAGScheduler: Broadcasting large task binary with size 4.1 MiB\n",
      "22/12/10 19:16:20 WARN TaskSetManager: Stage 349 contains a task of very large size (25385 KiB). The maximum recommended task size is 1000 KiB.\n",
      "22/12/10 19:16:20 WARN DAGScheduler: Broadcasting large task binary with size 4.1 MiB\n",
      "22/12/10 19:16:20 WARN TaskSetManager: Stage 350 contains a task of very large size (25385 KiB). The maximum recommended task size is 1000 KiB.\n",
      "22/12/10 19:16:20 WARN DAGScheduler: Broadcasting large task binary with size 4.1 MiB\n",
      "22/12/10 19:16:20 WARN TaskSetManager: Stage 351 contains a task of very large size (25385 KiB). The maximum recommended task size is 1000 KiB.\n",
      "22/12/10 19:16:20 WARN DAGScheduler: Broadcasting large task binary with size 4.1 MiB\n",
      "22/12/10 19:16:20 WARN TaskSetManager: Stage 352 contains a task of very large size (25385 KiB). The maximum recommended task size is 1000 KiB.\n",
      "22/12/10 19:16:20 WARN DAGScheduler: Broadcasting large task binary with size 4.1 MiB\n",
      "22/12/10 19:16:20 WARN TaskSetManager: Stage 353 contains a task of very large size (25385 KiB). The maximum recommended task size is 1000 KiB.\n",
      "22/12/10 19:16:20 WARN DAGScheduler: Broadcasting large task binary with size 4.1 MiB\n",
      "22/12/10 19:16:20 WARN TaskSetManager: Stage 354 contains a task of very large size (25385 KiB). The maximum recommended task size is 1000 KiB.\n",
      "22/12/10 19:16:20 WARN DAGScheduler: Broadcasting large task binary with size 4.1 MiB\n",
      "22/12/10 19:16:20 WARN TaskSetManager: Stage 355 contains a task of very large size (25385 KiB). The maximum recommended task size is 1000 KiB.\n",
      "22/12/10 19:16:20 WARN DAGScheduler: Broadcasting large task binary with size 4.1 MiB\n",
      "22/12/10 19:16:20 WARN TaskSetManager: Stage 356 contains a task of very large size (25385 KiB). The maximum recommended task size is 1000 KiB.\n",
      "22/12/10 19:16:20 WARN DAGScheduler: Broadcasting large task binary with size 4.1 MiB\n",
      "22/12/10 19:16:20 WARN TaskSetManager: Stage 357 contains a task of very large size (25385 KiB). The maximum recommended task size is 1000 KiB.\n",
      "22/12/10 19:16:20 WARN DAGScheduler: Broadcasting large task binary with size 4.1 MiB\n",
      "22/12/10 19:16:20 WARN TaskSetManager: Stage 358 contains a task of very large size (25385 KiB). The maximum recommended task size is 1000 KiB.\n",
      "22/12/10 19:16:20 WARN DAGScheduler: Broadcasting large task binary with size 4.1 MiB\n",
      "22/12/10 19:16:20 WARN TaskSetManager: Stage 359 contains a task of very large size (25385 KiB). The maximum recommended task size is 1000 KiB.\n",
      "22/12/10 19:16:20 WARN DAGScheduler: Broadcasting large task binary with size 4.1 MiB\n",
      "22/12/10 19:16:20 WARN TaskSetManager: Stage 360 contains a task of very large size (25385 KiB). The maximum recommended task size is 1000 KiB.\n",
      "22/12/10 19:16:20 WARN DAGScheduler: Broadcasting large task binary with size 4.1 MiB\n",
      "22/12/10 19:16:20 WARN TaskSetManager: Stage 361 contains a task of very large size (25385 KiB). The maximum recommended task size is 1000 KiB.\n",
      "22/12/10 19:16:20 WARN DAGScheduler: Broadcasting large task binary with size 4.1 MiB\n",
      "22/12/10 19:16:20 WARN TaskSetManager: Stage 362 contains a task of very large size (25385 KiB). The maximum recommended task size is 1000 KiB.\n",
      "22/12/10 19:16:20 WARN DAGScheduler: Broadcasting large task binary with size 4.1 MiB\n",
      "22/12/10 19:16:20 WARN TaskSetManager: Stage 363 contains a task of very large size (25385 KiB). The maximum recommended task size is 1000 KiB.\n",
      "22/12/10 19:16:21 WARN DAGScheduler: Broadcasting large task binary with size 4.1 MiB\n",
      "22/12/10 19:16:21 WARN TaskSetManager: Stage 364 contains a task of very large size (25385 KiB). The maximum recommended task size is 1000 KiB.\n",
      "22/12/10 19:16:21 WARN DAGScheduler: Broadcasting large task binary with size 4.1 MiB\n",
      "22/12/10 19:16:21 WARN TaskSetManager: Stage 365 contains a task of very large size (25385 KiB). The maximum recommended task size is 1000 KiB.\n",
      "22/12/10 19:16:21 WARN DAGScheduler: Broadcasting large task binary with size 4.1 MiB\n",
      "22/12/10 19:16:21 WARN TaskSetManager: Stage 366 contains a task of very large size (25385 KiB). The maximum recommended task size is 1000 KiB.\n"
     ]
    },
    {
     "name": "stdout",
     "output_type": "stream",
     "text": [
      "22/12/10 19:16:21 WARN DAGScheduler: Broadcasting large task binary with size 4.1 MiB\n",
      "22/12/10 19:16:21 WARN TaskSetManager: Stage 367 contains a task of very large size (25385 KiB). The maximum recommended task size is 1000 KiB.\n",
      "22/12/10 19:16:21 WARN DAGScheduler: Broadcasting large task binary with size 4.1 MiB\n",
      "22/12/10 19:16:21 WARN TaskSetManager: Stage 368 contains a task of very large size (25385 KiB). The maximum recommended task size is 1000 KiB.\n",
      "22/12/10 19:16:21 WARN DAGScheduler: Broadcasting large task binary with size 4.1 MiB\n",
      "22/12/10 19:16:21 WARN TaskSetManager: Stage 369 contains a task of very large size (25385 KiB). The maximum recommended task size is 1000 KiB.\n",
      "22/12/10 19:16:21 WARN DAGScheduler: Broadcasting large task binary with size 4.1 MiB\n",
      "22/12/10 19:16:21 WARN TaskSetManager: Stage 370 contains a task of very large size (25385 KiB). The maximum recommended task size is 1000 KiB.\n",
      "22/12/10 19:16:21 WARN DAGScheduler: Broadcasting large task binary with size 4.1 MiB\n",
      "22/12/10 19:16:21 WARN TaskSetManager: Stage 371 contains a task of very large size (25385 KiB). The maximum recommended task size is 1000 KiB.\n",
      "22/12/10 19:16:21 WARN DAGScheduler: Broadcasting large task binary with size 4.1 MiB\n",
      "22/12/10 19:16:21 WARN TaskSetManager: Stage 372 contains a task of very large size (25385 KiB). The maximum recommended task size is 1000 KiB.\n",
      "22/12/10 19:16:21 WARN DAGScheduler: Broadcasting large task binary with size 4.1 MiB\n",
      "22/12/10 19:16:21 WARN TaskSetManager: Stage 373 contains a task of very large size (25385 KiB). The maximum recommended task size is 1000 KiB.\n",
      "22/12/10 19:16:21 WARN DAGScheduler: Broadcasting large task binary with size 4.1 MiB\n",
      "22/12/10 19:16:21 WARN TaskSetManager: Stage 374 contains a task of very large size (25385 KiB). The maximum recommended task size is 1000 KiB.\n",
      "22/12/10 19:16:21 WARN DAGScheduler: Broadcasting large task binary with size 4.1 MiB\n",
      "22/12/10 19:16:21 WARN TaskSetManager: Stage 375 contains a task of very large size (25385 KiB). The maximum recommended task size is 1000 KiB.\n",
      "22/12/10 19:16:21 WARN DAGScheduler: Broadcasting large task binary with size 4.1 MiB\n",
      "22/12/10 19:16:21 WARN TaskSetManager: Stage 376 contains a task of very large size (25385 KiB). The maximum recommended task size is 1000 KiB.\n",
      "22/12/10 19:16:21 WARN DAGScheduler: Broadcasting large task binary with size 4.1 MiB\n",
      "22/12/10 19:16:21 WARN TaskSetManager: Stage 377 contains a task of very large size (25385 KiB). The maximum recommended task size is 1000 KiB.\n",
      "22/12/10 19:16:21 WARN DAGScheduler: Broadcasting large task binary with size 4.1 MiB\n",
      "22/12/10 19:16:22 WARN TaskSetManager: Stage 378 contains a task of very large size (25385 KiB). The maximum recommended task size is 1000 KiB.\n",
      "22/12/10 19:16:22 WARN DAGScheduler: Broadcasting large task binary with size 4.1 MiB\n",
      "22/12/10 19:16:22 WARN TaskSetManager: Stage 379 contains a task of very large size (25385 KiB). The maximum recommended task size is 1000 KiB.\n",
      "22/12/10 19:16:22 WARN DAGScheduler: Broadcasting large task binary with size 4.1 MiB\n",
      "22/12/10 19:16:22 WARN TaskSetManager: Stage 380 contains a task of very large size (25385 KiB). The maximum recommended task size is 1000 KiB.\n",
      "22/12/10 19:16:22 WARN DAGScheduler: Broadcasting large task binary with size 4.1 MiB\n",
      "22/12/10 19:16:22 WARN TaskSetManager: Stage 381 contains a task of very large size (25385 KiB). The maximum recommended task size is 1000 KiB.\n",
      "22/12/10 19:16:22 WARN TaskSetManager: Stage 382 contains a task of very large size (8263 KiB). The maximum recommended task size is 1000 KiB.\n",
      "22/12/10 19:16:22 WARN DAGScheduler: Broadcasting large task binary with size 5.4 MiB\n",
      "22/12/10 19:16:22 WARN TaskSetManager: Stage 383 contains a task of very large size (8263 KiB). The maximum recommended task size is 1000 KiB.\n",
      "22/12/10 19:16:22 WARN DAGScheduler: Broadcasting large task binary with size 5.4 MiB\n",
      "22/12/10 19:16:22 WARN TaskSetManager: Stage 384 contains a task of very large size (8263 KiB). The maximum recommended task size is 1000 KiB.\n",
      "22/12/10 19:16:22 WARN DAGScheduler: Broadcasting large task binary with size 5.4 MiB\n",
      "22/12/10 19:16:22 WARN TaskSetManager: Stage 385 contains a task of very large size (8263 KiB). The maximum recommended task size is 1000 KiB.\n",
      "22/12/10 19:16:22 WARN DAGScheduler: Broadcasting large task binary with size 5.4 MiB\n",
      "22/12/10 19:16:22 WARN DAGScheduler: Broadcasting large task binary with size 5.4 MiB\n",
      "22/12/10 19:16:22 WARN DAGScheduler: Broadcasting large task binary with size 5.4 MiB\n",
      "22/12/10 19:16:22 WARN TaskSetManager: Stage 386 contains a task of very large size (8263 KiB). The maximum recommended task size is 1000 KiB.\n"
     ]
    },
    {
     "name": "stderr",
     "output_type": "stream",
     "text": [
      "\r",
      "[Stage 383:>  (0 + 2) / 2][Stage 384:>  (0 + 2) / 2][Stage 385:>  (0 + 2) / 2]\r"
     ]
    },
    {
     "name": "stdout",
     "output_type": "stream",
     "text": [
      "22/12/10 19:16:26 WARN TaskSetManager: Stage 387 contains a task of very large size (8263 KiB). The maximum recommended task size is 1000 KiB.\n",
      "22/12/10 19:16:26 WARN TaskSetManager: Stage 388 contains a task of very large size (8263 KiB). The maximum recommended task size is 1000 KiB.\n"
     ]
    },
    {
     "name": "stderr",
     "output_type": "stream",
     "text": [
      "                                                                                \r"
     ]
    },
    {
     "name": "stdout",
     "output_type": "stream",
     "text": [
      "+----------------+-----+------------+-------+------+------+-------------+\n",
      "|              id|toxic|severe_toxic|obscene|threat|insult|identity_hate|\n",
      "+----------------+-----+------------+-------+------+------+-------------+\n",
      "|805d0ddb7e79b173|  0.0|         0.0|    0.0|   0.0|   0.0|          0.0|\n",
      "|80fb26ac41c0a3e0|  0.0|         0.0|    0.0|   0.0|   0.0|          0.0|\n",
      "|81de7451eafefeb3|  0.0|         0.0|    0.0|   0.0|   0.0|          0.0|\n",
      "|82c3fd5493e4873e|  1.0|         0.0|    1.0|   0.0|   1.0|          0.0|\n",
      "|83a835e1c77f1ab8|  0.0|         0.0|    0.0|   0.0|   0.0|          0.0|\n",
      "+----------------+-----+------------+-------+------+------+-------------+\n",
      "only showing top 5 rows\n",
      "\n"
     ]
    }
   ],
   "source": [
    "for col in cols_to_predict:\n",
    "    logreg = LogisticRegression(featuresCol='features', labelCol=col, regParam=regParam)\n",
    "    model = logreg.fit(dataset)\n",
    "    res = model.transform(dataset_test)\n",
    "    test_res = test_res.join(res.select('id', 'prediction'), on=\"id\")\n",
    "    test_res = test_res.withColumnRenamed(\"prediction\", col)\n",
    "    test_res.show(5)"
   ]
  },
  {
   "cell_type": "code",
   "execution_count": 18,
   "id": "4eaae419",
   "metadata": {},
   "outputs": [
    {
     "name": "stdout",
     "output_type": "stream",
     "text": [
      "22/12/10 19:16:36 WARN TaskSetManager: Stage 403 contains a task of very large size (8263 KiB). The maximum recommended task size is 1000 KiB.\n",
      "22/12/10 19:16:36 WARN DAGScheduler: Broadcasting large task binary with size 5.4 MiB\n",
      "22/12/10 19:16:36 WARN DAGScheduler: Broadcasting large task binary with size 5.4 MiB\n",
      "22/12/10 19:16:36 WARN TaskSetManager: Stage 404 contains a task of very large size (8263 KiB). The maximum recommended task size is 1000 KiB.\n",
      "22/12/10 19:16:37 WARN DAGScheduler: Broadcasting large task binary with size 5.4 MiB\n",
      "22/12/10 19:16:37 WARN TaskSetManager: Stage 405 contains a task of very large size (8263 KiB). The maximum recommended task size is 1000 KiB.\n",
      "22/12/10 19:16:37 WARN TaskSetManager: Stage 406 contains a task of very large size (8263 KiB). The maximum recommended task size is 1000 KiB.\n",
      "22/12/10 19:16:37 WARN DAGScheduler: Broadcasting large task binary with size 5.4 MiB\n",
      "22/12/10 19:16:37 WARN TaskSetManager: Stage 407 contains a task of very large size (8263 KiB). The maximum recommended task size is 1000 KiB.\n",
      "22/12/10 19:16:37 WARN DAGScheduler: Broadcasting large task binary with size 5.4 MiB\n",
      "22/12/10 19:16:37 WARN DAGScheduler: Broadcasting large task binary with size 5.4 MiB\n"
     ]
    },
    {
     "name": "stderr",
     "output_type": "stream",
     "text": [
      "\r",
      "[Stage 404:>                (0 + 2) / 2][Stage 405:>                (0 + 2) / 2]\r",
      "\r",
      "[Stage 404:>  (0 + 2) / 2][Stage 405:>  (0 + 2) / 2][Stage 406:>  (0 + 2) / 2]\r"
     ]
    },
    {
     "name": "stdout",
     "output_type": "stream",
     "text": [
      "22/12/10 19:16:41 WARN TaskSetManager: Stage 408 contains a task of very large size (8263 KiB). The maximum recommended task size is 1000 KiB.\n"
     ]
    },
    {
     "name": "stderr",
     "output_type": "stream",
     "text": [
      "\r",
      "[Stage 404:=> (1 + 1) / 2][Stage 405:>  (0 + 2) / 2][Stage 406:>  (0 + 2) / 2]\r"
     ]
    },
    {
     "name": "stdout",
     "output_type": "stream",
     "text": [
      "22/12/10 19:16:41 WARN TaskSetManager: Stage 409 contains a task of very large size (8263 KiB). The maximum recommended task size is 1000 KiB.\n"
     ]
    },
    {
     "name": "stderr",
     "output_type": "stream",
     "text": [
      "                                                                                \r"
     ]
    }
   ],
   "source": [
    "test_res_pd = test_res.toPandas()"
   ]
  },
  {
   "cell_type": "code",
   "execution_count": 28,
   "id": "d089e116",
   "metadata": {},
   "outputs": [],
   "source": [
    "test_res_pd = test_res_pd.sort_values(by=['id'])"
   ]
  },
  {
   "cell_type": "code",
   "execution_count": 27,
   "id": "c29bad6f",
   "metadata": {},
   "outputs": [],
   "source": [
    "test_res_real = df.iloc[percent:].sort_values(by=['id'])"
   ]
  },
  {
   "cell_type": "code",
   "execution_count": 43,
   "id": "49182575",
   "metadata": {},
   "outputs": [
    {
     "data": {
      "text/html": [
       "<div>\n",
       "<style scoped>\n",
       "    .dataframe tbody tr th:only-of-type {\n",
       "        vertical-align: middle;\n",
       "    }\n",
       "\n",
       "    .dataframe tbody tr th {\n",
       "        vertical-align: top;\n",
       "    }\n",
       "\n",
       "    .dataframe thead th {\n",
       "        text-align: right;\n",
       "    }\n",
       "</style>\n",
       "<table border=\"1\" class=\"dataframe\">\n",
       "  <thead>\n",
       "    <tr style=\"text-align: right;\">\n",
       "      <th></th>\n",
       "      <th>id</th>\n",
       "      <th>toxic</th>\n",
       "      <th>severe_toxic</th>\n",
       "      <th>obscene</th>\n",
       "      <th>threat</th>\n",
       "      <th>insult</th>\n",
       "      <th>identity_hate</th>\n",
       "    </tr>\n",
       "  </thead>\n",
       "  <tbody>\n",
       "    <tr>\n",
       "      <th>36775</th>\n",
       "      <td>00024b59235015f3</td>\n",
       "      <td>1.0</td>\n",
       "      <td>0.0</td>\n",
       "      <td>1.0</td>\n",
       "      <td>0.0</td>\n",
       "      <td>1.0</td>\n",
       "      <td>0.0</td>\n",
       "    </tr>\n",
       "    <tr>\n",
       "      <th>21280</th>\n",
       "      <td>000ccfe27151b36f</td>\n",
       "      <td>0.0</td>\n",
       "      <td>0.0</td>\n",
       "      <td>0.0</td>\n",
       "      <td>0.0</td>\n",
       "      <td>0.0</td>\n",
       "      <td>0.0</td>\n",
       "    </tr>\n",
       "    <tr>\n",
       "      <th>21595</th>\n",
       "      <td>001293279f17e968</td>\n",
       "      <td>0.0</td>\n",
       "      <td>0.0</td>\n",
       "      <td>0.0</td>\n",
       "      <td>0.0</td>\n",
       "      <td>0.0</td>\n",
       "      <td>0.0</td>\n",
       "    </tr>\n",
       "    <tr>\n",
       "      <th>24732</th>\n",
       "      <td>00144b2c8a4299dd</td>\n",
       "      <td>0.0</td>\n",
       "      <td>0.0</td>\n",
       "      <td>0.0</td>\n",
       "      <td>0.0</td>\n",
       "      <td>0.0</td>\n",
       "      <td>0.0</td>\n",
       "    </tr>\n",
       "    <tr>\n",
       "      <th>26475</th>\n",
       "      <td>001619e06b493525</td>\n",
       "      <td>0.0</td>\n",
       "      <td>0.0</td>\n",
       "      <td>0.0</td>\n",
       "      <td>0.0</td>\n",
       "      <td>0.0</td>\n",
       "      <td>0.0</td>\n",
       "    </tr>\n",
       "    <tr>\n",
       "      <th>...</th>\n",
       "      <td>...</td>\n",
       "      <td>...</td>\n",
       "      <td>...</td>\n",
       "      <td>...</td>\n",
       "      <td>...</td>\n",
       "      <td>...</td>\n",
       "      <td>...</td>\n",
       "    </tr>\n",
       "    <tr>\n",
       "      <th>35880</th>\n",
       "      <td>fff77cd19fb47eb0</td>\n",
       "      <td>0.0</td>\n",
       "      <td>0.0</td>\n",
       "      <td>0.0</td>\n",
       "      <td>0.0</td>\n",
       "      <td>0.0</td>\n",
       "      <td>0.0</td>\n",
       "    </tr>\n",
       "    <tr>\n",
       "      <th>21498</th>\n",
       "      <td>fff90f6920245ab8</td>\n",
       "      <td>0.0</td>\n",
       "      <td>0.0</td>\n",
       "      <td>0.0</td>\n",
       "      <td>0.0</td>\n",
       "      <td>0.0</td>\n",
       "      <td>0.0</td>\n",
       "    </tr>\n",
       "    <tr>\n",
       "      <th>25654</th>\n",
       "      <td>fffedeecd0364534</td>\n",
       "      <td>0.0</td>\n",
       "      <td>0.0</td>\n",
       "      <td>0.0</td>\n",
       "      <td>0.0</td>\n",
       "      <td>0.0</td>\n",
       "      <td>0.0</td>\n",
       "    </tr>\n",
       "    <tr>\n",
       "      <th>20169</th>\n",
       "      <td>ffff3a700c54e047</td>\n",
       "      <td>0.0</td>\n",
       "      <td>0.0</td>\n",
       "      <td>0.0</td>\n",
       "      <td>0.0</td>\n",
       "      <td>0.0</td>\n",
       "      <td>0.0</td>\n",
       "    </tr>\n",
       "    <tr>\n",
       "      <th>26692</th>\n",
       "      <td>ffff9d956986994e</td>\n",
       "      <td>0.0</td>\n",
       "      <td>0.0</td>\n",
       "      <td>0.0</td>\n",
       "      <td>0.0</td>\n",
       "      <td>0.0</td>\n",
       "      <td>0.0</td>\n",
       "    </tr>\n",
       "  </tbody>\n",
       "</table>\n",
       "<p>39893 rows × 7 columns</p>\n",
       "</div>"
      ],
      "text/plain": [
       "                     id  toxic  severe_toxic  obscene  threat  insult  \\\n",
       "36775  00024b59235015f3    1.0           0.0      1.0     0.0     1.0   \n",
       "21280  000ccfe27151b36f    0.0           0.0      0.0     0.0     0.0   \n",
       "21595  001293279f17e968    0.0           0.0      0.0     0.0     0.0   \n",
       "24732  00144b2c8a4299dd    0.0           0.0      0.0     0.0     0.0   \n",
       "26475  001619e06b493525    0.0           0.0      0.0     0.0     0.0   \n",
       "...                 ...    ...           ...      ...     ...     ...   \n",
       "35880  fff77cd19fb47eb0    0.0           0.0      0.0     0.0     0.0   \n",
       "21498  fff90f6920245ab8    0.0           0.0      0.0     0.0     0.0   \n",
       "25654  fffedeecd0364534    0.0           0.0      0.0     0.0     0.0   \n",
       "20169  ffff3a700c54e047    0.0           0.0      0.0     0.0     0.0   \n",
       "26692  ffff9d956986994e    0.0           0.0      0.0     0.0     0.0   \n",
       "\n",
       "       identity_hate  \n",
       "36775            0.0  \n",
       "21280            0.0  \n",
       "21595            0.0  \n",
       "24732            0.0  \n",
       "26475            0.0  \n",
       "...              ...  \n",
       "35880            0.0  \n",
       "21498            0.0  \n",
       "25654            0.0  \n",
       "20169            0.0  \n",
       "26692            0.0  \n",
       "\n",
       "[39893 rows x 7 columns]"
      ]
     },
     "execution_count": 43,
     "metadata": {},
     "output_type": "execute_result"
    }
   ],
   "source": [
    "test_res_pd"
   ]
  },
  {
   "cell_type": "code",
   "execution_count": 31,
   "id": "9fc53403",
   "metadata": {},
   "outputs": [
    {
     "data": {
      "text/html": [
       "<div>\n",
       "<style scoped>\n",
       "    .dataframe tbody tr th:only-of-type {\n",
       "        vertical-align: middle;\n",
       "    }\n",
       "\n",
       "    .dataframe tbody tr th {\n",
       "        vertical-align: top;\n",
       "    }\n",
       "\n",
       "    .dataframe thead th {\n",
       "        text-align: right;\n",
       "    }\n",
       "</style>\n",
       "<table border=\"1\" class=\"dataframe\">\n",
       "  <thead>\n",
       "    <tr style=\"text-align: right;\">\n",
       "      <th></th>\n",
       "      <th>id</th>\n",
       "      <th>comment_text</th>\n",
       "      <th>toxic</th>\n",
       "      <th>severe_toxic</th>\n",
       "      <th>obscene</th>\n",
       "      <th>threat</th>\n",
       "      <th>insult</th>\n",
       "      <th>identity_hate</th>\n",
       "    </tr>\n",
       "  </thead>\n",
       "  <tbody>\n",
       "    <tr>\n",
       "      <th>143608</th>\n",
       "      <td>00024b59235015f3</td>\n",
       "      <td>Virgin\\nMy only warning? You'll block me? Well...</td>\n",
       "      <td>1</td>\n",
       "      <td>0</td>\n",
       "      <td>1</td>\n",
       "      <td>0</td>\n",
       "      <td>1</td>\n",
       "      <td>0</td>\n",
       "    </tr>\n",
       "    <tr>\n",
       "      <th>143609</th>\n",
       "      <td>000ccfe27151b36f</td>\n",
       "      <td>Someone else took care of this one.</td>\n",
       "      <td>0</td>\n",
       "      <td>0</td>\n",
       "      <td>0</td>\n",
       "      <td>0</td>\n",
       "      <td>0</td>\n",
       "      <td>0</td>\n",
       "    </tr>\n",
       "    <tr>\n",
       "      <th>143610</th>\n",
       "      <td>001293279f17e968</td>\n",
       "      <td>El Dorado's Fountain of Youth?\\nIt was my impr...</td>\n",
       "      <td>0</td>\n",
       "      <td>0</td>\n",
       "      <td>0</td>\n",
       "      <td>0</td>\n",
       "      <td>0</td>\n",
       "      <td>0</td>\n",
       "    </tr>\n",
       "    <tr>\n",
       "      <th>143611</th>\n",
       "      <td>00144b2c8a4299dd</td>\n",
       "      <td>\"\\n\\nI did, actually. Even if you grant the fo...</td>\n",
       "      <td>0</td>\n",
       "      <td>0</td>\n",
       "      <td>0</td>\n",
       "      <td>0</td>\n",
       "      <td>0</td>\n",
       "      <td>0</td>\n",
       "    </tr>\n",
       "    <tr>\n",
       "      <th>143612</th>\n",
       "      <td>001619e06b493525</td>\n",
       "      <td>WikiProject Paranormal \\n\\nHey there, just won...</td>\n",
       "      <td>0</td>\n",
       "      <td>0</td>\n",
       "      <td>0</td>\n",
       "      <td>0</td>\n",
       "      <td>0</td>\n",
       "      <td>0</td>\n",
       "    </tr>\n",
       "    <tr>\n",
       "      <th>...</th>\n",
       "      <td>...</td>\n",
       "      <td>...</td>\n",
       "      <td>...</td>\n",
       "      <td>...</td>\n",
       "      <td>...</td>\n",
       "      <td>...</td>\n",
       "      <td>...</td>\n",
       "      <td>...</td>\n",
       "    </tr>\n",
       "    <tr>\n",
       "      <th>143603</th>\n",
       "      <td>fff77cd19fb47eb0</td>\n",
       "      <td>No personal attacks</td>\n",
       "      <td>0</td>\n",
       "      <td>0</td>\n",
       "      <td>0</td>\n",
       "      <td>0</td>\n",
       "      <td>0</td>\n",
       "      <td>0</td>\n",
       "    </tr>\n",
       "    <tr>\n",
       "      <th>143604</th>\n",
       "      <td>fff90f6920245ab8</td>\n",
       "      <td>How about edit the broken links of Incident at...</td>\n",
       "      <td>0</td>\n",
       "      <td>0</td>\n",
       "      <td>0</td>\n",
       "      <td>0</td>\n",
       "      <td>0</td>\n",
       "      <td>0</td>\n",
       "    </tr>\n",
       "    <tr>\n",
       "      <th>143605</th>\n",
       "      <td>fffedeecd0364534</td>\n",
       "      <td>to be driven away and die</td>\n",
       "      <td>1</td>\n",
       "      <td>0</td>\n",
       "      <td>0</td>\n",
       "      <td>0</td>\n",
       "      <td>0</td>\n",
       "      <td>0</td>\n",
       "    </tr>\n",
       "    <tr>\n",
       "      <th>143606</th>\n",
       "      <td>ffff3a700c54e047</td>\n",
       "      <td>\"\\n\\nI am glad I can amuse you. Perhaps your t...</td>\n",
       "      <td>0</td>\n",
       "      <td>0</td>\n",
       "      <td>0</td>\n",
       "      <td>0</td>\n",
       "      <td>0</td>\n",
       "      <td>0</td>\n",
       "    </tr>\n",
       "    <tr>\n",
       "      <th>143607</th>\n",
       "      <td>ffff9d956986994e</td>\n",
       "      <td>Well, at least someone did... To me it was qui...</td>\n",
       "      <td>0</td>\n",
       "      <td>0</td>\n",
       "      <td>0</td>\n",
       "      <td>0</td>\n",
       "      <td>0</td>\n",
       "      <td>0</td>\n",
       "    </tr>\n",
       "  </tbody>\n",
       "</table>\n",
       "<p>39893 rows × 8 columns</p>\n",
       "</div>"
      ],
      "text/plain": [
       "                      id                                       comment_text  \\\n",
       "143608  00024b59235015f3  Virgin\\nMy only warning? You'll block me? Well...   \n",
       "143609  000ccfe27151b36f                Someone else took care of this one.   \n",
       "143610  001293279f17e968  El Dorado's Fountain of Youth?\\nIt was my impr...   \n",
       "143611  00144b2c8a4299dd  \"\\n\\nI did, actually. Even if you grant the fo...   \n",
       "143612  001619e06b493525  WikiProject Paranormal \\n\\nHey there, just won...   \n",
       "...                  ...                                                ...   \n",
       "143603  fff77cd19fb47eb0                                No personal attacks   \n",
       "143604  fff90f6920245ab8  How about edit the broken links of Incident at...   \n",
       "143605  fffedeecd0364534                          to be driven away and die   \n",
       "143606  ffff3a700c54e047  \"\\n\\nI am glad I can amuse you. Perhaps your t...   \n",
       "143607  ffff9d956986994e  Well, at least someone did... To me it was qui...   \n",
       "\n",
       "        toxic  severe_toxic  obscene  threat  insult  identity_hate  \n",
       "143608      1             0        1       0       1              0  \n",
       "143609      0             0        0       0       0              0  \n",
       "143610      0             0        0       0       0              0  \n",
       "143611      0             0        0       0       0              0  \n",
       "143612      0             0        0       0       0              0  \n",
       "...       ...           ...      ...     ...     ...            ...  \n",
       "143603      0             0        0       0       0              0  \n",
       "143604      0             0        0       0       0              0  \n",
       "143605      1             0        0       0       0              0  \n",
       "143606      0             0        0       0       0              0  \n",
       "143607      0             0        0       0       0              0  \n",
       "\n",
       "[39893 rows x 8 columns]"
      ]
     },
     "execution_count": 31,
     "metadata": {},
     "output_type": "execute_result"
    }
   ],
   "source": [
    "test_res_real"
   ]
  },
  {
   "cell_type": "code",
   "execution_count": 36,
   "id": "cf6cbd96",
   "metadata": {},
   "outputs": [
    {
     "data": {
      "text/plain": [
       "0.25897435897435894"
      ]
     },
     "execution_count": 36,
     "metadata": {},
     "output_type": "execute_result"
    }
   ],
   "source": [
    "f1_score(test_res_pd.toxic, test_res_real.toxic)"
   ]
  },
  {
   "cell_type": "code",
   "execution_count": 38,
   "id": "d1b34fd9",
   "metadata": {},
   "outputs": [
    {
     "data": {
      "text/plain": [
       "0.01878307535590946"
      ]
     },
     "execution_count": 38,
     "metadata": {},
     "output_type": "execute_result"
    }
   ],
   "source": [
    "f1_score(test_res_pd.severe_toxic, test_res_real.severe_toxic)"
   ]
  },
  {
   "cell_type": "code",
   "execution_count": 39,
   "id": "7e356173",
   "metadata": {},
   "outputs": [
    {
     "data": {
      "text/plain": [
       "0.18507949449653485"
      ]
     },
     "execution_count": 39,
     "metadata": {},
     "output_type": "execute_result"
    }
   ],
   "source": [
    "f1_score(test_res_pd.obscene, test_res_real.obscene)"
   ]
  },
  {
   "cell_type": "code",
   "execution_count": 41,
   "id": "fcfaf939",
   "metadata": {},
   "outputs": [
    {
     "data": {
      "text/plain": [
       "0.00570085512826924"
      ]
     },
     "execution_count": 41,
     "metadata": {},
     "output_type": "execute_result"
    }
   ],
   "source": [
    "f1_score(test_res_pd.threat, test_res_real.threat)"
   ]
  },
  {
   "cell_type": "code",
   "execution_count": 42,
   "id": "cb8c7eb9",
   "metadata": {},
   "outputs": [
    {
     "data": {
      "text/plain": [
       "0.0437956204379562"
      ]
     },
     "execution_count": 42,
     "metadata": {},
     "output_type": "execute_result"
    }
   ],
   "source": [
    "f1_score(test_res_pd.identity_hate, test_res_real.identity_hate)"
   ]
  },
  {
   "cell_type": "code",
   "execution_count": null,
   "id": "4f1b42cd",
   "metadata": {},
   "outputs": [],
   "source": []
  }
 ],
 "metadata": {
  "kernelspec": {
   "display_name": "Python 3 (ipykernel)",
   "language": "python",
   "name": "python3"
  },
  "language_info": {
   "codemirror_mode": {
    "name": "ipython",
    "version": 3
   },
   "file_extension": ".py",
   "mimetype": "text/x-python",
   "name": "python",
   "nbconvert_exporter": "python",
   "pygments_lexer": "ipython3",
   "version": "3.10.8"
  }
 },
 "nbformat": 4,
 "nbformat_minor": 5
}
